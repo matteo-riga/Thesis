{
 "cells": [
  {
   "cell_type": "code",
   "execution_count": 1,
   "id": "bfd2cafd-944e-4a0f-9744-e196fe974dc7",
   "metadata": {},
   "outputs": [
    {
     "name": "stderr",
     "output_type": "stream",
     "text": [
      "2024-08-23 12:44:13.742941: I tensorflow/core/util/port.cc:113] oneDNN custom operations are on. You may see slightly different numerical results due to floating-point round-off errors from different computation orders. To turn them off, set the environment variable `TF_ENABLE_ONEDNN_OPTS=0`.\n",
      "2024-08-23 12:44:13.791843: I tensorflow/core/platform/cpu_feature_guard.cc:210] This TensorFlow binary is optimized to use available CPU instructions in performance-critical operations.\n",
      "To enable the following instructions: AVX2 AVX512F AVX512_VNNI FMA, in other operations, rebuild TensorFlow with the appropriate compiler flags.\n",
      "2024-08-23 12:44:14.582698: W tensorflow/compiler/tf2tensorrt/utils/py_utils.cc:38] TF-TRT Warning: Could not find TensorRT\n"
     ]
    }
   ],
   "source": [
    "import os\n",
    "import sys\n",
    "import numpy as np\n",
    "import pandas as pd\n",
    "import json\n",
    "\n",
    "sys.path.append('../')\n",
    "sys.path.append('../src/')\n",
    "sys.path.append('../spell/')\n",
    "\n",
    "import Reader\n",
    "import ParamsExtractor3\n",
    "import DataPreprocessor\n",
    "import EncodeCommand\n",
    "import DeepLearningAnomalyDetection2"
   ]
  },
  {
   "cell_type": "code",
   "execution_count": 2,
   "id": "a568fa01-6691-4480-ba9e-2b597ef7c81e",
   "metadata": {},
   "outputs": [
    {
     "name": "stdout",
     "output_type": "stream",
     "text": [
      "['../data/laurel_anomalous_new/audit.log', '../data/laurel_anomalous_new/audit.log.1', '../data/laurel_anomalous_new/audit.log.2', '../data/laurel_anomalous_new/audit.log.3', '../data/laurel_anomalous_new/audit.log.4', '../data/laurel_anomalous_new/audit.log.5', '../data/laurel_anomalous_new/audit.log.6', '../data/laurel_anomalous_new/audit.log.7']\n"
     ]
    }
   ],
   "source": [
    "# First type of log file:\n",
    "# laurel_anomalous_new\n",
    "fp = '../data/laurel_anomalous_new/audit.log'\n",
    "fps = [fp]\n",
    "fps += [fp + f'.{str(i)}' for i in range(1,8)]\n",
    "print(fps)"
   ]
  },
  {
   "cell_type": "code",
   "execution_count": 3,
   "id": "db5430b4-4ce1-4ec1-b506-252fbe8684c3",
   "metadata": {},
   "outputs": [],
   "source": [
    "fp = fps[0]\n",
    "\n",
    "data_list = []\n",
    "lines_limit = 1000 # limit reading lines, done for memory constraints\n",
    "i = 0\n",
    "\n",
    "with open(fp, 'r') as file:\n",
    "    for line in file:\n",
    "        i+=1\n",
    "        if i > lines_limit:\n",
    "            break\n",
    "            # Find the index of the first '{'\n",
    "        index = line.find('{')\n",
    "        if index != -1:\n",
    "            json_data = line[index:]\n",
    "            data = json.loads(json_data)\n",
    "            data_list.append(data)\n",
    "                \n",
    "df = pd.DataFrame(data_list)"
   ]
  },
  {
   "cell_type": "code",
   "execution_count": 4,
   "id": "553068c3-9d35-4f1e-b7b2-b418fc939ca1",
   "metadata": {},
   "outputs": [
    {
     "data": {
      "text/html": [
       "<div>\n",
       "<style scoped>\n",
       "    .dataframe tbody tr th:only-of-type {\n",
       "        vertical-align: middle;\n",
       "    }\n",
       "\n",
       "    .dataframe tbody tr th {\n",
       "        vertical-align: top;\n",
       "    }\n",
       "\n",
       "    .dataframe thead th {\n",
       "        text-align: right;\n",
       "    }\n",
       "</style>\n",
       "<table border=\"1\" class=\"dataframe\">\n",
       "  <thead>\n",
       "    <tr style=\"text-align: right;\">\n",
       "      <th></th>\n",
       "      <th>ID</th>\n",
       "      <th>SYSCALL</th>\n",
       "      <th>CWD</th>\n",
       "      <th>PATH</th>\n",
       "      <th>PROCTITLE</th>\n",
       "      <th>EXECVE</th>\n",
       "    </tr>\n",
       "  </thead>\n",
       "  <tbody>\n",
       "    <tr>\n",
       "      <th>0</th>\n",
       "      <td>1723373608.018:15989</td>\n",
       "      <td>{'arch': '0xc000003e', 'syscall': 59, 'success...</td>\n",
       "      <td>{'cwd': '/home/matteo/Desktop/priv_esc_scripts...</td>\n",
       "      <td>[{'item': 0, 'name': '/home/matteo/.cargo/bin/...</td>\n",
       "      <td>{'ARGV': ['find', '/', '-type', 'f', '-iname',...</td>\n",
       "      <td>NaN</td>\n",
       "    </tr>\n",
       "    <tr>\n",
       "      <th>1</th>\n",
       "      <td>1723373608.018:15990</td>\n",
       "      <td>{'arch': '0xc000003e', 'syscall': 59, 'success...</td>\n",
       "      <td>{'cwd': '/home/matteo/Desktop/priv_esc_scripts...</td>\n",
       "      <td>[{'item': 0, 'name': '/home/matteo/.local/bin/...</td>\n",
       "      <td>{'ARGV': ['find', '/', '-type', 'f', '-iname',...</td>\n",
       "      <td>NaN</td>\n",
       "    </tr>\n",
       "    <tr>\n",
       "      <th>2</th>\n",
       "      <td>1723373608.018:15991</td>\n",
       "      <td>{'arch': '0xc000003e', 'syscall': 59, 'success...</td>\n",
       "      <td>{'cwd': '/home/matteo/Desktop/priv_esc_scripts...</td>\n",
       "      <td>[{'item': 0, 'name': '/home/matteo/bin/ls', 'n...</td>\n",
       "      <td>{'ARGV': ['find', '/', '-type', 'f', '-iname',...</td>\n",
       "      <td>NaN</td>\n",
       "    </tr>\n",
       "    <tr>\n",
       "      <th>3</th>\n",
       "      <td>1723373608.018:15992</td>\n",
       "      <td>{'arch': '0xc000003e', 'syscall': 59, 'success...</td>\n",
       "      <td>{'cwd': '/home/matteo/Desktop/priv_esc_scripts...</td>\n",
       "      <td>[{'item': 0, 'name': '/usr/share/Modules/bin/l...</td>\n",
       "      <td>{'ARGV': ['find', '/', '-type', 'f', '-iname',...</td>\n",
       "      <td>NaN</td>\n",
       "    </tr>\n",
       "    <tr>\n",
       "      <th>4</th>\n",
       "      <td>1723373608.018:15993</td>\n",
       "      <td>{'arch': '0xc000003e', 'syscall': 59, 'success...</td>\n",
       "      <td>{'cwd': '/home/matteo/Desktop/priv_esc_scripts...</td>\n",
       "      <td>[{'item': 0, 'name': '/usr/local/bin/ls', 'nam...</td>\n",
       "      <td>{'ARGV': ['find', '/', '-type', 'f', '-iname',...</td>\n",
       "      <td>NaN</td>\n",
       "    </tr>\n",
       "  </tbody>\n",
       "</table>\n",
       "</div>"
      ],
      "text/plain": [
       "                     ID                                            SYSCALL  \\\n",
       "0  1723373608.018:15989  {'arch': '0xc000003e', 'syscall': 59, 'success...   \n",
       "1  1723373608.018:15990  {'arch': '0xc000003e', 'syscall': 59, 'success...   \n",
       "2  1723373608.018:15991  {'arch': '0xc000003e', 'syscall': 59, 'success...   \n",
       "3  1723373608.018:15992  {'arch': '0xc000003e', 'syscall': 59, 'success...   \n",
       "4  1723373608.018:15993  {'arch': '0xc000003e', 'syscall': 59, 'success...   \n",
       "\n",
       "                                                 CWD  \\\n",
       "0  {'cwd': '/home/matteo/Desktop/priv_esc_scripts...   \n",
       "1  {'cwd': '/home/matteo/Desktop/priv_esc_scripts...   \n",
       "2  {'cwd': '/home/matteo/Desktop/priv_esc_scripts...   \n",
       "3  {'cwd': '/home/matteo/Desktop/priv_esc_scripts...   \n",
       "4  {'cwd': '/home/matteo/Desktop/priv_esc_scripts...   \n",
       "\n",
       "                                                PATH  \\\n",
       "0  [{'item': 0, 'name': '/home/matteo/.cargo/bin/...   \n",
       "1  [{'item': 0, 'name': '/home/matteo/.local/bin/...   \n",
       "2  [{'item': 0, 'name': '/home/matteo/bin/ls', 'n...   \n",
       "3  [{'item': 0, 'name': '/usr/share/Modules/bin/l...   \n",
       "4  [{'item': 0, 'name': '/usr/local/bin/ls', 'nam...   \n",
       "\n",
       "                                           PROCTITLE EXECVE  \n",
       "0  {'ARGV': ['find', '/', '-type', 'f', '-iname',...    NaN  \n",
       "1  {'ARGV': ['find', '/', '-type', 'f', '-iname',...    NaN  \n",
       "2  {'ARGV': ['find', '/', '-type', 'f', '-iname',...    NaN  \n",
       "3  {'ARGV': ['find', '/', '-type', 'f', '-iname',...    NaN  \n",
       "4  {'ARGV': ['find', '/', '-type', 'f', '-iname',...    NaN  "
      ]
     },
     "execution_count": 4,
     "metadata": {},
     "output_type": "execute_result"
    }
   ],
   "source": [
    "df.head()"
   ]
  },
  {
   "cell_type": "code",
   "execution_count": 5,
   "id": "956bb0d6-d5ac-40e2-b3da-cca8cc101683",
   "metadata": {},
   "outputs": [],
   "source": [
    "def normalize(df, col):\n",
    "    df_expanded = pd.json_normalize(df[col])\n",
    "    #print(df_expanded.head())\n",
    "    df = df.drop(col, axis=1)\n",
    "    df = df.join(df_expanded, rsuffix=f'_{col}')\n",
    "    return df"
   ]
  },
  {
   "cell_type": "code",
   "execution_count": 6,
   "id": "9b671800-16bb-4f1c-bc73-892f7b7be6d0",
   "metadata": {},
   "outputs": [
    {
     "data": {
      "text/plain": [
       "Index(['ID', 'SYSCALL', 'CWD', 'PATH', 'PROCTITLE', 'EXECVE'], dtype='object')"
      ]
     },
     "execution_count": 6,
     "metadata": {},
     "output_type": "execute_result"
    }
   ],
   "source": [
    "df.columns"
   ]
  },
  {
   "cell_type": "code",
   "execution_count": 7,
   "id": "103f5aca-899a-4df2-be4c-0c8ece41208c",
   "metadata": {},
   "outputs": [],
   "source": [
    "df = normalize(df, 'CWD')\n",
    "df = normalize(df, 'PATH')\n",
    "df = normalize(df, 'SYSCALL')\n",
    "df = normalize(df, 'PROCTITLE')\n",
    "df = normalize(df, 'EXECVE')\n",
    "df = normalize(df, 0)\n",
    "df = normalize(df, 1)\n",
    "df.head()\n",
    "\n",
    "df['ARGV_PROCTITLE_str'] = df['ARGV_PROCTITLE'].apply(lambda x: ' '.join(x))\n",
    "\n",
    "df['unix_time'] = pd.to_numeric(df['ID'].str.split(':').str[0])\n",
    "df['timedelta'] = df['unix_time'].diff()\n",
    "df['time'] = pd.to_datetime(df['unix_time'], unit='s')\n",
    "\n",
    "df['ppid_time'] = pd.to_datetime(pd.to_numeric(df['PPID.EVENT_ID'].str.split(':').str[0]), unit='s')\n",
    "df['ppid_timedelta'] = df['ppid_time'].diff()\n",
    "\n",
    "df['pid_time'] = pd.to_datetime(pd.to_numeric(df['PID.EVENT_ID'].str.split(':').str[0]), unit='s')\n",
    "df['pid_timedelta'] = df['pid_time'].diff()\n",
    "\n",
    "df = df.drop(['ID', 'PID.EVENT_ID', 'PPID.EVENT_ID', 'unix_time', 'ARGV_PROCTITLE', 'time', 'pid_time', 'ppid_time'], axis=1)"
   ]
  },
  {
   "cell_type": "code",
   "execution_count": 8,
   "id": "bb55593e-c662-44da-822d-faa84763f695",
   "metadata": {},
   "outputs": [
    {
     "name": "stdout",
     "output_type": "stream",
     "text": [
      "cwd : /home/matteo/Desktop/priv_esc_scripts/linpeas\n",
      "arch : 0xc000003e\n",
      "syscall : 59\n",
      "success : no\n",
      "exit : -2\n",
      "items : 1\n",
      "ppid : 28988\n",
      "pid : 29144\n",
      "auid : 1000\n",
      "uid : 1000\n",
      "gid : 1000\n",
      "euid : 1000\n",
      "suid : 1000\n",
      "fsuid : 1000\n",
      "egid : 1000\n",
      "sgid : 1000\n",
      "fsgid : 1000\n",
      "tty : pts1\n",
      "ses : 3\n",
      "comm : find\n",
      "exe : /usr/bin/find\n",
      "subj : unconfined_u:unconfined_r:unconfined_t:s0-s0:c0.c1023\n",
      "key : exec_log\n",
      "ARCH : x86_64\n",
      "SYSCALL : execve\n",
      "AUID : matteo\n",
      "UID : matteo\n",
      "GID : matteo\n",
      "EUID : matteo\n",
      "SUID : matteo\n",
      "FSUID : matteo\n",
      "EGID : matteo\n",
      "SGID : matteo\n",
      "FSGID : matteo\n",
      "ARGV : ['0x7ffc841ac9a0', '0x55861f767810', '0x7ffc841ad090', '0x7ffc841afa80']\n",
      "UID_GROUPS : ['matteo', 'wheel', 'vboxsf']\n",
      "PPID.comm : find\n",
      "PPID.exe : /usr/bin/find\n",
      "PPID.ppid : 3241\n",
      "argc : nan\n",
      "ARGV_EXECVE : nan\n",
      "item : 0\n",
      "name : /home/matteo/.local/bin/ls\n",
      "nametype : UNKNOWN\n",
      "cap_fp : 0x0\n",
      "cap_fi : 0x0\n",
      "cap_fe : 0\n",
      "cap_fver : 0x0\n",
      "cap_frootid : 0\n",
      "inode : nan\n",
      "dev : nan\n",
      "mode : nan\n",
      "ouid : nan\n",
      "ogid : nan\n",
      "rdev : nan\n",
      "obj : nan\n",
      "OUID : nan\n",
      "OGID : nan\n",
      "item_1 : nan\n",
      "name_1 : nan\n",
      "inode_1 : nan\n",
      "dev_1 : nan\n",
      "mode_1 : nan\n",
      "ouid_1 : nan\n",
      "ogid_1 : nan\n",
      "rdev_1 : nan\n",
      "obj_1 : nan\n",
      "nametype_1 : nan\n",
      "cap_fp_1 : nan\n",
      "cap_fi_1 : nan\n",
      "cap_fe_1 : nan\n",
      "cap_fver_1 : nan\n",
      "cap_frootid_1 : nan\n",
      "OUID_1 : nan\n",
      "OGID_1 : nan\n",
      "ARGV_PROCTITLE_str : find / -type f -iname .* ! -path /sys/* ! -path /System/* ! -path /private/var/* -exec ls -l {} ;\n",
      "timedelta : 0.0\n",
      "ppid_timedelta : 0 days 00:00:00\n",
      "pid_timedelta : 0 days 00:00:00\n"
     ]
    }
   ],
   "source": [
    "for col in df.columns:\n",
    "    print(f'{col} : {df.iloc[1][col]}')"
   ]
  },
  {
   "cell_type": "code",
   "execution_count": 9,
   "id": "aff84951-eb16-4452-aa4c-402a951f3ab0",
   "metadata": {},
   "outputs": [],
   "source": [
    "columns = ['auid', 'uid', 'gid', 'euid', 'suid', 'fsuid', 'egid', 'sgid', 'fsgid']\n",
    "\n",
    "def check_row_id_num(row):\n",
    "    return pd.Series({col: row[col] == 0 for col in columns})\n",
    "\n",
    "checks = df.apply(check_row_id_num, axis=1)\n",
    "df['num_id_anomalies'] = checks.sum(axis=1)\n",
    "df = df.drop(columns, axis=1)"
   ]
  },
  {
   "cell_type": "code",
   "execution_count": 10,
   "id": "ebf1b508-5901-42d8-9a15-d318914860d7",
   "metadata": {},
   "outputs": [],
   "source": [
    "columns = ['AUID', 'UID', 'GID', 'EUID', 'SUID', 'FSUID', 'EGID', 'SGID', 'FSGID']\n",
    "\n",
    "# Use apply to efficiently check values for each row\n",
    "def check_id_row(row):    \n",
    "    return pd.Series({col: int(not(row[col] in row['UID_GROUPS'])) for col in columns})\n",
    "\n",
    "checks = df.apply(check_id_row, axis=1)\n",
    "\n",
    "df['id_anomalies'] = checks.sum(axis=1)\n",
    "df = df.drop(columns, axis=1)\n",
    "df = df.drop('UID_GROUPS', axis=1)"
   ]
  },
  {
   "cell_type": "code",
   "execution_count": null,
   "id": "1c6b5ea6-f3e6-4043-853d-68a5c175c529",
   "metadata": {},
   "outputs": [],
   "source": []
  },
  {
   "cell_type": "code",
   "execution_count": 11,
   "id": "12d6cda2-f965-43ca-8f5e-88c17913d758",
   "metadata": {},
   "outputs": [
    {
     "name": "stdout",
     "output_type": "stream",
     "text": [
      "cwd : /home/matteo/Desktop/priv_esc_scripts/linpeas\n",
      "arch : 0xc000003e\n",
      "syscall : 59\n",
      "success : no\n",
      "exit : -2\n",
      "items : 1\n",
      "ppid : 28988\n",
      "pid : 29144\n",
      "tty : pts1\n",
      "ses : 3\n",
      "comm : find\n",
      "exe : /usr/bin/find\n",
      "subj : unconfined_u:unconfined_r:unconfined_t:s0-s0:c0.c1023\n",
      "key : exec_log\n",
      "ARCH : x86_64\n",
      "SYSCALL : execve\n",
      "ARGV : ['0x7ffc841ac9a0', '0x55861f767810', '0x7ffc841ad090', '0x7ffc841afa80']\n",
      "PPID.comm : find\n",
      "PPID.exe : /usr/bin/find\n",
      "PPID.ppid : 3241\n",
      "argc : nan\n",
      "ARGV_EXECVE : nan\n",
      "item : 0\n",
      "name : /home/matteo/.local/bin/ls\n",
      "nametype : UNKNOWN\n",
      "cap_fp : 0x0\n",
      "cap_fi : 0x0\n",
      "cap_fe : 0\n",
      "cap_fver : 0x0\n",
      "cap_frootid : 0\n",
      "inode : nan\n",
      "dev : nan\n",
      "mode : nan\n",
      "ouid : nan\n",
      "ogid : nan\n",
      "rdev : nan\n",
      "obj : nan\n",
      "OUID : nan\n",
      "OGID : nan\n",
      "item_1 : nan\n",
      "name_1 : nan\n",
      "inode_1 : nan\n",
      "dev_1 : nan\n",
      "mode_1 : nan\n",
      "ouid_1 : nan\n",
      "ogid_1 : nan\n",
      "rdev_1 : nan\n",
      "obj_1 : nan\n",
      "nametype_1 : nan\n",
      "cap_fp_1 : nan\n",
      "cap_fi_1 : nan\n",
      "cap_fe_1 : nan\n",
      "cap_fver_1 : nan\n",
      "cap_frootid_1 : nan\n",
      "OUID_1 : nan\n",
      "OGID_1 : nan\n",
      "ARGV_PROCTITLE_str : find / -type f -iname .* ! -path /sys/* ! -path /System/* ! -path /private/var/* -exec ls -l {} ;\n",
      "timedelta : 0.0\n",
      "ppid_timedelta : 0 days 00:00:00\n",
      "pid_timedelta : 0 days 00:00:00\n",
      "num_id_anomalies : 0\n",
      "id_anomalies : 0\n"
     ]
    }
   ],
   "source": [
    "for col in df.columns:\n",
    "    print(f'{col} : {df.iloc[1][col]}')"
   ]
  },
  {
   "cell_type": "code",
   "execution_count": 12,
   "id": "91ae72d5-cc84-4a27-921d-d5a59a49d666",
   "metadata": {},
   "outputs": [],
   "source": [
    "# filter final columns\n",
    "columns_to_keep = ['cwd', 'exit', 'items', 'ppid', 'pid', 'comm', 'timedelta', 'pid_timedelta', 'ppid_timedelta', 'id_anomalies', 'num_id_anomalies', 'ARGV_PROCTITLE_str']\n",
    "df = df [columns_to_keep]"
   ]
  },
  {
   "cell_type": "code",
   "execution_count": 13,
   "id": "2ae2bbaa-7dfe-4735-99a7-699f65d11b6e",
   "metadata": {},
   "outputs": [
    {
     "data": {
      "text/plain": [
       "cwd                       /home/matteo/Desktop/priv_esc_scripts/linpeas\n",
       "exit                                                                 -2\n",
       "items                                                                 1\n",
       "ppid                                                              28988\n",
       "pid                                                               29144\n",
       "comm                                                               find\n",
       "timedelta                                                           0.0\n",
       "pid_timedelta                                           0 days 00:00:00\n",
       "ppid_timedelta                                          0 days 00:00:00\n",
       "id_anomalies                                                          0\n",
       "num_id_anomalies                                                      0\n",
       "ARGV_PROCTITLE_str    find / -type f -iname .* ! -path /sys/* ! -pat...\n",
       "Name: 1, dtype: object"
      ]
     },
     "execution_count": 13,
     "metadata": {},
     "output_type": "execute_result"
    }
   ],
   "source": [
    "df.iloc[1]"
   ]
  },
  {
   "cell_type": "code",
   "execution_count": 14,
   "id": "3b27800b-05d9-4a79-9b78-709a64af6ee8",
   "metadata": {},
   "outputs": [
    {
     "data": {
      "text/plain": [
       "'/home/rocky/repo/Thesis/notebooks_dataset_creation'"
      ]
     },
     "execution_count": 14,
     "metadata": {},
     "output_type": "execute_result"
    }
   ],
   "source": [
    "os.getcwd()"
   ]
  },
  {
   "cell_type": "code",
   "execution_count": 15,
   "id": "b9115e2e-8357-4354-840f-cc95c1519e4b",
   "metadata": {},
   "outputs": [],
   "source": [
    "# Save this df to file\n",
    "save_fp = '../data/laurel_anomalous_new/save1.csv'\n",
    "df.to_csv(save_fp, index=False)"
   ]
  },
  {
   "cell_type": "code",
   "execution_count": 16,
   "id": "edae4070-a35d-4508-b256-1e9e51b772e0",
   "metadata": {},
   "outputs": [],
   "source": [
    "# Final Preprocessing Function\n",
    "def preprocess_laurel(df):\n",
    "    \n",
    "    df = normalize(df, 'CWD')\n",
    "    df = normalize(df, 'PATH')\n",
    "    df = normalize(df, 'SYSCALL')\n",
    "    df = normalize(df, 'PROCTITLE')\n",
    "    df = normalize(df, 'EXECVE')\n",
    "    df = normalize(df, 0)\n",
    "    df = normalize(df, 1)\n",
    "    print(df.head())\n",
    "\n",
    "    columns_to_keep = ['cwd', 'exit', 'items', 'ppid', 'pid', 'comm', 'timedelta', 'pid_timedelta', 'ppid_timedelta', 'id_anomalies', 'num_id_anomalies', 'ARGV_PROCTITLE_str']\n",
    "    columns_to_drop = ['ID', 'PID.EVENT_ID', 'PPID.EVENT_ID', 'unix_time', 'ARGV_PROCTITLE', 'time', 'pid_time', 'ppid_time']\n",
    "    \n",
    "    try:\n",
    "        df['ARGV_PROCTITLE_str'] = df['ARGV_PROCTITLE'].apply(lambda x: ' '.join(x))\n",
    "    except:\n",
    "        columns_to_keep.remove('ARGV_PROCTITLE_str')\n",
    "        pass\n",
    "    \n",
    "    df['unix_time'] = pd.to_numeric(df['ID'].str.split(':').str[0])\n",
    "    df['timedelta'] = df['unix_time'].diff()\n",
    "    df['time'] = pd.to_datetime(df['unix_time'], unit='s')\n",
    "\n",
    "    try:\n",
    "        df['ppid_time'] = pd.to_datetime(pd.to_numeric(df['PPID.EVENT_ID'].str.split(':').str[0]), unit='s')\n",
    "        df['ppid_timedelta'] = df['ppid_time'].diff()\n",
    "        columns_to_keep.remove('ppid_timedelta')\n",
    "        columns_to_drop.remove('ppid_time')\n",
    "    except:\n",
    "        pass\n",
    "    \n",
    "    df['pid_time'] = pd.to_datetime(pd.to_numeric(df['PID.EVENT_ID'].str.split(':').str[0]), unit='s')\n",
    "    df['pid_timedelta'] = df['pid_time'].diff()\n",
    "    \n",
    "    df = df.drop(columns_to_drop, axis=1)\n",
    "\n",
    "    columns = ['auid', 'uid', 'gid', 'euid', 'suid', 'fsuid', 'egid', 'sgid', 'fsgid']\n",
    "    \n",
    "    def check_row_id_num(row):\n",
    "        return pd.Series({col: row[col] == 0 for col in columns})\n",
    "    \n",
    "    checks = df.apply(check_row_id_num, axis=1)\n",
    "    df['num_id_anomalies'] = checks.sum(axis=1)\n",
    "    df = df.drop(columns, axis=1)\n",
    "\n",
    "    columns = ['AUID', 'UID', 'GID', 'EUID', 'SUID', 'FSUID', 'EGID', 'SGID', 'FSGID']\n",
    "    \n",
    "    # Use apply to efficiently check values for each row\n",
    "    def check_id_row(row):\n",
    "        try:\n",
    "            return pd.Series({col: int(not(row[col] in row['UID_GROUPS'])) for col in columns})\n",
    "        except:\n",
    "            pass\n",
    "    \n",
    "    checks = df.apply(check_id_row, axis=1)\n",
    "    \n",
    "    df['id_anomalies'] = checks.sum(axis=1)\n",
    "    df = df.drop(columns, axis=1)\n",
    "    df = df.drop('UID_GROUPS', axis=1)\n",
    "\n",
    "    # filter final columns\n",
    "    df = df[columns_to_keep]\n",
    "\n",
    "    return df"
   ]
  },
  {
   "cell_type": "code",
   "execution_count": 17,
   "id": "578cb5ce-0242-406b-95da-f205410b3991",
   "metadata": {},
   "outputs": [],
   "source": [
    "def read(fp):\n",
    "    data_list = []\n",
    "    lines_limit = 1000 # limit reading lines, done for memory constraints\n",
    "    i = 0\n",
    "    \n",
    "    with open(fp, 'r') as file:\n",
    "        for line in file:\n",
    "            i+=1\n",
    "            if i > lines_limit:\n",
    "                break\n",
    "                # Find the index of the first '{'\n",
    "            index = line.find('{')\n",
    "            if index != -1:\n",
    "                json_data = line[index:]\n",
    "                data = json.loads(json_data)\n",
    "                data_list.append(data)\n",
    "                    \n",
    "    df = pd.DataFrame(data_list)\n",
    "    return df"
   ]
  },
  {
   "cell_type": "code",
   "execution_count": 18,
   "id": "a3dc0ac0-3ff4-4cd6-957c-ee5b697e9d01",
   "metadata": {},
   "outputs": [],
   "source": [
    "def save(df, save_fp):\n",
    "    # Save this df to file\n",
    "    #save_fp = '../data/laurel_anomalous_new/save1.csv'\n",
    "    df.to_csv(save_fp, index=False)"
   ]
  },
  {
   "cell_type": "code",
   "execution_count": 19,
   "id": "8647cb59-e6e2-4801-9b95-b7c17522dc6f",
   "metadata": {},
   "outputs": [
    {
     "name": "stdout",
     "output_type": "stream",
     "text": [
      "                     ID                                            SYSCALL  \\\n",
      "0  1723373608.018:15989  {'arch': '0xc000003e', 'syscall': 59, 'success...   \n",
      "1  1723373608.018:15990  {'arch': '0xc000003e', 'syscall': 59, 'success...   \n",
      "2  1723373608.018:15991  {'arch': '0xc000003e', 'syscall': 59, 'success...   \n",
      "3  1723373608.018:15992  {'arch': '0xc000003e', 'syscall': 59, 'success...   \n",
      "4  1723373608.018:15993  {'arch': '0xc000003e', 'syscall': 59, 'success...   \n",
      "\n",
      "                                                 CWD  \\\n",
      "0  {'cwd': '/home/matteo/Desktop/priv_esc_scripts...   \n",
      "1  {'cwd': '/home/matteo/Desktop/priv_esc_scripts...   \n",
      "2  {'cwd': '/home/matteo/Desktop/priv_esc_scripts...   \n",
      "3  {'cwd': '/home/matteo/Desktop/priv_esc_scripts...   \n",
      "4  {'cwd': '/home/matteo/Desktop/priv_esc_scripts...   \n",
      "\n",
      "                                                PATH  \\\n",
      "0  [{'item': 0, 'name': '/home/matteo/.cargo/bin/...   \n",
      "1  [{'item': 0, 'name': '/home/matteo/.local/bin/...   \n",
      "2  [{'item': 0, 'name': '/home/matteo/bin/ls', 'n...   \n",
      "3  [{'item': 0, 'name': '/usr/share/Modules/bin/l...   \n",
      "4  [{'item': 0, 'name': '/usr/local/bin/ls', 'nam...   \n",
      "\n",
      "                                           PROCTITLE EXECVE  \n",
      "0  {'ARGV': ['find', '/', '-type', 'f', '-iname',...    NaN  \n",
      "1  {'ARGV': ['find', '/', '-type', 'f', '-iname',...    NaN  \n",
      "2  {'ARGV': ['find', '/', '-type', 'f', '-iname',...    NaN  \n",
      "3  {'ARGV': ['find', '/', '-type', 'f', '-iname',...    NaN  \n",
      "4  {'ARGV': ['find', '/', '-type', 'f', '-iname',...    NaN  \n"
     ]
    },
    {
     "ename": "TypeError",
     "evalue": "string indices must be integers",
     "output_type": "error",
     "traceback": [
      "\u001b[0;31m---------------------------------------------------------------------------\u001b[0m",
      "\u001b[0;31mTypeError\u001b[0m                                 Traceback (most recent call last)",
      "Cell \u001b[0;32mIn[19], line 4\u001b[0m\n\u001b[1;32m      2\u001b[0m df \u001b[38;5;241m=\u001b[39m read(fp)\n\u001b[1;32m      3\u001b[0m \u001b[38;5;28mprint\u001b[39m(df\u001b[38;5;241m.\u001b[39mhead())\n\u001b[0;32m----> 4\u001b[0m df \u001b[38;5;241m=\u001b[39m \u001b[43mpreprocess_laurel\u001b[49m\u001b[43m(\u001b[49m\u001b[43mfp\u001b[49m\u001b[43m)\u001b[49m\n\u001b[1;32m      5\u001b[0m save(df, fp \u001b[38;5;241m+\u001b[39m \u001b[38;5;124m'\u001b[39m\u001b[38;5;124m.csv\u001b[39m\u001b[38;5;124m'\u001b[39m)\n",
      "Cell \u001b[0;32mIn[16], line 4\u001b[0m, in \u001b[0;36mpreprocess_laurel\u001b[0;34m(df)\u001b[0m\n\u001b[1;32m      2\u001b[0m \u001b[38;5;28;01mdef\u001b[39;00m \u001b[38;5;21mpreprocess_laurel\u001b[39m(df):\n\u001b[0;32m----> 4\u001b[0m     df \u001b[38;5;241m=\u001b[39m \u001b[43mnormalize\u001b[49m\u001b[43m(\u001b[49m\u001b[43mdf\u001b[49m\u001b[43m,\u001b[49m\u001b[43m \u001b[49m\u001b[38;5;124;43m'\u001b[39;49m\u001b[38;5;124;43mCWD\u001b[39;49m\u001b[38;5;124;43m'\u001b[39;49m\u001b[43m)\u001b[49m\n\u001b[1;32m      5\u001b[0m     df \u001b[38;5;241m=\u001b[39m normalize(df, \u001b[38;5;124m'\u001b[39m\u001b[38;5;124mPATH\u001b[39m\u001b[38;5;124m'\u001b[39m)\n\u001b[1;32m      6\u001b[0m     df \u001b[38;5;241m=\u001b[39m normalize(df, \u001b[38;5;124m'\u001b[39m\u001b[38;5;124mSYSCALL\u001b[39m\u001b[38;5;124m'\u001b[39m)\n",
      "Cell \u001b[0;32mIn[5], line 2\u001b[0m, in \u001b[0;36mnormalize\u001b[0;34m(df, col)\u001b[0m\n\u001b[1;32m      1\u001b[0m \u001b[38;5;28;01mdef\u001b[39;00m \u001b[38;5;21mnormalize\u001b[39m(df, col):\n\u001b[0;32m----> 2\u001b[0m     df_expanded \u001b[38;5;241m=\u001b[39m pd\u001b[38;5;241m.\u001b[39mjson_normalize(\u001b[43mdf\u001b[49m\u001b[43m[\u001b[49m\u001b[43mcol\u001b[49m\u001b[43m]\u001b[49m)\n\u001b[1;32m      3\u001b[0m     \u001b[38;5;66;03m#print(df_expanded.head())\u001b[39;00m\n\u001b[1;32m      4\u001b[0m     df \u001b[38;5;241m=\u001b[39m df\u001b[38;5;241m.\u001b[39mdrop(col, axis\u001b[38;5;241m=\u001b[39m\u001b[38;5;241m1\u001b[39m)\n",
      "\u001b[0;31mTypeError\u001b[0m: string indices must be integers"
     ]
    }
   ],
   "source": [
    "for fp in fps:\n",
    "    df = read(fp)\n",
    "    print(df.head())\n",
    "    df = preprocess_laurel(fp)\n",
    "    save(df, fp + '.csv')"
   ]
  },
  {
   "cell_type": "code",
   "execution_count": 20,
   "id": "54e4c318-e028-4d90-bc50-506469e6703c",
   "metadata": {},
   "outputs": [
    {
     "data": {
      "text/plain": [
       "['../data/laurel_anomalous_new/audit.log',\n",
       " '../data/laurel_anomalous_new/audit.log.1',\n",
       " '../data/laurel_anomalous_new/audit.log.2',\n",
       " '../data/laurel_anomalous_new/audit.log.3',\n",
       " '../data/laurel_anomalous_new/audit.log.4',\n",
       " '../data/laurel_anomalous_new/audit.log.5',\n",
       " '../data/laurel_anomalous_new/audit.log.6',\n",
       " '../data/laurel_anomalous_new/audit.log.7']"
      ]
     },
     "execution_count": 20,
     "metadata": {},
     "output_type": "execute_result"
    }
   ],
   "source": [
    "fps"
   ]
  },
  {
   "cell_type": "code",
   "execution_count": 21,
   "id": "0bc0d561-5fe3-4726-9a98-c6919bcb941e",
   "metadata": {},
   "outputs": [],
   "source": [
    "anomalous_dataset_fp = fps[0] + '.csv'\n",
    "new_path = '../cleaned_data/anomalous.csv'\n",
    "save(df, new_path)"
   ]
  },
  {
   "cell_type": "code",
   "execution_count": null,
   "id": "0a96e5d1-9ee9-4a54-b755-126bf92931e6",
   "metadata": {},
   "outputs": [],
   "source": []
  }
 ],
 "metadata": {
  "kernelspec": {
   "display_name": "Python 3 (ipykernel)",
   "language": "python",
   "name": "python3"
  },
  "language_info": {
   "codemirror_mode": {
    "name": "ipython",
    "version": 3
   },
   "file_extension": ".py",
   "mimetype": "text/x-python",
   "name": "python",
   "nbconvert_exporter": "python",
   "pygments_lexer": "ipython3",
   "version": "3.9.18"
  }
 },
 "nbformat": 4,
 "nbformat_minor": 5
}
