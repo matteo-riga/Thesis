{
 "cells": [
  {
   "cell_type": "code",
   "execution_count": 1,
   "id": "af20a347-f6fa-49c9-8e0b-e06cada6d543",
   "metadata": {},
   "outputs": [
    {
     "name": "stdout",
     "output_type": "stream",
     "text": [
      "All files have been concatenated into silent.log\n"
     ]
    }
   ],
   "source": [
    "import os\n",
    "\n",
    "def concatenate_files(input_files, output_file):\n",
    "    with open(output_file, 'w') as outfile:\n",
    "        for filename in input_files:\n",
    "            with open(filename, 'r') as infile:\n",
    "                # Read each input file and write its content to the output file\n",
    "                outfile.write(infile.read())\n",
    "                outfile.write(\"\\n\")  # Optional: Adds a newline between files\n",
    "\n",
    "# List of 10 input files (full paths or filenames)\n",
    "input_files = ['../data/silent/audit.log', '../data/silent/audit.log.1', '../data/silent/audit.log.2', '../data/silent/audit.log.3', '../data/silent/audit.log.4', '../data/silent/audit.log.5', '../data/silent/audit.log.6', '../data/silent/audit.log.7', '../data/silent/audit.log.8', '../data/silent/audit.log.9', '../data/silent/audit.log.10']\n",
    "input_files = input_files[::-1]\n",
    "# Output file where the concatenated content will be written\n",
    "output_file = 'silent.log'\n",
    "\n",
    "# Call the function to concatenate the files\n",
    "concatenate_files(input_files, output_file)\n",
    "\n",
    "print(f\"All files have been concatenated into {output_file}\")\n"
   ]
  },
  {
   "cell_type": "code",
   "execution_count": null,
   "id": "41abe973-be09-486d-b797-7a9aa8851262",
   "metadata": {},
   "outputs": [],
   "source": []
  }
 ],
 "metadata": {
  "kernelspec": {
   "display_name": "Python 3 (ipykernel)",
   "language": "python",
   "name": "python3"
  },
  "language_info": {
   "codemirror_mode": {
    "name": "ipython",
    "version": 3
   },
   "file_extension": ".py",
   "mimetype": "text/x-python",
   "name": "python",
   "nbconvert_exporter": "python",
   "pygments_lexer": "ipython3",
   "version": "3.9.18"
  }
 },
 "nbformat": 4,
 "nbformat_minor": 5
}
