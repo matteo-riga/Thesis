{
 "cells": [
  {
   "cell_type": "code",
   "execution_count": null,
   "id": "af42d2d4-ffd3-4103-a19b-4da0ef896b15",
   "metadata": {},
   "outputs": [],
   "source": [
    "import os\n",
    "import sys\n",
    "import pandas as pd\n",
    "from datetime import datetime, timedelta\n",
    "import hashlib"
   ]
  },
  {
   "cell_type": "code",
   "execution_count": null,
   "id": "453bc9ec-7409-48b4-b4d2-c20dc311d186",
   "metadata": {},
   "outputs": [],
   "source": [
    "sys.path.append('../')\n",
    "sys.path.append('../src/')\n",
    "sys.path.append('../spell/')"
   ]
  },
  {
   "cell_type": "code",
   "execution_count": null,
   "id": "00c62dd9-37ad-4af9-ab29-bf46c3a66f4b",
   "metadata": {},
   "outputs": [],
   "source": [
    "import EncodeCommand"
   ]
  },
  {
   "cell_type": "code",
   "execution_count": null,
   "id": "710cfd92-6ce4-45de-a66f-f62c59dce364",
   "metadata": {},
   "outputs": [],
   "source": [
    "normal = pd.read_csv('../cleaned_data/normal.csv')\n",
    "anomalous = pd.read_csv('../cleaned_data/anomalous0.csv')"
   ]
  },
  {
   "cell_type": "code",
   "execution_count": null,
   "id": "ebd245a9-8e3a-4df4-9826-6933798e8a3f",
   "metadata": {},
   "outputs": [],
   "source": [
    "normal.head()"
   ]
  },
  {
   "cell_type": "code",
   "execution_count": null,
   "id": "5436b02d-ebd5-4d48-aa06-fb97ff1fa664",
   "metadata": {},
   "outputs": [],
   "source": [
    "anomalous.head()"
   ]
  },
  {
   "cell_type": "markdown",
   "id": "b7242bc4-c686-4f7e-821d-487dbfcc3875",
   "metadata": {},
   "source": [
    "## Preprocessing"
   ]
  },
  {
   "cell_type": "code",
   "execution_count": null,
   "id": "8a4e3a0c-c2bc-4dd0-b156-5c6dbb921163",
   "metadata": {},
   "outputs": [],
   "source": [
    "normal.columns"
   ]
  },
  {
   "cell_type": "code",
   "execution_count": null,
   "id": "6f0578a3-e5c2-40a9-a6f8-149d57624ca1",
   "metadata": {},
   "outputs": [],
   "source": [
    "def count_directories(path):\n",
    "    try:\n",
    "        # Split the path into components\n",
    "        components = path.split(os.sep)\n",
    "        # Filter out empty components (which can occur if the path starts with a separator)\n",
    "        directories = [comp for comp in components if comp]\n",
    "    except:\n",
    "        directories = []\n",
    "    return len(directories)"
   ]
  },
  {
   "cell_type": "code",
   "execution_count": null,
   "id": "46390f43-7df3-41b7-931b-69fc9b0db4dd",
   "metadata": {},
   "outputs": [],
   "source": [
    "def string_to_milliseconds(time_str):\n",
    "    try:\n",
    "        # Step 1: Parse the string into days and time component\n",
    "        time_parts = time_str.split(' days ')\n",
    "        days = int(time_parts[0])\n",
    "        time_component = time_parts[1]\n",
    "        \n",
    "        # Step 2: Split the time component into hours, minutes, seconds, and microseconds\n",
    "        hours, minutes, seconds = map(float, time_component.replace(':', ' ').split())\n",
    "        \n",
    "        # Step 3: Create a timedelta object\n",
    "        time_delta = timedelta(\n",
    "            days=days,\n",
    "            hours=int(hours),\n",
    "            minutes=int(minutes),\n",
    "            seconds=int(seconds),\n",
    "            microseconds=int((seconds - int(seconds)) * 1_000_000)\n",
    "        )\n",
    "        \n",
    "        # Step 4: Convert the timedelta object to milliseconds\n",
    "        milliseconds = time_delta.total_seconds() * 1000\n",
    "    except:\n",
    "        milliseconds = 0\n",
    "    return abs(milliseconds)"
   ]
  },
  {
   "cell_type": "code",
   "execution_count": null,
   "id": "bf34d41f-f6ae-4b23-a8bc-716838b8fb7a",
   "metadata": {},
   "outputs": [],
   "source": [
    "def encode_pid_to_8bit_binary_hash(pid):\n",
    "    \"\"\"\n",
    "    Encode a PID (Process ID) using SHA-256 hash and return an 8-bit binary string.\n",
    "\n",
    "    Parameters:\n",
    "    pid (int): The process ID to encode.\n",
    "\n",
    "    Returns:\n",
    "    str: An 8-bit binary representation of the hash of the PID.\n",
    "    \"\"\"\n",
    "    # Convert the PID to a string and then to bytes\n",
    "    pid_bytes = str(pid).encode('utf-8')\n",
    "    \n",
    "    # Compute the SHA-256 hash of the PID\n",
    "    hash_object = hashlib.sha256(pid_bytes)\n",
    "    \n",
    "    # Get the hash as a hexadecimal string\n",
    "    hash_hex = hash_object.hexdigest()\n",
    "    \n",
    "    # Convert the first byte (2 hex digits) of the hash to an integer\n",
    "    first_byte = int(hash_hex[:2], 16)\n",
    "    \n",
    "    # Convert the integer to an 8-bit binary string\n",
    "    binary_hash = format(first_byte, '08b')\n",
    "\n",
    "    # final int\n",
    "    r = int(binary_hash,2)\n",
    "    \n",
    "    return float(r/256)"
   ]
  },
  {
   "cell_type": "code",
   "execution_count": null,
   "id": "0d460ec8-54f0-4911-a5ae-d3e9c7a9c7e7",
   "metadata": {},
   "outputs": [],
   "source": [
    "def preprocess(df, encoder):\n",
    "    \n",
    "    # Select only common columns\n",
    "    cols = ['cwd', 'exit', 'items', 'ppid', 'pid', 'comm', 'timedelta', 'pid_timedelta', 'id_anomalies', 'num_id_anomalies']\n",
    "    df = df[cols]\n",
    "\n",
    "    # convert times to numbers\n",
    "    try:\n",
    "        df['pid_timedelta_ms'] = df['pid_timedelta'].apply(string_to_milliseconds)\n",
    "        df = df.drop('pid_timedelta', axis=1)\n",
    "    except:\n",
    "        pass\n",
    "    \n",
    "    # Fill NaN values with 0\n",
    "    df = df.fillna(0)\n",
    "    \n",
    "    # preprocess cwd column by extracting path length\n",
    "    df['fp_length'] = df['cwd'].apply(count_directories)\n",
    "    df = df.drop('cwd', axis=1)\n",
    "\n",
    "    # encode the command\n",
    "    df = encoder.encode_command(df)\n",
    "    df = df.drop('comm', axis=1)\n",
    "\n",
    "    # encode the pids\n",
    "    df['pid'] = df['pid'].apply(encode_pid_to_8bit_binary_hash)\n",
    "    df['ppid'] = df['ppid'].apply(encode_pid_to_8bit_binary_hash)\n",
    "    \n",
    "\n",
    "    # convert all df to floats\n",
    "    df = df.astype(float)\n",
    "    \n",
    "    return df\n",
    "    "
   ]
  },
  {
   "cell_type": "code",
   "execution_count": null,
   "id": "177ad359-5f33-4800-9472-a1c9753a2ff8",
   "metadata": {},
   "outputs": [],
   "source": [
    "encoder = EncodeCommand.EncodeCommand()"
   ]
  },
  {
   "cell_type": "code",
   "execution_count": null,
   "id": "b7ef2d71-7b2b-4354-9fda-9ab718909d26",
   "metadata": {},
   "outputs": [],
   "source": [
    "n1 = preprocess(normal, encoder)\n",
    "n1.head()"
   ]
  },
  {
   "cell_type": "code",
   "execution_count": null,
   "id": "4870c0cb-095a-4d12-9c9a-c1dfcb3d9b58",
   "metadata": {},
   "outputs": [],
   "source": [
    "a1 = preprocess(anomalous, encoder)\n",
    "a1.head()"
   ]
  },
  {
   "cell_type": "markdown",
   "id": "55f1a869-9240-473c-a17d-1ac54ba61a14",
   "metadata": {},
   "source": [
    "## an det"
   ]
  },
  {
   "cell_type": "code",
   "execution_count": null,
   "id": "76e1aa9d-450e-4fb1-a767-61f2329ca1ac",
   "metadata": {},
   "outputs": [],
   "source": [
    "import DeepLearningAnomalyDetection2"
   ]
  },
  {
   "cell_type": "code",
   "execution_count": null,
   "id": "1a2dd32f-5414-420f-b4b7-9a2756e97e04",
   "metadata": {},
   "outputs": [],
   "source": [
    "d_an_det = DeepLearningAnomalyDetection2.DeepLearningAnomalyDetection()\n",
    "true_anomalies, reconstructed_anomalies, fp_ = d_an_det.train_test_model(n1, a1, 'autoencoder', laurel=1, plots=[0,0,1,1])"
   ]
  }
 ],
 "metadata": {
  "kernelspec": {
   "display_name": "Python 3 (ipykernel)",
   "language": "python",
   "name": "python3"
  },
  "language_info": {
   "codemirror_mode": {
    "name": "ipython",
    "version": 3
   },
   "file_extension": ".py",
   "mimetype": "text/x-python",
   "name": "python",
   "nbconvert_exporter": "python",
   "pygments_lexer": "ipython3",
   "version": "3.9.18"
  }
 },
 "nbformat": 4,
 "nbformat_minor": 5
}
