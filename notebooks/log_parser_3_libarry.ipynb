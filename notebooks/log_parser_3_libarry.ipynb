{
 "cells": [
  {
   "cell_type": "markdown",
   "id": "e5cb0635-51e1-4b01-9013-62b3118ff531",
   "metadata": {},
   "source": [
    "# Log Parser Library"
   ]
  },
  {
   "cell_type": "code",
   "execution_count": 1,
   "id": "682b830f-fe28-4c76-aee4-9005a57c8fbd",
   "metadata": {},
   "outputs": [],
   "source": [
    "import os\n",
    "import sys\n",
    "import numpy as np\n",
    "import pandas as pd"
   ]
  },
  {
   "cell_type": "code",
   "execution_count": 2,
   "id": "327bc5d9-cbb5-4485-8b99-e3a3951c1b52",
   "metadata": {},
   "outputs": [],
   "source": [
    "sys.path.append('../')\n",
    "sys.path.append('../src/')\n",
    "sys.path.append('../spell/')"
   ]
  },
  {
   "cell_type": "code",
   "execution_count": 3,
   "id": "b446d483-4316-45a1-bc84-1b3a843bcdef",
   "metadata": {},
   "outputs": [
    {
     "name": "stderr",
     "output_type": "stream",
     "text": [
      "2024-07-14 19:55:30.606227: I tensorflow/core/util/port.cc:113] oneDNN custom operations are on. You may see slightly different numerical results due to floating-point round-off errors from different computation orders. To turn them off, set the environment variable `TF_ENABLE_ONEDNN_OPTS=0`.\n",
      "2024-07-14 19:55:30.655645: I tensorflow/core/platform/cpu_feature_guard.cc:210] This TensorFlow binary is optimized to use available CPU instructions in performance-critical operations.\n",
      "To enable the following instructions: AVX2 AVX512F AVX512_VNNI FMA, in other operations, rebuild TensorFlow with the appropriate compiler flags.\n",
      "2024-07-14 19:55:31.452253: W tensorflow/compiler/tf2tensorrt/utils/py_utils.cc:38] TF-TRT Warning: Could not find TensorRT\n"
     ]
    }
   ],
   "source": [
    "import Reader\n",
    "import ParamsExtractor2\n",
    "import DataPreprocessor\n",
    "import DeepLearningAnomalyDetection2"
   ]
  },
  {
   "cell_type": "code",
   "execution_count": 13,
   "id": "a2c71ccf-bc86-4fb2-919b-08321b9ff744",
   "metadata": {},
   "outputs": [
    {
     "data": {
      "text/plain": [
       "'../../../temp_logs/login01.cron.log'"
      ]
     },
     "execution_count": 13,
     "metadata": {},
     "output_type": "execute_result"
    }
   ],
   "source": [
    "existing_file_paths[0]"
   ]
  },
  {
   "cell_type": "code",
   "execution_count": 4,
   "id": "0807353e-782a-4855-87aa-ddf25ac30291",
   "metadata": {},
   "outputs": [
    {
     "name": "stdout",
     "output_type": "stream",
     "text": [
      "['../../../temp_logs/login01.cron.log', '../../../temp_logs/login01.laurel.log', '../../../temp_logs/login01.maillog.log', '../../../temp_logs/login01.messages.log', '../../../temp_logs/login01.secure.log', '../../../temp_logs/login01.user.log']\n"
     ]
    }
   ],
   "source": [
    "log_types = ['cron', 'laurel', 'maillog', 'messages', 'secure', 'user']\n",
    "file_paths = ['../../../temp_logs/login01.' + logtype + '.log' for logtype in log_types]\n",
    "\n",
    "# Filter the list to include only existing files\n",
    "existing_file_paths = [path for path in file_paths if os.path.exists(path)]\n",
    "print(existing_file_paths)\n",
    "\n",
    "df_list = []\n",
    "\n",
    "for file_path in existing_file_paths:\n",
    "    r = Reader.Reader(file_path)\n",
    "    df = r.read_file(file_path)\n",
    "    df_list.append(df)"
   ]
  },
  {
   "cell_type": "code",
   "execution_count": 5,
   "id": "40acd8cb-127d-4e78-a47c-335d3679ff0a",
   "metadata": {},
   "outputs": [
    {
     "data": {
      "text/html": [
       "<div>\n",
       "<style scoped>\n",
       "    .dataframe tbody tr th:only-of-type {\n",
       "        vertical-align: middle;\n",
       "    }\n",
       "\n",
       "    .dataframe tbody tr th {\n",
       "        vertical-align: top;\n",
       "    }\n",
       "\n",
       "    .dataframe thead th {\n",
       "        text-align: right;\n",
       "    }\n",
       "</style>\n",
       "<table border=\"1\" class=\"dataframe\">\n",
       "  <thead>\n",
       "    <tr style=\"text-align: right;\">\n",
       "      <th></th>\n",
       "      <th>host</th>\n",
       "      <th>ident</th>\n",
       "      <th>pid</th>\n",
       "      <th>message</th>\n",
       "      <th>severity</th>\n",
       "      <th>facility</th>\n",
       "      <th>time</th>\n",
       "    </tr>\n",
       "  </thead>\n",
       "  <tbody>\n",
       "    <tr>\n",
       "      <th>0</th>\n",
       "      <td>login01</td>\n",
       "      <td>CROND</td>\n",
       "      <td>53766</td>\n",
       "      <td>(root) CMD (/cinecalocal/scripts/clean_shm_fil...</td>\n",
       "      <td>info</td>\n",
       "      <td>cron</td>\n",
       "      <td>2024-03-27 00:00:01 +0100</td>\n",
       "    </tr>\n",
       "    <tr>\n",
       "      <th>1</th>\n",
       "      <td>login01</td>\n",
       "      <td>CROND</td>\n",
       "      <td>53767</td>\n",
       "      <td>(root) CMD ( /cinecalocal/nagios/passive/passi...</td>\n",
       "      <td>info</td>\n",
       "      <td>cron</td>\n",
       "      <td>2024-03-27 00:00:01 +0100</td>\n",
       "    </tr>\n",
       "    <tr>\n",
       "      <th>2</th>\n",
       "      <td>login01</td>\n",
       "      <td>CROND</td>\n",
       "      <td>53822</td>\n",
       "      <td>(a07cmc01) CMD (source /g100_work/CMCC_medfs_0...</td>\n",
       "      <td>info</td>\n",
       "      <td>cron</td>\n",
       "      <td>2024-03-27 00:00:01 +0100</td>\n",
       "    </tr>\n",
       "    <tr>\n",
       "      <th>3</th>\n",
       "      <td>login01</td>\n",
       "      <td>CROND</td>\n",
       "      <td>53823</td>\n",
       "      <td>(a07cmc01) CMD (/g100_work/CMCC_medfs_0/downlo...</td>\n",
       "      <td>info</td>\n",
       "      <td>cron</td>\n",
       "      <td>2024-03-27 00:00:01 +0100</td>\n",
       "    </tr>\n",
       "    <tr>\n",
       "      <th>4</th>\n",
       "      <td>login01</td>\n",
       "      <td>CROND</td>\n",
       "      <td>55382</td>\n",
       "      <td>(root) CMD (run-parts /etc/cron.hourly)</td>\n",
       "      <td>info</td>\n",
       "      <td>cron</td>\n",
       "      <td>2024-03-27 00:01:01 +0100</td>\n",
       "    </tr>\n",
       "  </tbody>\n",
       "</table>\n",
       "</div>"
      ],
      "text/plain": [
       "      host  ident    pid                                            message  \\\n",
       "0  login01  CROND  53766  (root) CMD (/cinecalocal/scripts/clean_shm_fil...   \n",
       "1  login01  CROND  53767  (root) CMD ( /cinecalocal/nagios/passive/passi...   \n",
       "2  login01  CROND  53822  (a07cmc01) CMD (source /g100_work/CMCC_medfs_0...   \n",
       "3  login01  CROND  53823  (a07cmc01) CMD (/g100_work/CMCC_medfs_0/downlo...   \n",
       "4  login01  CROND  55382            (root) CMD (run-parts /etc/cron.hourly)   \n",
       "\n",
       "  severity facility                       time  \n",
       "0     info     cron  2024-03-27 00:00:01 +0100  \n",
       "1     info     cron  2024-03-27 00:00:01 +0100  \n",
       "2     info     cron  2024-03-27 00:00:01 +0100  \n",
       "3     info     cron  2024-03-27 00:00:01 +0100  \n",
       "4     info     cron  2024-03-27 00:01:01 +0100  "
      ]
     },
     "execution_count": 5,
     "metadata": {},
     "output_type": "execute_result"
    }
   ],
   "source": [
    "df_list[0].head()"
   ]
  },
  {
   "cell_type": "code",
   "execution_count": 6,
   "id": "09bfecd6-06cb-4149-bec4-7021f7cec663",
   "metadata": {},
   "outputs": [],
   "source": [
    "content_column = df['message']"
   ]
  },
  {
   "cell_type": "code",
   "execution_count": 7,
   "id": "321b3133-fcf2-4a38-94ce-a43fb620eacd",
   "metadata": {},
   "outputs": [],
   "source": [
    "with open('content_column.txt', 'w') as file:\n",
    "    file.write(\"Message\\n\")\n",
    "    for value in content_column:\n",
    "        file.write(f\"{value}\\n\")"
   ]
  },
  {
   "cell_type": "markdown",
   "id": "8abbf194-bc04-4e9f-9c06-f4d53e55a5e4",
   "metadata": {},
   "source": [
    "IMPORTANT: need to parse only the message part. Insert this after json preprocessing"
   ]
  },
  {
   "cell_type": "markdown",
   "id": "06bcb97b-17dd-445e-8ec6-cc70e8f9c97c",
   "metadata": {},
   "source": [
    "Drain and Spell"
   ]
  },
  {
   "cell_type": "code",
   "execution_count": 16,
   "id": "5b26df3c-8a08-4c7b-8284-0a9f24fda5c8",
   "metadata": {},
   "outputs": [
    {
     "name": "stdout",
     "output_type": "stream",
     "text": [
      "Parsing file: content_column.txt\n",
      "Processed 100.0% of log lines.\n",
      "Parsing done. [Time taken: 0:00:00.613359]\n"
     ]
    }
   ],
   "source": [
    "import os\n",
    "from logparser.Spell import LogParser\n",
    "\n",
    "# Define paths\n",
    "input_dir = ''  # The input directory of log files\n",
    "output_dir = '../result/'  # The output directory of parsing results\n",
    "log_file = 'content_column.txt'  # The input log file name\n",
    "\n",
    "# Define log format\n",
    "log_format = '<Content>'  # Adjusted to fit the timestamp and JSON structure\n",
    "\n",
    "# Regular expression list for optional preprocessing (default: [])\n",
    "# This regex pattern matches IPv4 addresses\n",
    "regex = [r'(\\d{1,3}\\.){3}\\d{1,3}']\n",
    "\n",
    "# Parameters for the Drain parser\n",
    "st = 0.8  # Similarity threshold\n",
    "depth = 2  # Depth of all leaf nodes\n",
    "\n",
    "tau        = 0.5  # Message type threshold (default: 0.5)\n",
    "\n",
    "# Initialize and run the parser\n",
    "# Drain\n",
    "#parser = LogParser(log_format, indir=input_dir, outdir=output_dir, depth=depth, st=st, rex=regex)\n",
    "# Spell\n",
    "parser = LogParser(indir=input_dir, outdir=output_dir, log_format=log_format, tau=tau, rex=regex)\n",
    "parser.parse(log_file)\n"
   ]
  },
  {
   "cell_type": "code",
   "execution_count": null,
   "id": "b8afaa72-7875-4d07-83a9-10f20e45a412",
   "metadata": {},
   "outputs": [],
   "source": []
  }
 ],
 "metadata": {
  "kernelspec": {
   "display_name": "Python 3 (ipykernel)",
   "language": "python",
   "name": "python3"
  },
  "language_info": {
   "codemirror_mode": {
    "name": "ipython",
    "version": 3
   },
   "file_extension": ".py",
   "mimetype": "text/x-python",
   "name": "python",
   "nbconvert_exporter": "python",
   "pygments_lexer": "ipython3",
   "version": "3.9.18"
  }
 },
 "nbformat": 4,
 "nbformat_minor": 5
}
