{
 "cells": [
  {
   "cell_type": "markdown",
   "id": "e5cb0635-51e1-4b01-9013-62b3118ff531",
   "metadata": {},
   "source": [
    "# Log Parser Library"
   ]
  },
  {
   "cell_type": "code",
   "execution_count": 2,
   "id": "d4450679-f9ad-41e9-bc25-81d3387e6d2c",
   "metadata": {},
   "outputs": [],
   "source": [
    "log_types = ['cron', 'laurel', 'maillog', 'messages', 'secure', 'user']\n",
    "file_paths = ['../../../temp_logs/login01.' + logtype + '.log' for logtype in log_types]\n",
    "fp = file_paths[0]"
   ]
  },
  {
   "cell_type": "code",
   "execution_count": 3,
   "id": "09bfecd6-06cb-4149-bec4-7021f7cec663",
   "metadata": {},
   "outputs": [
    {
     "data": {
      "text/plain": [
       "'../../../temp_logs/login01.cron.log'"
      ]
     },
     "execution_count": 3,
     "metadata": {},
     "output_type": "execute_result"
    }
   ],
   "source": [
    "fp"
   ]
  },
  {
   "cell_type": "markdown",
   "id": "8abbf194-bc04-4e9f-9c06-f4d53e55a5e4",
   "metadata": {},
   "source": [
    "IMPORTANT: need to parse only the message part. Insert this after json preprocessing"
   ]
  },
  {
   "cell_type": "code",
   "execution_count": 11,
   "id": "5b26df3c-8a08-4c7b-8284-0a9f24fda5c8",
   "metadata": {},
   "outputs": [
    {
     "name": "stdout",
     "output_type": "stream",
     "text": [
      "Parsing file: ../../../temp_logs/login01.cron.log\n",
      "Total lines:  548\n",
      "Processed 100.0% of log lines.\n",
      "Parsing done. [Time taken: 0:00:00.103617]\n"
     ]
    }
   ],
   "source": [
    "import os\n",
    "from logparser.Drain import LogParser\n",
    "\n",
    "# Define paths\n",
    "input_dir = '../../../temp_logs/'  # The input directory of log files\n",
    "output_dir = '../result/'  # The output directory of parsing results\n",
    "log_file = 'login01.cron.log'  # The input log file name\n",
    "\n",
    "# Define log format\n",
    "log_format = '<Time> <Time> <Content>'  # Adjusted to fit the timestamp and JSON structure\n",
    "\n",
    "# Regular expression list for optional preprocessing (default: [])\n",
    "# This regex pattern matches IPv4 addresses\n",
    "regex = [r'(\\d{1,3}\\.){3}\\d{1,3}']\n",
    "\n",
    "# Parameters for the Drain parser\n",
    "st = 0.5  # Similarity threshold\n",
    "depth = 4  # Depth of all leaf nodes\n",
    "\n",
    "# Initialize and run the parser\n",
    "parser = LogParser(log_format, indir=input_dir, outdir=output_dir, depth=depth, st=st, rex=regex)\n",
    "parser.parse(log_file)\n"
   ]
  },
  {
   "cell_type": "code",
   "execution_count": 7,
   "id": "4652e261-4e02-45d3-979a-aa2ffe389d10",
   "metadata": {},
   "outputs": [
    {
     "ename": "AttributeError",
     "evalue": "'LogParser' object has no attribute 'print_tree'",
     "output_type": "error",
     "traceback": [
      "\u001b[0;31m---------------------------------------------------------------------------\u001b[0m",
      "\u001b[0;31mAttributeError\u001b[0m                            Traceback (most recent call last)",
      "Cell \u001b[0;32mIn[7], line 1\u001b[0m\n\u001b[0;32m----> 1\u001b[0m \u001b[43mparser\u001b[49m\u001b[38;5;241;43m.\u001b[39;49m\u001b[43mprint_tree\u001b[49m()\n",
      "\u001b[0;31mAttributeError\u001b[0m: 'LogParser' object has no attribute 'print_tree'"
     ]
    }
   ],
   "source": [
    "parser.print_tree()"
   ]
  },
  {
   "cell_type": "code",
   "execution_count": null,
   "id": "b8afaa72-7875-4d07-83a9-10f20e45a412",
   "metadata": {},
   "outputs": [],
   "source": []
  }
 ],
 "metadata": {
  "kernelspec": {
   "display_name": "Python 3 (ipykernel)",
   "language": "python",
   "name": "python3"
  },
  "language_info": {
   "codemirror_mode": {
    "name": "ipython",
    "version": 3
   },
   "file_extension": ".py",
   "mimetype": "text/x-python",
   "name": "python",
   "nbconvert_exporter": "python",
   "pygments_lexer": "ipython3",
   "version": "3.9.18"
  }
 },
 "nbformat": 4,
 "nbformat_minor": 5
}
