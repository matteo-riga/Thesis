{
 "cells": [
  {
   "cell_type": "code",
   "execution_count": 1,
   "id": "2da26446-5b8a-4a37-846f-343590597fde",
   "metadata": {},
   "outputs": [],
   "source": [
    "import Reader"
   ]
  },
  {
   "cell_type": "code",
   "execution_count": 2,
   "id": "efb02537-1e42-4db4-b64d-533612de1657",
   "metadata": {},
   "outputs": [
    {
     "data": {
      "text/html": [
       "<div>\n",
       "<style scoped>\n",
       "    .dataframe tbody tr th:only-of-type {\n",
       "        vertical-align: middle;\n",
       "    }\n",
       "\n",
       "    .dataframe tbody tr th {\n",
       "        vertical-align: top;\n",
       "    }\n",
       "\n",
       "    .dataframe thead th {\n",
       "        text-align: right;\n",
       "    }\n",
       "</style>\n",
       "<table border=\"1\" class=\"dataframe\">\n",
       "  <thead>\n",
       "    <tr style=\"text-align: right;\">\n",
       "      <th></th>\n",
       "      <th>host</th>\n",
       "      <th>ident</th>\n",
       "      <th>pid</th>\n",
       "      <th>message</th>\n",
       "      <th>severity</th>\n",
       "      <th>facility</th>\n",
       "      <th>time</th>\n",
       "    </tr>\n",
       "  </thead>\n",
       "  <tbody>\n",
       "    <tr>\n",
       "      <th>0</th>\n",
       "      <td>login01</td>\n",
       "      <td>CROND</td>\n",
       "      <td>53766</td>\n",
       "      <td>(root) CMD (/cinecalocal/scripts/clean_shm_fil...</td>\n",
       "      <td>info</td>\n",
       "      <td>cron</td>\n",
       "      <td>2024-03-27 00:00:01 +0100</td>\n",
       "    </tr>\n",
       "    <tr>\n",
       "      <th>1</th>\n",
       "      <td>login01</td>\n",
       "      <td>CROND</td>\n",
       "      <td>53767</td>\n",
       "      <td>(root) CMD ( /cinecalocal/nagios/passive/passi...</td>\n",
       "      <td>info</td>\n",
       "      <td>cron</td>\n",
       "      <td>2024-03-27 00:00:01 +0100</td>\n",
       "    </tr>\n",
       "    <tr>\n",
       "      <th>2</th>\n",
       "      <td>login01</td>\n",
       "      <td>CROND</td>\n",
       "      <td>53822</td>\n",
       "      <td>(a07cmc01) CMD (source /g100_work/CMCC_medfs_0...</td>\n",
       "      <td>info</td>\n",
       "      <td>cron</td>\n",
       "      <td>2024-03-27 00:00:01 +0100</td>\n",
       "    </tr>\n",
       "    <tr>\n",
       "      <th>3</th>\n",
       "      <td>login01</td>\n",
       "      <td>CROND</td>\n",
       "      <td>53823</td>\n",
       "      <td>(a07cmc01) CMD (/g100_work/CMCC_medfs_0/downlo...</td>\n",
       "      <td>info</td>\n",
       "      <td>cron</td>\n",
       "      <td>2024-03-27 00:00:01 +0100</td>\n",
       "    </tr>\n",
       "    <tr>\n",
       "      <th>4</th>\n",
       "      <td>login01</td>\n",
       "      <td>CROND</td>\n",
       "      <td>55382</td>\n",
       "      <td>(root) CMD (run-parts /etc/cron.hourly)</td>\n",
       "      <td>info</td>\n",
       "      <td>cron</td>\n",
       "      <td>2024-03-27 00:01:01 +0100</td>\n",
       "    </tr>\n",
       "  </tbody>\n",
       "</table>\n",
       "</div>"
      ],
      "text/plain": [
       "      host  ident    pid                                            message  \\\n",
       "0  login01  CROND  53766  (root) CMD (/cinecalocal/scripts/clean_shm_fil...   \n",
       "1  login01  CROND  53767  (root) CMD ( /cinecalocal/nagios/passive/passi...   \n",
       "2  login01  CROND  53822  (a07cmc01) CMD (source /g100_work/CMCC_medfs_0...   \n",
       "3  login01  CROND  53823  (a07cmc01) CMD (/g100_work/CMCC_medfs_0/downlo...   \n",
       "4  login01  CROND  55382            (root) CMD (run-parts /etc/cron.hourly)   \n",
       "\n",
       "  severity facility                       time  \n",
       "0     info     cron  2024-03-27 00:00:01 +0100  \n",
       "1     info     cron  2024-03-27 00:00:01 +0100  \n",
       "2     info     cron  2024-03-27 00:00:01 +0100  \n",
       "3     info     cron  2024-03-27 00:00:01 +0100  \n",
       "4     info     cron  2024-03-27 00:01:01 +0100  "
      ]
     },
     "execution_count": 2,
     "metadata": {},
     "output_type": "execute_result"
    }
   ],
   "source": [
    "log_types = ['cron', 'laurel', 'maillog', 'messages', 'secure', 'user']\n",
    "file_paths = ['../../../temp_logs/login01.' + logtype + '.log' for logtype in log_types]\n",
    "\n",
    "r = Reader.Reader()\n",
    "df = r.read_file(file_paths[0])\n",
    "df.head()"
   ]
  },
  {
   "cell_type": "code",
   "execution_count": 3,
   "id": "6ff2438b-b285-4823-9418-93a4549c9ebe",
   "metadata": {},
   "outputs": [
    {
     "name": "stdout",
     "output_type": "stream",
     "text": [
      "=======================\n",
      "Current filepath : ../../../temp_logs/login01.cron.log\n",
      "First index : 2\n",
      "Second index : 4\n",
      "Step : 2\n"
     ]
    },
    {
     "data": {
      "text/html": [
       "<div>\n",
       "<style scoped>\n",
       "    .dataframe tbody tr th:only-of-type {\n",
       "        vertical-align: middle;\n",
       "    }\n",
       "\n",
       "    .dataframe tbody tr th {\n",
       "        vertical-align: top;\n",
       "    }\n",
       "\n",
       "    .dataframe thead th {\n",
       "        text-align: right;\n",
       "    }\n",
       "</style>\n",
       "<table border=\"1\" class=\"dataframe\">\n",
       "  <thead>\n",
       "    <tr style=\"text-align: right;\">\n",
       "      <th></th>\n",
       "      <th>host</th>\n",
       "      <th>ident</th>\n",
       "      <th>pid</th>\n",
       "      <th>message</th>\n",
       "      <th>severity</th>\n",
       "      <th>facility</th>\n",
       "      <th>time</th>\n",
       "    </tr>\n",
       "  </thead>\n",
       "  <tbody>\n",
       "    <tr>\n",
       "      <th>0</th>\n",
       "      <td>login01</td>\n",
       "      <td>CROND</td>\n",
       "      <td>53766</td>\n",
       "      <td>(root) CMD (/cinecalocal/scripts/clean_shm_fil...</td>\n",
       "      <td>info</td>\n",
       "      <td>cron</td>\n",
       "      <td>2024-03-27 00:00:01 +0100</td>\n",
       "    </tr>\n",
       "    <tr>\n",
       "      <th>1</th>\n",
       "      <td>login01</td>\n",
       "      <td>CROND</td>\n",
       "      <td>53767</td>\n",
       "      <td>(root) CMD ( /cinecalocal/nagios/passive/passi...</td>\n",
       "      <td>info</td>\n",
       "      <td>cron</td>\n",
       "      <td>2024-03-27 00:00:01 +0100</td>\n",
       "    </tr>\n",
       "  </tbody>\n",
       "</table>\n",
       "</div>"
      ],
      "text/plain": [
       "      host  ident    pid                                            message  \\\n",
       "0  login01  CROND  53766  (root) CMD (/cinecalocal/scripts/clean_shm_fil...   \n",
       "1  login01  CROND  53767  (root) CMD ( /cinecalocal/nagios/passive/passi...   \n",
       "\n",
       "  severity facility                       time  \n",
       "0     info     cron  2024-03-27 00:00:01 +0100  \n",
       "1     info     cron  2024-03-27 00:00:01 +0100  "
      ]
     },
     "execution_count": 3,
     "metadata": {},
     "output_type": "execute_result"
    }
   ],
   "source": [
    "df_chunk = r.read_chunk(file_paths[0], 2)\n",
    "r.get_attrs()\n",
    "df_chunk.head()"
   ]
  },
  {
   "cell_type": "code",
   "execution_count": 4,
   "id": "ded1988d-bb18-4c3d-92cd-672f202824f9",
   "metadata": {},
   "outputs": [
    {
     "name": "stdout",
     "output_type": "stream",
     "text": [
      "548\n"
     ]
    }
   ],
   "source": [
    "n_lines = r.count_lines(file_paths[0])\n",
    "print(n_lines)"
   ]
  },
  {
   "cell_type": "code",
   "execution_count": 5,
   "id": "a7b11ed1-e1b3-4e07-9e97-e9ed0fbe2a78",
   "metadata": {},
   "outputs": [
    {
     "name": "stdout",
     "output_type": "stream",
     "text": [
      "=======================\n",
      "Current filepath : ../../../temp_logs/login01.cron.log\n",
      "First index : 550\n",
      "Second index : 1098\n",
      "Step : 548\n",
      "=======================\n",
      "Current filepath : ../../../temp_logs/login01.cron.log\n",
      "First index : 552\n",
      "Second index : 554\n",
      "Step : 2\n",
      "<class 'pandas.core.frame.DataFrame'>\n",
      "True\n"
     ]
    }
   ],
   "source": [
    "# testing the limits\n",
    "df_chunk = r.read_chunk(file_paths[0], 548)\n",
    "r.get_attrs()\n",
    "df_chunk = r.read_chunk(file_paths[0], 2)\n",
    "r.get_attrs()\n",
    "df_chunk.head()\n",
    "print(type(df_chunk))\n",
    "print(df_chunk.empty)"
   ]
  },
  {
   "cell_type": "code",
   "execution_count": 6,
   "id": "e8bcf7ba-2b3d-4f9c-8aa7-75adc6b08aa3",
   "metadata": {},
   "outputs": [
    {
     "name": "stdout",
     "output_type": "stream",
     "text": [
      "=======================\n",
      "Current filepath : \n",
      "First index : 0\n",
      "Second index : 1000\n",
      "Step : 1000\n",
      "=======================\n",
      "Current filepath : ../../../temp_logs/login01.cron.log\n",
      "First index : 1000\n",
      "Second index : 2000\n",
      "Step : 1000\n",
      "=======================\n",
      "Current filepath : ../../../temp_logs/login01.cron.log\n",
      "First index : 2000\n",
      "Second index : 3000\n",
      "Step : 1000\n",
      "(0, 0)\n"
     ]
    }
   ],
   "source": [
    "r = Reader.Reader()\n",
    "step = 1000\n",
    "\n",
    "r.get_attrs()\n",
    "df_temp = r.read_chunk(file_paths[0], step)\n",
    "r.get_attrs()\n",
    "while not df_temp.empty:\n",
    "    df_temp = r.read_chunk(file_paths[0], step)\n",
    "    r.get_attrs()\n",
    "    print(df_temp.shape)"
   ]
  },
  {
   "cell_type": "code",
   "execution_count": 7,
   "id": "c86fde8f-53be-4127-9e28-7ed5f2b1613b",
   "metadata": {},
   "outputs": [
    {
     "name": "stdout",
     "output_type": "stream",
     "text": [
      "Resetting values\n",
      "=======================\n",
      "Current filepath : ../../../temp_logs/login01.cron.log\n",
      "First index : 0\n",
      "Second index : 1000\n",
      "Step : 1000\n"
     ]
    }
   ],
   "source": [
    "r.reset_attrs()"
   ]
  }
 ],
 "metadata": {
  "kernelspec": {
   "display_name": "Python 3 (ipykernel)",
   "language": "python",
   "name": "python3"
  },
  "language_info": {
   "codemirror_mode": {
    "name": "ipython",
    "version": 3
   },
   "file_extension": ".py",
   "mimetype": "text/x-python",
   "name": "python",
   "nbconvert_exporter": "python",
   "pygments_lexer": "ipython3",
   "version": "3.9.18"
  }
 },
 "nbformat": 4,
 "nbformat_minor": 5
}
