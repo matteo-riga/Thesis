{
 "cells": [
  {
   "cell_type": "code",
   "execution_count": 1,
   "id": "3ac1d81f-de91-48af-b41b-049878dd483d",
   "metadata": {},
   "outputs": [],
   "source": [
    "import os\n",
    "import sys\n",
    "import numpy as np\n",
    "import pandas as pd"
   ]
  },
  {
   "cell_type": "code",
   "execution_count": 2,
   "id": "8fd92915-91e6-4578-8c00-56a1a63eb9a2",
   "metadata": {},
   "outputs": [],
   "source": [
    "sys.path.append('../')\n",
    "sys.path.append('../src/')\n",
    "sys.path.append('../spell/')"
   ]
  },
  {
   "cell_type": "code",
   "execution_count": 3,
   "id": "a2f0815d-6331-498f-a597-e2b670f5b67c",
   "metadata": {},
   "outputs": [],
   "source": [
    "import EncodeCommand"
   ]
  },
  {
   "cell_type": "code",
   "execution_count": 4,
   "id": "c0c19878-d5dc-49ed-8dbc-5cab1de710a2",
   "metadata": {},
   "outputs": [
    {
     "name": "stdout",
     "output_type": "stream",
     "text": [
      "         comm  enc_comm\n",
      "0        ping         1\n",
      "1        ping         1\n",
      "2  traceroute         2\n",
      "3        ping         1\n",
      "1\n"
     ]
    }
   ],
   "source": [
    "# Example usage\n",
    "# Create an instance of EncodeCommand\n",
    "encoder = EncodeCommand.EncodeCommand()\n",
    "\n",
    "# Assuming df is your DataFrame with a 'comm' column\n",
    "df = pd.DataFrame({'comm': ['ping', 'ping', 'traceroute', 'ping']})\n",
    "\n",
    "# Encode the commands and get the updated DataFrame\n",
    "df_encoded = encoder.encode_command(df)\n",
    "print(df_encoded)\n",
    "\n",
    "# Get the command number\n",
    "command_number = encoder.get_command_number('ping')\n",
    "print(command_number)  # Output should be 1 if 'ping' is the first command"
   ]
  }
 ],
 "metadata": {
  "kernelspec": {
   "display_name": "Python 3 (ipykernel)",
   "language": "python",
   "name": "python3"
  },
  "language_info": {
   "codemirror_mode": {
    "name": "ipython",
    "version": 3
   },
   "file_extension": ".py",
   "mimetype": "text/x-python",
   "name": "python",
   "nbconvert_exporter": "python",
   "pygments_lexer": "ipython3",
   "version": "3.9.18"
  }
 },
 "nbformat": 4,
 "nbformat_minor": 5
}
