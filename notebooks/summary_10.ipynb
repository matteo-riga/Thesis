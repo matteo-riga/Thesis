{
 "cells": [
  {
   "cell_type": "markdown",
   "id": "f9802504-1823-4b44-becd-9103769793ed",
   "metadata": {},
   "source": [
    "# Analysis on laurel logs"
   ]
  },
  {
   "cell_type": "code",
   "execution_count": 1,
   "id": "a53b279e-e4ee-4818-9fc8-114099f0e7c0",
   "metadata": {},
   "outputs": [],
   "source": [
    "import os\n",
    "import sys\n",
    "import numpy as np\n",
    "import pandas as pd"
   ]
  },
  {
   "cell_type": "code",
   "execution_count": 2,
   "id": "7dbd8efe-3368-4b32-84fb-e0a1c122d21a",
   "metadata": {},
   "outputs": [],
   "source": [
    "sys.path.append('../')\n",
    "sys.path.append('../src/')\n",
    "sys.path.append('../spell/')"
   ]
  },
  {
   "cell_type": "code",
   "execution_count": 3,
   "id": "ffec0691-73d2-4c4c-b66f-9dfcf857dbb2",
   "metadata": {},
   "outputs": [
    {
     "name": "stderr",
     "output_type": "stream",
     "text": [
      "2024-07-20 08:45:07.822519: I tensorflow/core/util/port.cc:113] oneDNN custom operations are on. You may see slightly different numerical results due to floating-point round-off errors from different computation orders. To turn them off, set the environment variable `TF_ENABLE_ONEDNN_OPTS=0`.\n",
      "2024-07-20 08:45:07.887809: I tensorflow/core/platform/cpu_feature_guard.cc:210] This TensorFlow binary is optimized to use available CPU instructions in performance-critical operations.\n",
      "To enable the following instructions: AVX2 AVX512F AVX512_VNNI FMA, in other operations, rebuild TensorFlow with the appropriate compiler flags.\n",
      "2024-07-20 08:45:08.720032: W tensorflow/compiler/tf2tensorrt/utils/py_utils.cc:38] TF-TRT Warning: Could not find TensorRT\n"
     ]
    }
   ],
   "source": [
    "import Reader\n",
    "import ParamsExtractor3\n",
    "import DataPreprocessor\n",
    "import DeepLearningAnomalyDetection2"
   ]
  },
  {
   "cell_type": "markdown",
   "id": "26e95807-cfea-4725-9aa7-9ebd79d7e94c",
   "metadata": {},
   "source": [
    "## Training"
   ]
  },
  {
   "cell_type": "code",
   "execution_count": 4,
   "id": "e7e266b1-5572-4af4-bee5-c5880d87f3c3",
   "metadata": {},
   "outputs": [
    {
     "name": "stdout",
     "output_type": "stream",
     "text": [
      "['/../../../temp_logs/20240418/login01.laurel.log', '/../../../temp_logs/20240418/login02.laurel.log', '/../../../temp_logs/20240418/login03.laurel.log', '/../../../temp_logs/20240418/login10.laurel.log', '/../../../temp_logs/20240420/login01.laurel.log', '/../../../temp_logs/20240420/login02.laurel.log', '/../../../temp_logs/20240420/login03.laurel.log', '/../../../temp_logs/20240420/login10.laurel.log']\n"
     ]
    }
   ],
   "source": [
    "log_types = ['laurel']\n",
    "dates = ['20240418', '20240420', '20240429']\n",
    "login_node_numbers = ['01', '02', '03', '10']\n",
    "\n",
    "# Generate the list of file paths\n",
    "file_paths = [f'/../../../temp_logs/{date}/login{num}.{logtype}.log' for date in dates for num in login_node_numbers for logtype in log_types]\n",
    "\n",
    "# Filter the list to include only existing files\n",
    "existing_file_paths = [path for path in file_paths if os.path.exists(path)]\n",
    "print(existing_file_paths)\n",
    "\n",
    "df_list = []\n",
    "\n",
    "for file_path in existing_file_paths:\n",
    "    r = Reader.Reader(file_path)\n",
    "    df = r.read_file(file_path)\n",
    "    df_list.append(df)"
   ]
  },
  {
   "cell_type": "code",
   "execution_count": 5,
   "id": "a1bb1dc7-2d37-45d4-8f32-c45679635ba5",
   "metadata": {},
   "outputs": [
    {
     "data": {
      "text/plain": [
       "8"
      ]
     },
     "execution_count": 5,
     "metadata": {},
     "output_type": "execute_result"
    }
   ],
   "source": [
    "len(df_list)"
   ]
  },
  {
   "cell_type": "code",
   "execution_count": 6,
   "id": "588b3071-1dda-49d0-bbfa-7e7368f67d9c",
   "metadata": {},
   "outputs": [],
   "source": [
    "df_after = []\n",
    "\n",
    "for i, df in enumerate(df_list):\n",
    "    p = ParamsExtractor3.ParamsExtractor(df)\n",
    "    df = p.convert_params(df)\n",
    "    new_df = p.get_params()\n",
    "    df_after.append(new_df)\n",
    "    df_list[i] = pd.concat([df_list[i], new_df], axis=1)"
   ]
  },
  {
   "cell_type": "code",
   "execution_count": 7,
   "id": "43b1dbb0-17f4-456e-8522-de644baf4a76",
   "metadata": {},
   "outputs": [
    {
     "data": {
      "text/html": [
       "<div>\n",
       "<style scoped>\n",
       "    .dataframe tbody tr th:only-of-type {\n",
       "        vertical-align: middle;\n",
       "    }\n",
       "\n",
       "    .dataframe tbody tr th {\n",
       "        vertical-align: top;\n",
       "    }\n",
       "\n",
       "    .dataframe thead th {\n",
       "        text-align: right;\n",
       "    }\n",
       "</style>\n",
       "<table border=\"1\" class=\"dataframe\">\n",
       "  <thead>\n",
       "    <tr style=\"text-align: right;\">\n",
       "      <th></th>\n",
       "      <th>host</th>\n",
       "      <th>ident</th>\n",
       "      <th>message</th>\n",
       "      <th>severity</th>\n",
       "      <th>facility</th>\n",
       "      <th>time</th>\n",
       "      <th>severity_numbers</th>\n",
       "      <th>facility_numbers</th>\n",
       "      <th>severity_scores</th>\n",
       "      <th>timedelta</th>\n",
       "      <th>suid</th>\n",
       "      <th>cap_fp</th>\n",
       "      <th>comm</th>\n",
       "      <th>parent_comm</th>\n",
       "      <th>exit</th>\n",
       "      <th>n_dang</th>\n",
       "      <th>n_dang_no_cron</th>\n",
       "      <th>fp_length</th>\n",
       "    </tr>\n",
       "  </thead>\n",
       "  <tbody>\n",
       "    <tr>\n",
       "      <th>0</th>\n",
       "      <td>login01</td>\n",
       "      <td>laurel</td>\n",
       "      <td>\"1713391196.350:55343008\",\"NODE\":\"login01\",\"SY...</td>\n",
       "      <td>info</td>\n",
       "      <td>local6</td>\n",
       "      <td>2024-04-18 00:00:03 +0200</td>\n",
       "      <td>6</td>\n",
       "      <td>22</td>\n",
       "      <td>1.0</td>\n",
       "      <td>0.0</td>\n",
       "      <td>126858</td>\n",
       "      <td>0</td>\n",
       "      <td>squeue</td>\n",
       "      <td>bash</td>\n",
       "      <td>0</td>\n",
       "      <td>2</td>\n",
       "      <td>0</td>\n",
       "      <td>92</td>\n",
       "    </tr>\n",
       "    <tr>\n",
       "      <th>1</th>\n",
       "      <td>login01</td>\n",
       "      <td>laurel</td>\n",
       "      <td>\"1713391198.212:55343009\",\"NODE\":\"login01\",\"SY...</td>\n",
       "      <td>info</td>\n",
       "      <td>local6</td>\n",
       "      <td>2024-04-18 00:00:03 +0200</td>\n",
       "      <td>6</td>\n",
       "      <td>22</td>\n",
       "      <td>1.0</td>\n",
       "      <td>0.0</td>\n",
       "      <td>0</td>\n",
       "      <td>0</td>\n",
       "      <td>ping</td>\n",
       "      <td>pacemaker-execd</td>\n",
       "      <td>0</td>\n",
       "      <td>0</td>\n",
       "      <td>0</td>\n",
       "      <td>38</td>\n",
       "    </tr>\n",
       "    <tr>\n",
       "      <th>2</th>\n",
       "      <td>login01</td>\n",
       "      <td>laurel</td>\n",
       "      <td>\"1713391198.214:55343010\",\"NODE\":\"login01\",\"SY...</td>\n",
       "      <td>info</td>\n",
       "      <td>local6</td>\n",
       "      <td>2024-04-18 00:00:03 +0200</td>\n",
       "      <td>6</td>\n",
       "      <td>22</td>\n",
       "      <td>1.0</td>\n",
       "      <td>0.0</td>\n",
       "      <td>0</td>\n",
       "      <td>0</td>\n",
       "      <td>basename</td>\n",
       "      <td>ping</td>\n",
       "      <td>0</td>\n",
       "      <td>0</td>\n",
       "      <td>0</td>\n",
       "      <td>28</td>\n",
       "    </tr>\n",
       "    <tr>\n",
       "      <th>3</th>\n",
       "      <td>login01</td>\n",
       "      <td>laurel</td>\n",
       "      <td>\"1713391198.220:55343011\",\"NODE\":\"login01\",\"SY...</td>\n",
       "      <td>info</td>\n",
       "      <td>local6</td>\n",
       "      <td>2024-04-18 00:00:03 +0200</td>\n",
       "      <td>6</td>\n",
       "      <td>22</td>\n",
       "      <td>1.0</td>\n",
       "      <td>0.0</td>\n",
       "      <td>0</td>\n",
       "      <td>0</td>\n",
       "      <td>egrep</td>\n",
       "      <td>ping</td>\n",
       "      <td>0</td>\n",
       "      <td>0</td>\n",
       "      <td>0</td>\n",
       "      <td>28</td>\n",
       "    </tr>\n",
       "    <tr>\n",
       "      <th>4</th>\n",
       "      <td>login01</td>\n",
       "      <td>laurel</td>\n",
       "      <td>\"1713391198.221:55343012\",\"NODE\":\"login01\",\"SY...</td>\n",
       "      <td>info</td>\n",
       "      <td>local6</td>\n",
       "      <td>2024-04-18 00:00:03 +0200</td>\n",
       "      <td>6</td>\n",
       "      <td>22</td>\n",
       "      <td>1.0</td>\n",
       "      <td>0.0</td>\n",
       "      <td>0</td>\n",
       "      <td>0</td>\n",
       "      <td>grep</td>\n",
       "      <td>ping</td>\n",
       "      <td>0</td>\n",
       "      <td>0</td>\n",
       "      <td>0</td>\n",
       "      <td>21</td>\n",
       "    </tr>\n",
       "  </tbody>\n",
       "</table>\n",
       "</div>"
      ],
      "text/plain": [
       "      host   ident                                            message  \\\n",
       "0  login01  laurel  \"1713391196.350:55343008\",\"NODE\":\"login01\",\"SY...   \n",
       "1  login01  laurel  \"1713391198.212:55343009\",\"NODE\":\"login01\",\"SY...   \n",
       "2  login01  laurel  \"1713391198.214:55343010\",\"NODE\":\"login01\",\"SY...   \n",
       "3  login01  laurel  \"1713391198.220:55343011\",\"NODE\":\"login01\",\"SY...   \n",
       "4  login01  laurel  \"1713391198.221:55343012\",\"NODE\":\"login01\",\"SY...   \n",
       "\n",
       "  severity facility                       time  severity_numbers  \\\n",
       "0     info   local6  2024-04-18 00:00:03 +0200                 6   \n",
       "1     info   local6  2024-04-18 00:00:03 +0200                 6   \n",
       "2     info   local6  2024-04-18 00:00:03 +0200                 6   \n",
       "3     info   local6  2024-04-18 00:00:03 +0200                 6   \n",
       "4     info   local6  2024-04-18 00:00:03 +0200                 6   \n",
       "\n",
       "   facility_numbers  severity_scores  timedelta    suid  cap_fp      comm  \\\n",
       "0                22              1.0        0.0  126858       0    squeue   \n",
       "1                22              1.0        0.0       0       0      ping   \n",
       "2                22              1.0        0.0       0       0  basename   \n",
       "3                22              1.0        0.0       0       0     egrep   \n",
       "4                22              1.0        0.0       0       0      grep   \n",
       "\n",
       "       parent_comm  exit  n_dang  n_dang_no_cron  fp_length  \n",
       "0             bash     0       2               0         92  \n",
       "1  pacemaker-execd     0       0               0         38  \n",
       "2             ping     0       0               0         28  \n",
       "3             ping     0       0               0         28  \n",
       "4             ping     0       0               0         21  "
      ]
     },
     "execution_count": 7,
     "metadata": {},
     "output_type": "execute_result"
    }
   ],
   "source": [
    "df_list[0].head()"
   ]
  },
  {
   "cell_type": "code",
   "execution_count": 8,
   "id": "bbcebc85-4d65-4de4-8445-c9644fa36df5",
   "metadata": {},
   "outputs": [
    {
     "data": {
      "text/plain": [
       "'\"1713391196.350:55343008\",\"NODE\":\"login01\",\"SYSCALL\":{\"arch\":\"0xc000003e\",\"syscall\":59,\"success\":\"yes\",\"exit\":0,\"items\":2,\"ppid\":29378,\"pid\":37632,\"auid\":126858,\"uid\":126858,\"gid\":25200,\"euid\":126858,\"suid\":126858,\"fsuid\":126858,\"egid\":25200,\"sgid\":25200,\"fsgid\":25200,\"tty\":\"pts38\",\"ses\":703112,\"comm\":\"squeue\",\"exe\":\"/opt/slurm/23.11.5/bin/squeue\",\"key\":\"auditcmd\",\"ARCH\":\"x86_64\",\"SYSCALL\":\"execve\",\"AUID\":\"cmatteuc\",\"UID\":\"cmatteuc\",\"GID\":\"interactive\",\"EUID\":\"cmatteuc\",\"SUID\":\"cmatteuc\",\"FSUID\":\"cmatteuc\",\"EGID\":\"interactive\",\"SGID\":\"interactive\",\"FSGID\":\"interactive\",\"ARGV\":[\"0x564021c6aff0\",\"0x564021c6bdf0\",\"0x564021c34470\",\"0x8\"]},\"EXECVE\":{\"argc\":3,\"ARGV\":[\"squeue\",\"-u\",\"cmatteuc\"],\"ENV\":{\"LD_LIBRARY_PATH\":\"/g100_work/PROJECTS/spack/v0.17/prod/0.17.1/install/0.17/linux-centos8-skylake_avx512/gcc-8.4.1/anaconda3-2021.05-alnfpd33vtv6tt7sf6iq5ngwv7nqgeah/lib:/cineca/prod/opt/compilers/intel/oneapi-2022/binary/mpi/latest/libfabric/lib/prov:/cineca/prod/opt/compilers/intel/oneapi-2022/binary/mpi/latest/libfabric/lib:/cineca/prod/opt/compilers/intel/oneapi-2022/binary/mpi/latest/lib/release:/cineca/prod/opt/compilers/intel/oneapi-2022/binary/mpi/latest/lib:/cineca/prod/opt/compilers/intel/oneapi-2022/binary/compiler/latest/linux/compiler/lib/intel64\"}},\"CWD\":{\"cwd\":\"/g100/home/userexternal/cmatteuc/Nek5000/run/full_circle_06\"},\"PATH\":[{\"item\":0,\"name\":\"/opt/slurm/current/bin/squeue\",\"inode\":25917742,\"dev\":\"fd:05\",\"mode\":\"0o100755\",\"ouid\":0,\"ogid\":0,\"rdev\":\"00:00\",\"nametype\":\"NORMAL\",\"cap_fp\":\"0x0\",\"cap_fi\":\"0x0\",\"cap_fe\":0,\"cap_fver\":\"0x0\",\"cap_frootid\":\"0\",\"OUID\":\"root\",\"OGID\":\"root\"},{\"item\":1,\"name\":\"/lib64/ld-linux-x86-64.so.2\",\"inode\":8507967,\"dev\":\"fd:01\",\"mode\":\"0o100755\",\"ouid\":0,\"ogid\":0,\"rdev\":\"00:00\",\"nametype\":\"NORMAL\",\"cap_fp\":\"0x0\",\"cap_fi\":\"0x0\",\"cap_fe\":0,\"cap_fver\":\"0x0\",\"cap_frootid\":\"0\",\"OUID\":\"root\",\"OGID\":\"root\"}],\"PROCTITLE\":{\"ARGV\":[\"squeue\",\"-u\",\"cmatteuc\"]},\"PARENT_INFO\":{\"ID\":\"1713390693.537:55326645\",\"comm\":\"bash\",\"exe\":\"/usr/bin/bash\",\"ppid\":29377}}'"
      ]
     },
     "execution_count": 8,
     "metadata": {},
     "output_type": "execute_result"
    }
   ],
   "source": [
    "df_list[0].iloc[0]['message']"
   ]
  },
  {
   "cell_type": "code",
   "execution_count": 9,
   "id": "cbc8c57b-7911-4f18-b9f5-4c2440f9b80f",
   "metadata": {},
   "outputs": [
    {
     "name": "stdout",
     "output_type": "stream",
     "text": [
      "   severity_scores  timedelta    suid  cap_fp      comm      parent_comm  \\\n",
      "0              1.0        0.0  126858       0    squeue             bash   \n",
      "1              1.0        0.0       0       0      ping  pacemaker-execd   \n",
      "2              1.0        0.0       0       0  basename             ping   \n",
      "3              1.0        0.0       0       0     egrep             ping   \n",
      "4              1.0        0.0       0       0      grep             ping   \n",
      "\n",
      "   exit  n_dang  n_dang_no_cron  fp_length  ...  col_10  col_11  col_12  \\\n",
      "0     0       2               0         92  ...       0       0       0   \n",
      "1     0       0               0         38  ...       0       0       0   \n",
      "2     0       0               0         28  ...       0       0       0   \n",
      "3     0       0               0         28  ...       0       0       0   \n",
      "4     0       0               0         21  ...       0       0       0   \n",
      "\n",
      "   col_13  col_14  col_15  col_16  col_17  col_18  col_19  \n",
      "0       0       0       0       1       0       0       0  \n",
      "1       0       0       0       1       0       0       0  \n",
      "2       0       0       0       1       0       0       0  \n",
      "3       0       0       0       1       0       0       0  \n",
      "4       0       0       0       1       0       0       0  \n",
      "\n",
      "[5 rows x 30 columns]\n"
     ]
    }
   ],
   "source": [
    "for i, df in enumerate(df_list):\n",
    "    d = DataPreprocessor.DataPreprocessor(df)\n",
    "    enc = d.drop_and_hash_encode()\n",
    "    df_list[i] = enc\n",
    "\n",
    "print(df_list[0].head())"
   ]
  },
  {
   "cell_type": "code",
   "execution_count": 10,
   "id": "1480c325-8793-469e-912d-7e41bfdb8b64",
   "metadata": {},
   "outputs": [
    {
     "name": "stdout",
     "output_type": "stream",
     "text": [
      "(1000, 30)\n",
      "(1000, 30)\n",
      "(1000, 30)\n",
      "(1000, 30)\n",
      "(1000, 30)\n",
      "(1000, 30)\n",
      "(1000, 30)\n",
      "(1000, 30)\n"
     ]
    }
   ],
   "source": [
    "for df in df_list:\n",
    "    print(df.shape)"
   ]
  },
  {
   "cell_type": "code",
   "execution_count": 11,
   "id": "f42f3518-c530-4536-ab4c-ee91177de6e7",
   "metadata": {},
   "outputs": [],
   "source": [
    "normal_dataset = df_list[0]\n",
    "\n",
    "for i in range(1,len(df_list)):\n",
    "    normal_dataset = np.vstack([normal_dataset, df_list[i]])"
   ]
  },
  {
   "cell_type": "code",
   "execution_count": 12,
   "id": "c30bf1f6-b70e-4e95-ad32-a537a9270f02",
   "metadata": {},
   "outputs": [
    {
     "data": {
      "text/plain": [
       "(8000, 30)"
      ]
     },
     "execution_count": 12,
     "metadata": {},
     "output_type": "execute_result"
    }
   ],
   "source": [
    "normal_dataset.shape"
   ]
  },
  {
   "cell_type": "markdown",
   "id": "854c17ff-1bd6-4034-b62e-bdc5d41f7f23",
   "metadata": {},
   "source": [
    "## Anomalies' dataset"
   ]
  },
  {
   "cell_type": "code",
   "execution_count": 17,
   "id": "d7992594-3016-4216-a190-dd8e162fc27f",
   "metadata": {},
   "outputs": [
    {
     "name": "stdout",
     "output_type": "stream",
     "text": [
      "['../data/new_laurel_conf/audit.log']\n",
      "                   ID                                            SYSCALL  \\\n",
      "0  1721464625.772:929  {'arch': '0xc000003e', 'syscall': 59, 'success...   \n",
      "1  1721464625.816:930  {'arch': '0xc000003e', 'syscall': 59, 'success...   \n",
      "2  1721464625.641:933  {'arch': '0xc000003e', 'syscall': 59, 'success...   \n",
      "3  1721464625.512:934  {'arch': '0xc000003e', 'syscall': 59, 'success...   \n",
      "4  1721464625.636:935  {'arch': '0xc000003e', 'syscall': 59, 'success...   \n",
      "\n",
      "                                              EXECVE                      CWD  \\\n",
      "0  {'argc': 5, 'ARGV': ['/usr/bin/pkla-check-auth...             {'cwd': '/'}   \n",
      "1  {'argc': 5, 'ARGV': ['/usr/bin/pkla-check-auth...             {'cwd': '/'}   \n",
      "2  {'argc': 1, 'ARGV': ['/usr/libexec/gsd-rfkill'...  {'cwd': '/var/lib/gdm'}   \n",
      "3  {'argc': 1, 'ARGV': ['/usr/libexec/gsd-sharing...  {'cwd': '/var/lib/gdm'}   \n",
      "4  {'argc': 1, 'ARGV': ['/usr/libexec/gsd-keyboar...  {'cwd': '/var/lib/gdm'}   \n",
      "\n",
      "                                                PATH  \\\n",
      "0  [{'item': 0, 'name': '/usr/bin/pkla-check-auth...   \n",
      "1  [{'item': 0, 'name': '/usr/bin/pkla-check-auth...   \n",
      "2  [{'item': 0, 'name': '/usr/libexec/gsd-rfkill'...   \n",
      "3  [{'item': 0, 'name': '/usr/libexec/gsd-sharing...   \n",
      "4  [{'item': 0, 'name': '/usr/libexec/gsd-keyboar...   \n",
      "\n",
      "                                           PROCTITLE SERVICE_STOP BPRM_FCAPS  \\\n",
      "0  {'ARGV': ['/usr/bin/pkla-check-authorization',...          NaN        NaN   \n",
      "1  {'ARGV': ['/usr/bin/pkla-check-authorization',...          NaN        NaN   \n",
      "2  {'ARGV': ['/bin/sh', '-e', '-u', '-c', 'export...          NaN        NaN   \n",
      "3  {'ARGV': ['/bin/sh', '-e', '-u', '-c', 'export...          NaN        NaN   \n",
      "4  {'ARGV': ['/bin/sh', '-e', '-u', '-c', 'export...          NaN        NaN   \n",
      "\n",
      "  SERVICE_START SYSTEM_RUNLEVEL  ... USER_AUTH USER_ACCT CRED_ACQ LOGIN  \\\n",
      "0           NaN             NaN  ...       NaN       NaN      NaN   NaN   \n",
      "1           NaN             NaN  ...       NaN       NaN      NaN   NaN   \n",
      "2           NaN             NaN  ...       NaN       NaN      NaN   NaN   \n",
      "3           NaN             NaN  ...       NaN       NaN      NaN   NaN   \n",
      "4           NaN             NaN  ...       NaN       NaN      NaN   NaN   \n",
      "\n",
      "  USER_ROLE_CHANGE USER_START USER_END CRED_DISP USER_CMD CRED_REFR  \n",
      "0              NaN        NaN      NaN       NaN      NaN       NaN  \n",
      "1              NaN        NaN      NaN       NaN      NaN       NaN  \n",
      "2              NaN        NaN      NaN       NaN      NaN       NaN  \n",
      "3              NaN        NaN      NaN       NaN      NaN       NaN  \n",
      "4              NaN        NaN      NaN       NaN      NaN       NaN  \n",
      "\n",
      "[5 rows x 21 columns]\n"
     ]
    }
   ],
   "source": [
    "log_types = ['laurel']\n",
    "\n",
    "# Generate the list of file paths\n",
    "file_paths = [f'../data/new_laurel_conf/audit.log' for logtype in log_types]\n",
    "\n",
    "# Filter the list to include only existing files\n",
    "existing_file_paths = [path for path in file_paths if os.path.exists(path)]\n",
    "print(existing_file_paths)\n",
    "\n",
    "an_df_list = []\n",
    "\n",
    "for file_path in existing_file_paths:\n",
    "    r = Reader.Reader(file_path)\n",
    "    df = r.read_file(file_path)\n",
    "    print(df.head())\n",
    "    #df.columns = ['hostname', 'ident', 'message', 'severity', 'facility', 'time']\n",
    "    an_df_list.append(df)"
   ]
  },
  {
   "cell_type": "code",
   "execution_count": 18,
   "id": "b7e0bba3-051b-4dba-8f9f-65cea6f63d8d",
   "metadata": {},
   "outputs": [
    {
     "data": {
      "text/html": [
       "<div>\n",
       "<style scoped>\n",
       "    .dataframe tbody tr th:only-of-type {\n",
       "        vertical-align: middle;\n",
       "    }\n",
       "\n",
       "    .dataframe tbody tr th {\n",
       "        vertical-align: top;\n",
       "    }\n",
       "\n",
       "    .dataframe thead th {\n",
       "        text-align: right;\n",
       "    }\n",
       "</style>\n",
       "<table border=\"1\" class=\"dataframe\">\n",
       "  <thead>\n",
       "    <tr style=\"text-align: right;\">\n",
       "      <th></th>\n",
       "      <th>ID</th>\n",
       "      <th>SYSCALL</th>\n",
       "      <th>EXECVE</th>\n",
       "      <th>CWD</th>\n",
       "      <th>PATH</th>\n",
       "      <th>PROCTITLE</th>\n",
       "      <th>SERVICE_STOP</th>\n",
       "      <th>BPRM_FCAPS</th>\n",
       "      <th>SERVICE_START</th>\n",
       "      <th>SYSTEM_RUNLEVEL</th>\n",
       "      <th>...</th>\n",
       "      <th>USER_AUTH</th>\n",
       "      <th>USER_ACCT</th>\n",
       "      <th>CRED_ACQ</th>\n",
       "      <th>LOGIN</th>\n",
       "      <th>USER_ROLE_CHANGE</th>\n",
       "      <th>USER_START</th>\n",
       "      <th>USER_END</th>\n",
       "      <th>CRED_DISP</th>\n",
       "      <th>USER_CMD</th>\n",
       "      <th>CRED_REFR</th>\n",
       "    </tr>\n",
       "  </thead>\n",
       "  <tbody>\n",
       "    <tr>\n",
       "      <th>0</th>\n",
       "      <td>1721464625.772:929</td>\n",
       "      <td>{'arch': '0xc000003e', 'syscall': 59, 'success...</td>\n",
       "      <td>{'argc': 5, 'ARGV': ['/usr/bin/pkla-check-auth...</td>\n",
       "      <td>{'cwd': '/'}</td>\n",
       "      <td>[{'item': 0, 'name': '/usr/bin/pkla-check-auth...</td>\n",
       "      <td>{'ARGV': ['/usr/bin/pkla-check-authorization',...</td>\n",
       "      <td>NaN</td>\n",
       "      <td>NaN</td>\n",
       "      <td>NaN</td>\n",
       "      <td>NaN</td>\n",
       "      <td>...</td>\n",
       "      <td>NaN</td>\n",
       "      <td>NaN</td>\n",
       "      <td>NaN</td>\n",
       "      <td>NaN</td>\n",
       "      <td>NaN</td>\n",
       "      <td>NaN</td>\n",
       "      <td>NaN</td>\n",
       "      <td>NaN</td>\n",
       "      <td>NaN</td>\n",
       "      <td>NaN</td>\n",
       "    </tr>\n",
       "    <tr>\n",
       "      <th>1</th>\n",
       "      <td>1721464625.816:930</td>\n",
       "      <td>{'arch': '0xc000003e', 'syscall': 59, 'success...</td>\n",
       "      <td>{'argc': 5, 'ARGV': ['/usr/bin/pkla-check-auth...</td>\n",
       "      <td>{'cwd': '/'}</td>\n",
       "      <td>[{'item': 0, 'name': '/usr/bin/pkla-check-auth...</td>\n",
       "      <td>{'ARGV': ['/usr/bin/pkla-check-authorization',...</td>\n",
       "      <td>NaN</td>\n",
       "      <td>NaN</td>\n",
       "      <td>NaN</td>\n",
       "      <td>NaN</td>\n",
       "      <td>...</td>\n",
       "      <td>NaN</td>\n",
       "      <td>NaN</td>\n",
       "      <td>NaN</td>\n",
       "      <td>NaN</td>\n",
       "      <td>NaN</td>\n",
       "      <td>NaN</td>\n",
       "      <td>NaN</td>\n",
       "      <td>NaN</td>\n",
       "      <td>NaN</td>\n",
       "      <td>NaN</td>\n",
       "    </tr>\n",
       "    <tr>\n",
       "      <th>2</th>\n",
       "      <td>1721464625.641:933</td>\n",
       "      <td>{'arch': '0xc000003e', 'syscall': 59, 'success...</td>\n",
       "      <td>{'argc': 1, 'ARGV': ['/usr/libexec/gsd-rfkill'...</td>\n",
       "      <td>{'cwd': '/var/lib/gdm'}</td>\n",
       "      <td>[{'item': 0, 'name': '/usr/libexec/gsd-rfkill'...</td>\n",
       "      <td>{'ARGV': ['/bin/sh', '-e', '-u', '-c', 'export...</td>\n",
       "      <td>NaN</td>\n",
       "      <td>NaN</td>\n",
       "      <td>NaN</td>\n",
       "      <td>NaN</td>\n",
       "      <td>...</td>\n",
       "      <td>NaN</td>\n",
       "      <td>NaN</td>\n",
       "      <td>NaN</td>\n",
       "      <td>NaN</td>\n",
       "      <td>NaN</td>\n",
       "      <td>NaN</td>\n",
       "      <td>NaN</td>\n",
       "      <td>NaN</td>\n",
       "      <td>NaN</td>\n",
       "      <td>NaN</td>\n",
       "    </tr>\n",
       "    <tr>\n",
       "      <th>3</th>\n",
       "      <td>1721464625.512:934</td>\n",
       "      <td>{'arch': '0xc000003e', 'syscall': 59, 'success...</td>\n",
       "      <td>{'argc': 1, 'ARGV': ['/usr/libexec/gsd-sharing...</td>\n",
       "      <td>{'cwd': '/var/lib/gdm'}</td>\n",
       "      <td>[{'item': 0, 'name': '/usr/libexec/gsd-sharing...</td>\n",
       "      <td>{'ARGV': ['/bin/sh', '-e', '-u', '-c', 'export...</td>\n",
       "      <td>NaN</td>\n",
       "      <td>NaN</td>\n",
       "      <td>NaN</td>\n",
       "      <td>NaN</td>\n",
       "      <td>...</td>\n",
       "      <td>NaN</td>\n",
       "      <td>NaN</td>\n",
       "      <td>NaN</td>\n",
       "      <td>NaN</td>\n",
       "      <td>NaN</td>\n",
       "      <td>NaN</td>\n",
       "      <td>NaN</td>\n",
       "      <td>NaN</td>\n",
       "      <td>NaN</td>\n",
       "      <td>NaN</td>\n",
       "    </tr>\n",
       "    <tr>\n",
       "      <th>4</th>\n",
       "      <td>1721464625.636:935</td>\n",
       "      <td>{'arch': '0xc000003e', 'syscall': 59, 'success...</td>\n",
       "      <td>{'argc': 1, 'ARGV': ['/usr/libexec/gsd-keyboar...</td>\n",
       "      <td>{'cwd': '/var/lib/gdm'}</td>\n",
       "      <td>[{'item': 0, 'name': '/usr/libexec/gsd-keyboar...</td>\n",
       "      <td>{'ARGV': ['/bin/sh', '-e', '-u', '-c', 'export...</td>\n",
       "      <td>NaN</td>\n",
       "      <td>NaN</td>\n",
       "      <td>NaN</td>\n",
       "      <td>NaN</td>\n",
       "      <td>...</td>\n",
       "      <td>NaN</td>\n",
       "      <td>NaN</td>\n",
       "      <td>NaN</td>\n",
       "      <td>NaN</td>\n",
       "      <td>NaN</td>\n",
       "      <td>NaN</td>\n",
       "      <td>NaN</td>\n",
       "      <td>NaN</td>\n",
       "      <td>NaN</td>\n",
       "      <td>NaN</td>\n",
       "    </tr>\n",
       "  </tbody>\n",
       "</table>\n",
       "<p>5 rows × 21 columns</p>\n",
       "</div>"
      ],
      "text/plain": [
       "                   ID                                            SYSCALL  \\\n",
       "0  1721464625.772:929  {'arch': '0xc000003e', 'syscall': 59, 'success...   \n",
       "1  1721464625.816:930  {'arch': '0xc000003e', 'syscall': 59, 'success...   \n",
       "2  1721464625.641:933  {'arch': '0xc000003e', 'syscall': 59, 'success...   \n",
       "3  1721464625.512:934  {'arch': '0xc000003e', 'syscall': 59, 'success...   \n",
       "4  1721464625.636:935  {'arch': '0xc000003e', 'syscall': 59, 'success...   \n",
       "\n",
       "                                              EXECVE                      CWD  \\\n",
       "0  {'argc': 5, 'ARGV': ['/usr/bin/pkla-check-auth...             {'cwd': '/'}   \n",
       "1  {'argc': 5, 'ARGV': ['/usr/bin/pkla-check-auth...             {'cwd': '/'}   \n",
       "2  {'argc': 1, 'ARGV': ['/usr/libexec/gsd-rfkill'...  {'cwd': '/var/lib/gdm'}   \n",
       "3  {'argc': 1, 'ARGV': ['/usr/libexec/gsd-sharing...  {'cwd': '/var/lib/gdm'}   \n",
       "4  {'argc': 1, 'ARGV': ['/usr/libexec/gsd-keyboar...  {'cwd': '/var/lib/gdm'}   \n",
       "\n",
       "                                                PATH  \\\n",
       "0  [{'item': 0, 'name': '/usr/bin/pkla-check-auth...   \n",
       "1  [{'item': 0, 'name': '/usr/bin/pkla-check-auth...   \n",
       "2  [{'item': 0, 'name': '/usr/libexec/gsd-rfkill'...   \n",
       "3  [{'item': 0, 'name': '/usr/libexec/gsd-sharing...   \n",
       "4  [{'item': 0, 'name': '/usr/libexec/gsd-keyboar...   \n",
       "\n",
       "                                           PROCTITLE SERVICE_STOP BPRM_FCAPS  \\\n",
       "0  {'ARGV': ['/usr/bin/pkla-check-authorization',...          NaN        NaN   \n",
       "1  {'ARGV': ['/usr/bin/pkla-check-authorization',...          NaN        NaN   \n",
       "2  {'ARGV': ['/bin/sh', '-e', '-u', '-c', 'export...          NaN        NaN   \n",
       "3  {'ARGV': ['/bin/sh', '-e', '-u', '-c', 'export...          NaN        NaN   \n",
       "4  {'ARGV': ['/bin/sh', '-e', '-u', '-c', 'export...          NaN        NaN   \n",
       "\n",
       "  SERVICE_START SYSTEM_RUNLEVEL  ... USER_AUTH USER_ACCT CRED_ACQ LOGIN  \\\n",
       "0           NaN             NaN  ...       NaN       NaN      NaN   NaN   \n",
       "1           NaN             NaN  ...       NaN       NaN      NaN   NaN   \n",
       "2           NaN             NaN  ...       NaN       NaN      NaN   NaN   \n",
       "3           NaN             NaN  ...       NaN       NaN      NaN   NaN   \n",
       "4           NaN             NaN  ...       NaN       NaN      NaN   NaN   \n",
       "\n",
       "  USER_ROLE_CHANGE USER_START USER_END CRED_DISP USER_CMD CRED_REFR  \n",
       "0              NaN        NaN      NaN       NaN      NaN       NaN  \n",
       "1              NaN        NaN      NaN       NaN      NaN       NaN  \n",
       "2              NaN        NaN      NaN       NaN      NaN       NaN  \n",
       "3              NaN        NaN      NaN       NaN      NaN       NaN  \n",
       "4              NaN        NaN      NaN       NaN      NaN       NaN  \n",
       "\n",
       "[5 rows x 21 columns]"
      ]
     },
     "execution_count": 18,
     "metadata": {},
     "output_type": "execute_result"
    }
   ],
   "source": [
    "an_df_list[0].head()"
   ]
  },
  {
   "cell_type": "code",
   "execution_count": 25,
   "id": "db0b5dad-5976-48cb-898d-d8a8df0ecb11",
   "metadata": {},
   "outputs": [
    {
     "data": {
      "text/plain": [
       "Index(['ID', 'SYSCALL', 'EXECVE', 'CWD', 'PATH', 'PROCTITLE', 'SERVICE_STOP',\n",
       "       'BPRM_FCAPS', 'SERVICE_START', 'SYSTEM_RUNLEVEL', 'BPF', 'USER_AUTH',\n",
       "       'USER_ACCT', 'CRED_ACQ', 'LOGIN', 'USER_ROLE_CHANGE', 'USER_START',\n",
       "       'USER_END', 'CRED_DISP', 'USER_CMD', 'CRED_REFR'],\n",
       "      dtype='object')"
      ]
     },
     "execution_count": 25,
     "metadata": {},
     "output_type": "execute_result"
    }
   ],
   "source": [
    "an_df_list[0].columns"
   ]
  },
  {
   "cell_type": "code",
   "execution_count": 27,
   "id": "d227f1a4-14c8-44ef-b4c4-708dd908f76d",
   "metadata": {},
   "outputs": [
    {
     "name": "stdout",
     "output_type": "stream",
     "text": [
      "[998, 0, 'pkla-check-auth', -1, 0]\n"
     ]
    }
   ],
   "source": [
    "suid, cap_fp, comm, parent_comm, exit = -1,-1,-1,-1,-1\n",
    "\n",
    "try:\n",
    "    suid = an_df_list[0]['SYSCALL'].iloc[0]['suid']\n",
    "except:\n",
    "    pass\n",
    "\n",
    "try:\n",
    "    comm = an_df_list[0]['SYSCALL'].iloc[0]['comm']\n",
    "except:\n",
    "    pass\n",
    "\n",
    "try:\n",
    "    exit = an_df_list[0]['SYSCALL'].iloc[0]['exit']\n",
    "except:\n",
    "    pass\n",
    "\n",
    "try:\n",
    "    cap_fp = an_df_list[0]['PATH'].iloc[0][0]['cap_fp']\n",
    "    cap_fp = int(cap_fp, 0)\n",
    "except:\n",
    "    pass\n",
    "\n",
    "try:\n",
    "    parent_comm = an_df_list[0]['PARENT_INFO'].iloc[0]['comm']\n",
    "except:\n",
    "    pass\n",
    "\n",
    "params = [suid, cap_fp, comm, parent_comm, exit]\n",
    "print(params)"
   ]
  },
  {
   "cell_type": "code",
   "execution_count": 31,
   "id": "6c689206-f32a-4960-805c-851a30685fe3",
   "metadata": {},
   "outputs": [
    {
     "data": {
      "text/plain": [
       "'0x0'"
      ]
     },
     "execution_count": 31,
     "metadata": {},
     "output_type": "execute_result"
    }
   ],
   "source": [
    "an_df_list[0].iloc[0]['PATH'][0]['cap_fp']"
   ]
  },
  {
   "cell_type": "code",
   "execution_count": 59,
   "id": "cabe0dc1-01e0-4c27-ba74-a40fdd597feb",
   "metadata": {},
   "outputs": [],
   "source": [
    "def get_params_from_line(line):\n",
    "    suid, cap_fp, comm, parent_comm, exit = -1,-1,-1,-1,-1\n",
    "\n",
    "    #print(line[1]['SYSCALL'])\n",
    "    #print('============')\n",
    "\n",
    "    line = line[1]\n",
    "\n",
    "    try:\n",
    "        suid = line['SYSCALL']['suid']\n",
    "    except:\n",
    "        pass\n",
    "    \n",
    "    try:\n",
    "        comm = line['SYSCALL']['comm']\n",
    "    except:\n",
    "        pass\n",
    "    \n",
    "    try:\n",
    "        exit = line['SYSCALL']['exit']\n",
    "    except:\n",
    "        pass\n",
    "    \n",
    "    try:\n",
    "        cap_fp = line['PATH'][0]['cap_fp']\n",
    "        cap_fp = int(cap_fp, 0)\n",
    "    except:\n",
    "        pass\n",
    "    \n",
    "    try:\n",
    "        parent_comm = line['PARENT_INFO']['comm']\n",
    "    except:\n",
    "        pass\n",
    "    \n",
    "    params = [suid, cap_fp, comm, parent_comm, exit, -1, 0, 0, 0]\n",
    "    #print(params)\n",
    "    return params"
   ]
  },
  {
   "cell_type": "code",
   "execution_count": 60,
   "id": "bf0ed78b-9ec1-48da-84e2-fb9f284acfc8",
   "metadata": {
    "scrolled": true
   },
   "outputs": [],
   "source": [
    "data_list = []\n",
    "for line in an_df_list[0].iterrows():\n",
    "    params = get_params_from_line(line)\n",
    "    data_list.append(params)\n",
    "\n",
    "an_df = pd.DataFrame(data_list)\n",
    "an_df.columns = ['suid', 'cap_fp', 'comm', 'parent_comm', 'exit', 'log key', 'n_dang', 'n_dang_no_cron', 'fp_length']"
   ]
  },
  {
   "cell_type": "code",
   "execution_count": 61,
   "id": "549a1dcb-cba2-4d81-983d-660c5df6c512",
   "metadata": {},
   "outputs": [
    {
     "data": {
      "text/html": [
       "<div>\n",
       "<style scoped>\n",
       "    .dataframe tbody tr th:only-of-type {\n",
       "        vertical-align: middle;\n",
       "    }\n",
       "\n",
       "    .dataframe tbody tr th {\n",
       "        vertical-align: top;\n",
       "    }\n",
       "\n",
       "    .dataframe thead th {\n",
       "        text-align: right;\n",
       "    }\n",
       "</style>\n",
       "<table border=\"1\" class=\"dataframe\">\n",
       "  <thead>\n",
       "    <tr style=\"text-align: right;\">\n",
       "      <th></th>\n",
       "      <th>suid</th>\n",
       "      <th>cap_fp</th>\n",
       "      <th>comm</th>\n",
       "      <th>parent_comm</th>\n",
       "      <th>exit</th>\n",
       "      <th>log key</th>\n",
       "      <th>n_dang</th>\n",
       "      <th>n_dang_no_cron</th>\n",
       "      <th>fp_length</th>\n",
       "    </tr>\n",
       "  </thead>\n",
       "  <tbody>\n",
       "    <tr>\n",
       "      <th>0</th>\n",
       "      <td>998</td>\n",
       "      <td>0</td>\n",
       "      <td>pkla-check-auth</td>\n",
       "      <td>-1</td>\n",
       "      <td>0</td>\n",
       "      <td>-1</td>\n",
       "      <td>0</td>\n",
       "      <td>0</td>\n",
       "      <td>0</td>\n",
       "    </tr>\n",
       "    <tr>\n",
       "      <th>1</th>\n",
       "      <td>998</td>\n",
       "      <td>0</td>\n",
       "      <td>pkla-check-auth</td>\n",
       "      <td>-1</td>\n",
       "      <td>0</td>\n",
       "      <td>-1</td>\n",
       "      <td>0</td>\n",
       "      <td>0</td>\n",
       "      <td>0</td>\n",
       "    </tr>\n",
       "    <tr>\n",
       "      <th>2</th>\n",
       "      <td>42</td>\n",
       "      <td>0</td>\n",
       "      <td>gsd-rfkill</td>\n",
       "      <td>-1</td>\n",
       "      <td>0</td>\n",
       "      <td>-1</td>\n",
       "      <td>0</td>\n",
       "      <td>0</td>\n",
       "      <td>0</td>\n",
       "    </tr>\n",
       "    <tr>\n",
       "      <th>3</th>\n",
       "      <td>42</td>\n",
       "      <td>0</td>\n",
       "      <td>gsd-sharing</td>\n",
       "      <td>-1</td>\n",
       "      <td>0</td>\n",
       "      <td>-1</td>\n",
       "      <td>0</td>\n",
       "      <td>0</td>\n",
       "      <td>0</td>\n",
       "    </tr>\n",
       "    <tr>\n",
       "      <th>4</th>\n",
       "      <td>42</td>\n",
       "      <td>0</td>\n",
       "      <td>gsd-keyboard</td>\n",
       "      <td>-1</td>\n",
       "      <td>0</td>\n",
       "      <td>-1</td>\n",
       "      <td>0</td>\n",
       "      <td>0</td>\n",
       "      <td>0</td>\n",
       "    </tr>\n",
       "  </tbody>\n",
       "</table>\n",
       "</div>"
      ],
      "text/plain": [
       "   suid  cap_fp             comm  parent_comm  exit  log key  n_dang  \\\n",
       "0   998       0  pkla-check-auth           -1     0       -1       0   \n",
       "1   998       0  pkla-check-auth           -1     0       -1       0   \n",
       "2    42       0       gsd-rfkill           -1     0       -1       0   \n",
       "3    42       0      gsd-sharing           -1     0       -1       0   \n",
       "4    42       0     gsd-keyboard           -1     0       -1       0   \n",
       "\n",
       "   n_dang_no_cron  fp_length  \n",
       "0               0          0  \n",
       "1               0          0  \n",
       "2               0          0  \n",
       "3               0          0  \n",
       "4               0          0  "
      ]
     },
     "execution_count": 61,
     "metadata": {},
     "output_type": "execute_result"
    }
   ],
   "source": [
    "an_df.head()"
   ]
  },
  {
   "cell_type": "code",
   "execution_count": 63,
   "id": "caeab32a-d025-4829-8c61-78bc2ba1d4b4",
   "metadata": {},
   "outputs": [],
   "source": [
    "import LaurelParamsExtractor"
   ]
  },
  {
   "cell_type": "code",
   "execution_count": null,
   "id": "14b176f7-c733-4da5-b901-975dae3ee361",
   "metadata": {},
   "outputs": [],
   "source": [
    "an_df_after = []\n",
    "\n",
    "for i, df in enumerate(an_df_list):\n",
    "    p = ParamsExtractor3.ParamsExtractor(df)\n",
    "    df = p.convert_params(df)\n",
    "    l = LaurelParamsExtractor.LaurelParamsExtractor()\n",
    "    new_df = l.get_params(df)\n",
    "    an_df_after.append(new_df)\n",
    "    an_df_list[i] = pd.concat([an_df_list[i], new_df], axis=1)"
   ]
  },
  {
   "cell_type": "code",
   "execution_count": null,
   "id": "bb7d5c47-d290-4191-878f-6d01b7ce4955",
   "metadata": {},
   "outputs": [],
   "source": [
    "an_df_list[0].head()"
   ]
  },
  {
   "cell_type": "code",
   "execution_count": null,
   "id": "74b973e5-2b81-4644-a9e7-66f0beb8b863",
   "metadata": {},
   "outputs": [],
   "source": [
    "for i, df in enumerate(an_df_list):\n",
    "    d = DataPreprocessor.DataPreprocessor(df)\n",
    "    enc = d.drop_and_hash_encode()\n",
    "    an_df_list[i] = enc\n",
    "\n",
    "print(an_df_list[0].head())"
   ]
  },
  {
   "cell_type": "code",
   "execution_count": null,
   "id": "f980bc78-f2b7-4208-a783-a1009b99037c",
   "metadata": {},
   "outputs": [],
   "source": [
    "# we test secure\n",
    "# we take the lines from the 230th (detected pwd bruteforcing)\n",
    "anomalous_dataset = an_df_list[0][230:]"
   ]
  },
  {
   "cell_type": "code",
   "execution_count": null,
   "id": "411c1dfc-0c30-41b1-ad5c-038405ea4379",
   "metadata": {},
   "outputs": [],
   "source": [
    "anomalous_dataset.shape"
   ]
  },
  {
   "cell_type": "code",
   "execution_count": null,
   "id": "51c88118-b8f0-4cbf-8f1a-c5a31ce42e9d",
   "metadata": {},
   "outputs": [],
   "source": [
    "anomalous_dataset.columns"
   ]
  },
  {
   "cell_type": "code",
   "execution_count": null,
   "id": "99887538-8a3f-4353-a581-3bec6a85a266",
   "metadata": {},
   "outputs": [],
   "source": [
    "df_list[0].columns"
   ]
  },
  {
   "cell_type": "code",
   "execution_count": null,
   "id": "6c96b7da-0c7f-4786-bb44-e11d9bde0122",
   "metadata": {},
   "outputs": [],
   "source": [
    "for i, df in enumerate(df_list):\n",
    "    df_list[i] = df.drop(['cap_fp', 'parent_comm', 'n_dang', 'n_dang_no_cron', 'fp_length', 'col_0', 'col_1', 'col_2', 'col_3', 'col_4', 'col_5', 'col_6', 'col_7', 'col_8', 'col_9','col_10', 'col_11', 'col_12', 'col_13', 'col_14', 'col_15', 'col_16','col_17', 'col_18', 'col_19'], axis=1)"
   ]
  },
  {
   "cell_type": "code",
   "execution_count": null,
   "id": "73c8b010-15cd-4503-8b96-b7d65fa8991e",
   "metadata": {},
   "outputs": [],
   "source": [
    "anomalous_dataset = anomalous_dataset.drop(['hostname', 'col_0', 'col_1', 'col_2', 'col_3', 'col_4', 'col_5', 'col_6', 'col_7', 'col_8', 'col_9','col_10', 'col_11', 'col_12', 'col_13', 'col_14', 'col_15', 'col_16','col_17', 'col_18', 'col_19'], axis=1)"
   ]
  },
  {
   "cell_type": "code",
   "execution_count": null,
   "id": "fb6e613e-82f9-4a4a-9c7f-9268ae3f5ecd",
   "metadata": {},
   "outputs": [],
   "source": [
    "df_list[0].columns"
   ]
  },
  {
   "cell_type": "code",
   "execution_count": null,
   "id": "ce766bcb-692a-4cea-9666-7a76185089b7",
   "metadata": {},
   "outputs": [],
   "source": [
    "anomalous_dataset.columns"
   ]
  },
  {
   "cell_type": "code",
   "execution_count": null,
   "id": "0dc4c783-45fa-4f0c-9e4c-647c72a200f0",
   "metadata": {},
   "outputs": [],
   "source": [
    "df_list[0].head()"
   ]
  },
  {
   "cell_type": "code",
   "execution_count": 64,
   "id": "6596be84-52ed-487c-881e-23bc8e8c3c19",
   "metadata": {},
   "outputs": [],
   "source": [
    "import EncodeCommand\n",
    "encoder = EncodeCommand.EncodeCommand()"
   ]
  },
  {
   "cell_type": "code",
   "execution_count": null,
   "id": "80f22560-0124-421e-8ff5-fc5132402f99",
   "metadata": {},
   "outputs": [],
   "source": [
    "for i, df in enumerate(df_list):\n",
    "    df_encoded = encoder.encode_command(df)\n",
    "    df_list[i] = df_encoded\n",
    "\n",
    "print(df_list[0].head())"
   ]
  },
  {
   "cell_type": "code",
   "execution_count": null,
   "id": "e77bcc3d-459b-41b2-a0af-4d1902dd2dff",
   "metadata": {},
   "outputs": [],
   "source": [
    "for i, df in enumerate(an_df_list):\n",
    "    df_encoded = encoder.encode_command(df)\n",
    "    an_df_list[i] = df_encoded\n",
    "\n",
    "print(an_df_list[0].head())"
   ]
  },
  {
   "cell_type": "code",
   "execution_count": null,
   "id": "5f7a46c3-6d57-4b87-83ff-125e745b704e",
   "metadata": {},
   "outputs": [],
   "source": [
    "anomalous_dataset_encoded = encoder.encode_command(anomalous_dataset)"
   ]
  },
  {
   "cell_type": "code",
   "execution_count": 65,
   "id": "8468bbb1-19f2-41ef-9a0b-16592fd1ef62",
   "metadata": {},
   "outputs": [],
   "source": [
    "anomalous_dataset_encoded = encoder.encode_command(an_df)"
   ]
  },
  {
   "cell_type": "code",
   "execution_count": 66,
   "id": "5b11ef38-478f-4ec6-92a7-7446f5addecb",
   "metadata": {},
   "outputs": [
    {
     "data": {
      "text/html": [
       "<div>\n",
       "<style scoped>\n",
       "    .dataframe tbody tr th:only-of-type {\n",
       "        vertical-align: middle;\n",
       "    }\n",
       "\n",
       "    .dataframe tbody tr th {\n",
       "        vertical-align: top;\n",
       "    }\n",
       "\n",
       "    .dataframe thead th {\n",
       "        text-align: right;\n",
       "    }\n",
       "</style>\n",
       "<table border=\"1\" class=\"dataframe\">\n",
       "  <thead>\n",
       "    <tr style=\"text-align: right;\">\n",
       "      <th></th>\n",
       "      <th>suid</th>\n",
       "      <th>cap_fp</th>\n",
       "      <th>comm</th>\n",
       "      <th>parent_comm</th>\n",
       "      <th>exit</th>\n",
       "      <th>log key</th>\n",
       "      <th>n_dang</th>\n",
       "      <th>n_dang_no_cron</th>\n",
       "      <th>fp_length</th>\n",
       "      <th>enc_comm</th>\n",
       "    </tr>\n",
       "  </thead>\n",
       "  <tbody>\n",
       "    <tr>\n",
       "      <th>0</th>\n",
       "      <td>998</td>\n",
       "      <td>0</td>\n",
       "      <td>pkla-check-auth</td>\n",
       "      <td>-1</td>\n",
       "      <td>0</td>\n",
       "      <td>-1</td>\n",
       "      <td>0</td>\n",
       "      <td>0</td>\n",
       "      <td>0</td>\n",
       "      <td>1</td>\n",
       "    </tr>\n",
       "    <tr>\n",
       "      <th>1</th>\n",
       "      <td>998</td>\n",
       "      <td>0</td>\n",
       "      <td>pkla-check-auth</td>\n",
       "      <td>-1</td>\n",
       "      <td>0</td>\n",
       "      <td>-1</td>\n",
       "      <td>0</td>\n",
       "      <td>0</td>\n",
       "      <td>0</td>\n",
       "      <td>1</td>\n",
       "    </tr>\n",
       "    <tr>\n",
       "      <th>2</th>\n",
       "      <td>42</td>\n",
       "      <td>0</td>\n",
       "      <td>gsd-rfkill</td>\n",
       "      <td>-1</td>\n",
       "      <td>0</td>\n",
       "      <td>-1</td>\n",
       "      <td>0</td>\n",
       "      <td>0</td>\n",
       "      <td>0</td>\n",
       "      <td>2</td>\n",
       "    </tr>\n",
       "    <tr>\n",
       "      <th>3</th>\n",
       "      <td>42</td>\n",
       "      <td>0</td>\n",
       "      <td>gsd-sharing</td>\n",
       "      <td>-1</td>\n",
       "      <td>0</td>\n",
       "      <td>-1</td>\n",
       "      <td>0</td>\n",
       "      <td>0</td>\n",
       "      <td>0</td>\n",
       "      <td>3</td>\n",
       "    </tr>\n",
       "    <tr>\n",
       "      <th>4</th>\n",
       "      <td>42</td>\n",
       "      <td>0</td>\n",
       "      <td>gsd-keyboard</td>\n",
       "      <td>-1</td>\n",
       "      <td>0</td>\n",
       "      <td>-1</td>\n",
       "      <td>0</td>\n",
       "      <td>0</td>\n",
       "      <td>0</td>\n",
       "      <td>4</td>\n",
       "    </tr>\n",
       "  </tbody>\n",
       "</table>\n",
       "</div>"
      ],
      "text/plain": [
       "   suid  cap_fp             comm  parent_comm  exit  log key  n_dang  \\\n",
       "0   998       0  pkla-check-auth           -1     0       -1       0   \n",
       "1   998       0  pkla-check-auth           -1     0       -1       0   \n",
       "2    42       0       gsd-rfkill           -1     0       -1       0   \n",
       "3    42       0      gsd-sharing           -1     0       -1       0   \n",
       "4    42       0     gsd-keyboard           -1     0       -1       0   \n",
       "\n",
       "   n_dang_no_cron  fp_length  enc_comm  \n",
       "0               0          0         1  \n",
       "1               0          0         1  \n",
       "2               0          0         2  \n",
       "3               0          0         3  \n",
       "4               0          0         4  "
      ]
     },
     "execution_count": 66,
     "metadata": {},
     "output_type": "execute_result"
    }
   ],
   "source": [
    "anomalous_dataset_encoded.head()"
   ]
  },
  {
   "cell_type": "code",
   "execution_count": 67,
   "id": "f85809c1-605c-46ea-9687-6266fa634d77",
   "metadata": {},
   "outputs": [
    {
     "data": {
      "text/plain": [
       "Index(['suid', 'cap_fp', 'comm', 'parent_comm', 'exit', 'log key', 'n_dang',\n",
       "       'n_dang_no_cron', 'fp_length', 'enc_comm'],\n",
       "      dtype='object')"
      ]
     },
     "execution_count": 67,
     "metadata": {},
     "output_type": "execute_result"
    }
   ],
   "source": [
    "anomalous_dataset_encoded.columns"
   ]
  },
  {
   "cell_type": "markdown",
   "id": "7d0f2105-f32b-44fc-8573-e0550aed9319",
   "metadata": {},
   "source": [
    "## Library implementation"
   ]
  },
  {
   "cell_type": "code",
   "execution_count": 68,
   "id": "31d3f29b-ee28-4bae-a51f-8f225e45d52e",
   "metadata": {},
   "outputs": [],
   "source": [
    "normal_dataset_df = pd.DataFrame(df_list[0], columns=['severity_scores', 'timedelta', 'suid', 'exit', 'enc_comm'])\n",
    "anomalous_dataset_df = pd.DataFrame(anomalous_dataset_encoded, columns=['severity_scores', 'timedelta', 'suid', 'exit', 'enc_comm'])"
   ]
  },
  {
   "cell_type": "code",
   "execution_count": 69,
   "id": "15723da0-d03c-48ea-abc2-3efa6b5f5b62",
   "metadata": {},
   "outputs": [
    {
     "name": "stderr",
     "output_type": "stream",
     "text": [
      "/home/rocky/.local/lib/python3.9/site-packages/sklearn/utils/_array_api.py:472: RuntimeWarning: All-NaN slice encountered\n",
      "  return xp.asarray(numpy.nanmin(X, axis=axis))\n",
      "/home/rocky/.local/lib/python3.9/site-packages/sklearn/utils/_array_api.py:489: RuntimeWarning: All-NaN slice encountered\n",
      "  return xp.asarray(numpy.nanmax(X, axis=axis))\n"
     ]
    },
    {
     "name": "stdout",
     "output_type": "stream",
     "text": [
      "Mean normal reconstruction error: nan\n",
      "Mean anomalous reconstruction error: nan\n"
     ]
    },
    {
     "name": "stderr",
     "output_type": "stream",
     "text": [
      "/home/rocky/.local/lib/python3.9/site-packages/matplotlib/axes/_axes.py:6834: RuntimeWarning: All-NaN slice encountered\n",
      "  xmin = min(xmin, np.nanmin(xi))\n",
      "/home/rocky/.local/lib/python3.9/site-packages/matplotlib/axes/_axes.py:6835: RuntimeWarning: All-NaN slice encountered\n",
      "  xmax = max(xmax, np.nanmax(xi))\n"
     ]
    },
    {
     "ename": "ValueError",
     "evalue": "Data has no positive values, and therefore cannot be log-scaled.",
     "output_type": "error",
     "traceback": [
      "\u001b[0;31m---------------------------------------------------------------------------\u001b[0m",
      "\u001b[0;31mValueError\u001b[0m                                Traceback (most recent call last)",
      "File \u001b[0;32m~/.local/lib/python3.9/site-packages/IPython/core/formatters.py:340\u001b[0m, in \u001b[0;36mBaseFormatter.__call__\u001b[0;34m(self, obj)\u001b[0m\n\u001b[1;32m    338\u001b[0m     \u001b[38;5;28;01mpass\u001b[39;00m\n\u001b[1;32m    339\u001b[0m \u001b[38;5;28;01melse\u001b[39;00m:\n\u001b[0;32m--> 340\u001b[0m     \u001b[38;5;28;01mreturn\u001b[39;00m \u001b[43mprinter\u001b[49m\u001b[43m(\u001b[49m\u001b[43mobj\u001b[49m\u001b[43m)\u001b[49m\n\u001b[1;32m    341\u001b[0m \u001b[38;5;66;03m# Finally look for special method names\u001b[39;00m\n\u001b[1;32m    342\u001b[0m method \u001b[38;5;241m=\u001b[39m get_real_method(obj, \u001b[38;5;28mself\u001b[39m\u001b[38;5;241m.\u001b[39mprint_method)\n",
      "File \u001b[0;32m~/.local/lib/python3.9/site-packages/IPython/core/pylabtools.py:152\u001b[0m, in \u001b[0;36mprint_figure\u001b[0;34m(fig, fmt, bbox_inches, base64, **kwargs)\u001b[0m\n\u001b[1;32m    149\u001b[0m     \u001b[38;5;28;01mfrom\u001b[39;00m \u001b[38;5;21;01mmatplotlib\u001b[39;00m\u001b[38;5;21;01m.\u001b[39;00m\u001b[38;5;21;01mbackend_bases\u001b[39;00m \u001b[38;5;28;01mimport\u001b[39;00m FigureCanvasBase\n\u001b[1;32m    150\u001b[0m     FigureCanvasBase(fig)\n\u001b[0;32m--> 152\u001b[0m \u001b[43mfig\u001b[49m\u001b[38;5;241;43m.\u001b[39;49m\u001b[43mcanvas\u001b[49m\u001b[38;5;241;43m.\u001b[39;49m\u001b[43mprint_figure\u001b[49m\u001b[43m(\u001b[49m\u001b[43mbytes_io\u001b[49m\u001b[43m,\u001b[49m\u001b[43m \u001b[49m\u001b[38;5;241;43m*\u001b[39;49m\u001b[38;5;241;43m*\u001b[39;49m\u001b[43mkw\u001b[49m\u001b[43m)\u001b[49m\n\u001b[1;32m    153\u001b[0m data \u001b[38;5;241m=\u001b[39m bytes_io\u001b[38;5;241m.\u001b[39mgetvalue()\n\u001b[1;32m    154\u001b[0m \u001b[38;5;28;01mif\u001b[39;00m fmt \u001b[38;5;241m==\u001b[39m \u001b[38;5;124m'\u001b[39m\u001b[38;5;124msvg\u001b[39m\u001b[38;5;124m'\u001b[39m:\n",
      "File \u001b[0;32m~/.local/lib/python3.9/site-packages/matplotlib/backend_bases.py:2164\u001b[0m, in \u001b[0;36mFigureCanvasBase.print_figure\u001b[0;34m(self, filename, dpi, facecolor, edgecolor, orientation, format, bbox_inches, pad_inches, bbox_extra_artists, backend, **kwargs)\u001b[0m\n\u001b[1;32m   2161\u001b[0m     \u001b[38;5;66;03m# we do this instead of `self.figure.draw_without_rendering`\u001b[39;00m\n\u001b[1;32m   2162\u001b[0m     \u001b[38;5;66;03m# so that we can inject the orientation\u001b[39;00m\n\u001b[1;32m   2163\u001b[0m     \u001b[38;5;28;01mwith\u001b[39;00m \u001b[38;5;28mgetattr\u001b[39m(renderer, \u001b[38;5;124m\"\u001b[39m\u001b[38;5;124m_draw_disabled\u001b[39m\u001b[38;5;124m\"\u001b[39m, nullcontext)():\n\u001b[0;32m-> 2164\u001b[0m         \u001b[38;5;28;43mself\u001b[39;49m\u001b[38;5;241;43m.\u001b[39;49m\u001b[43mfigure\u001b[49m\u001b[38;5;241;43m.\u001b[39;49m\u001b[43mdraw\u001b[49m\u001b[43m(\u001b[49m\u001b[43mrenderer\u001b[49m\u001b[43m)\u001b[49m\n\u001b[1;32m   2165\u001b[0m \u001b[38;5;28;01mif\u001b[39;00m bbox_inches:\n\u001b[1;32m   2166\u001b[0m     \u001b[38;5;28;01mif\u001b[39;00m bbox_inches \u001b[38;5;241m==\u001b[39m \u001b[38;5;124m\"\u001b[39m\u001b[38;5;124mtight\u001b[39m\u001b[38;5;124m\"\u001b[39m:\n",
      "File \u001b[0;32m~/.local/lib/python3.9/site-packages/matplotlib/artist.py:95\u001b[0m, in \u001b[0;36m_finalize_rasterization.<locals>.draw_wrapper\u001b[0;34m(artist, renderer, *args, **kwargs)\u001b[0m\n\u001b[1;32m     93\u001b[0m \u001b[38;5;129m@wraps\u001b[39m(draw)\n\u001b[1;32m     94\u001b[0m \u001b[38;5;28;01mdef\u001b[39;00m \u001b[38;5;21mdraw_wrapper\u001b[39m(artist, renderer, \u001b[38;5;241m*\u001b[39margs, \u001b[38;5;241m*\u001b[39m\u001b[38;5;241m*\u001b[39mkwargs):\n\u001b[0;32m---> 95\u001b[0m     result \u001b[38;5;241m=\u001b[39m \u001b[43mdraw\u001b[49m\u001b[43m(\u001b[49m\u001b[43martist\u001b[49m\u001b[43m,\u001b[49m\u001b[43m \u001b[49m\u001b[43mrenderer\u001b[49m\u001b[43m,\u001b[49m\u001b[43m \u001b[49m\u001b[38;5;241;43m*\u001b[39;49m\u001b[43margs\u001b[49m\u001b[43m,\u001b[49m\u001b[43m \u001b[49m\u001b[38;5;241;43m*\u001b[39;49m\u001b[38;5;241;43m*\u001b[39;49m\u001b[43mkwargs\u001b[49m\u001b[43m)\u001b[49m\n\u001b[1;32m     96\u001b[0m     \u001b[38;5;28;01mif\u001b[39;00m renderer\u001b[38;5;241m.\u001b[39m_rasterizing:\n\u001b[1;32m     97\u001b[0m         renderer\u001b[38;5;241m.\u001b[39mstop_rasterizing()\n",
      "File \u001b[0;32m~/.local/lib/python3.9/site-packages/matplotlib/artist.py:72\u001b[0m, in \u001b[0;36mallow_rasterization.<locals>.draw_wrapper\u001b[0;34m(artist, renderer)\u001b[0m\n\u001b[1;32m     69\u001b[0m     \u001b[38;5;28;01mif\u001b[39;00m artist\u001b[38;5;241m.\u001b[39mget_agg_filter() \u001b[38;5;129;01mis\u001b[39;00m \u001b[38;5;129;01mnot\u001b[39;00m \u001b[38;5;28;01mNone\u001b[39;00m:\n\u001b[1;32m     70\u001b[0m         renderer\u001b[38;5;241m.\u001b[39mstart_filter()\n\u001b[0;32m---> 72\u001b[0m     \u001b[38;5;28;01mreturn\u001b[39;00m \u001b[43mdraw\u001b[49m\u001b[43m(\u001b[49m\u001b[43martist\u001b[49m\u001b[43m,\u001b[49m\u001b[43m \u001b[49m\u001b[43mrenderer\u001b[49m\u001b[43m)\u001b[49m\n\u001b[1;32m     73\u001b[0m \u001b[38;5;28;01mfinally\u001b[39;00m:\n\u001b[1;32m     74\u001b[0m     \u001b[38;5;28;01mif\u001b[39;00m artist\u001b[38;5;241m.\u001b[39mget_agg_filter() \u001b[38;5;129;01mis\u001b[39;00m \u001b[38;5;129;01mnot\u001b[39;00m \u001b[38;5;28;01mNone\u001b[39;00m:\n",
      "File \u001b[0;32m~/.local/lib/python3.9/site-packages/matplotlib/figure.py:3154\u001b[0m, in \u001b[0;36mFigure.draw\u001b[0;34m(self, renderer)\u001b[0m\n\u001b[1;32m   3151\u001b[0m         \u001b[38;5;66;03m# ValueError can occur when resizing a window.\u001b[39;00m\n\u001b[1;32m   3153\u001b[0m \u001b[38;5;28mself\u001b[39m\u001b[38;5;241m.\u001b[39mpatch\u001b[38;5;241m.\u001b[39mdraw(renderer)\n\u001b[0;32m-> 3154\u001b[0m \u001b[43mmimage\u001b[49m\u001b[38;5;241;43m.\u001b[39;49m\u001b[43m_draw_list_compositing_images\u001b[49m\u001b[43m(\u001b[49m\n\u001b[1;32m   3155\u001b[0m \u001b[43m    \u001b[49m\u001b[43mrenderer\u001b[49m\u001b[43m,\u001b[49m\u001b[43m \u001b[49m\u001b[38;5;28;43mself\u001b[39;49m\u001b[43m,\u001b[49m\u001b[43m \u001b[49m\u001b[43martists\u001b[49m\u001b[43m,\u001b[49m\u001b[43m \u001b[49m\u001b[38;5;28;43mself\u001b[39;49m\u001b[38;5;241;43m.\u001b[39;49m\u001b[43msuppressComposite\u001b[49m\u001b[43m)\u001b[49m\n\u001b[1;32m   3157\u001b[0m \u001b[38;5;28;01mfor\u001b[39;00m sfig \u001b[38;5;129;01min\u001b[39;00m \u001b[38;5;28mself\u001b[39m\u001b[38;5;241m.\u001b[39msubfigs:\n\u001b[1;32m   3158\u001b[0m     sfig\u001b[38;5;241m.\u001b[39mdraw(renderer)\n",
      "File \u001b[0;32m~/.local/lib/python3.9/site-packages/matplotlib/image.py:132\u001b[0m, in \u001b[0;36m_draw_list_compositing_images\u001b[0;34m(renderer, parent, artists, suppress_composite)\u001b[0m\n\u001b[1;32m    130\u001b[0m \u001b[38;5;28;01mif\u001b[39;00m not_composite \u001b[38;5;129;01mor\u001b[39;00m \u001b[38;5;129;01mnot\u001b[39;00m has_images:\n\u001b[1;32m    131\u001b[0m     \u001b[38;5;28;01mfor\u001b[39;00m a \u001b[38;5;129;01min\u001b[39;00m artists:\n\u001b[0;32m--> 132\u001b[0m         \u001b[43ma\u001b[49m\u001b[38;5;241;43m.\u001b[39;49m\u001b[43mdraw\u001b[49m\u001b[43m(\u001b[49m\u001b[43mrenderer\u001b[49m\u001b[43m)\u001b[49m\n\u001b[1;32m    133\u001b[0m \u001b[38;5;28;01melse\u001b[39;00m:\n\u001b[1;32m    134\u001b[0m     \u001b[38;5;66;03m# Composite any adjacent images together\u001b[39;00m\n\u001b[1;32m    135\u001b[0m     image_group \u001b[38;5;241m=\u001b[39m []\n",
      "File \u001b[0;32m~/.local/lib/python3.9/site-packages/matplotlib/artist.py:72\u001b[0m, in \u001b[0;36mallow_rasterization.<locals>.draw_wrapper\u001b[0;34m(artist, renderer)\u001b[0m\n\u001b[1;32m     69\u001b[0m     \u001b[38;5;28;01mif\u001b[39;00m artist\u001b[38;5;241m.\u001b[39mget_agg_filter() \u001b[38;5;129;01mis\u001b[39;00m \u001b[38;5;129;01mnot\u001b[39;00m \u001b[38;5;28;01mNone\u001b[39;00m:\n\u001b[1;32m     70\u001b[0m         renderer\u001b[38;5;241m.\u001b[39mstart_filter()\n\u001b[0;32m---> 72\u001b[0m     \u001b[38;5;28;01mreturn\u001b[39;00m \u001b[43mdraw\u001b[49m\u001b[43m(\u001b[49m\u001b[43martist\u001b[49m\u001b[43m,\u001b[49m\u001b[43m \u001b[49m\u001b[43mrenderer\u001b[49m\u001b[43m)\u001b[49m\n\u001b[1;32m     73\u001b[0m \u001b[38;5;28;01mfinally\u001b[39;00m:\n\u001b[1;32m     74\u001b[0m     \u001b[38;5;28;01mif\u001b[39;00m artist\u001b[38;5;241m.\u001b[39mget_agg_filter() \u001b[38;5;129;01mis\u001b[39;00m \u001b[38;5;129;01mnot\u001b[39;00m \u001b[38;5;28;01mNone\u001b[39;00m:\n",
      "File \u001b[0;32m~/.local/lib/python3.9/site-packages/matplotlib/axes/_base.py:3034\u001b[0m, in \u001b[0;36m_AxesBase.draw\u001b[0;34m(self, renderer)\u001b[0m\n\u001b[1;32m   3031\u001b[0m     \u001b[38;5;28;01mfor\u001b[39;00m spine \u001b[38;5;129;01min\u001b[39;00m \u001b[38;5;28mself\u001b[39m\u001b[38;5;241m.\u001b[39mspines\u001b[38;5;241m.\u001b[39mvalues():\n\u001b[1;32m   3032\u001b[0m         artists\u001b[38;5;241m.\u001b[39mremove(spine)\n\u001b[0;32m-> 3034\u001b[0m \u001b[38;5;28;43mself\u001b[39;49m\u001b[38;5;241;43m.\u001b[39;49m\u001b[43m_update_title_position\u001b[49m\u001b[43m(\u001b[49m\u001b[43mrenderer\u001b[49m\u001b[43m)\u001b[49m\n\u001b[1;32m   3036\u001b[0m \u001b[38;5;28;01mif\u001b[39;00m \u001b[38;5;129;01mnot\u001b[39;00m \u001b[38;5;28mself\u001b[39m\u001b[38;5;241m.\u001b[39maxison:\n\u001b[1;32m   3037\u001b[0m     \u001b[38;5;28;01mfor\u001b[39;00m _axis \u001b[38;5;129;01min\u001b[39;00m \u001b[38;5;28mself\u001b[39m\u001b[38;5;241m.\u001b[39m_axis_map\u001b[38;5;241m.\u001b[39mvalues():\n",
      "File \u001b[0;32m~/.local/lib/python3.9/site-packages/matplotlib/axes/_base.py:2978\u001b[0m, in \u001b[0;36m_AxesBase._update_title_position\u001b[0;34m(self, renderer)\u001b[0m\n\u001b[1;32m   2976\u001b[0m top \u001b[38;5;241m=\u001b[39m \u001b[38;5;28mmax\u001b[39m(top, bb\u001b[38;5;241m.\u001b[39mymax)\n\u001b[1;32m   2977\u001b[0m \u001b[38;5;28;01mif\u001b[39;00m title\u001b[38;5;241m.\u001b[39mget_text():\n\u001b[0;32m-> 2978\u001b[0m     \u001b[43max\u001b[49m\u001b[38;5;241;43m.\u001b[39;49m\u001b[43myaxis\u001b[49m\u001b[38;5;241;43m.\u001b[39;49m\u001b[43mget_tightbbox\u001b[49m\u001b[43m(\u001b[49m\u001b[43mrenderer\u001b[49m\u001b[43m)\u001b[49m  \u001b[38;5;66;03m# update offsetText\u001b[39;00m\n\u001b[1;32m   2979\u001b[0m     \u001b[38;5;28;01mif\u001b[39;00m ax\u001b[38;5;241m.\u001b[39myaxis\u001b[38;5;241m.\u001b[39moffsetText\u001b[38;5;241m.\u001b[39mget_text():\n\u001b[1;32m   2980\u001b[0m         bb \u001b[38;5;241m=\u001b[39m ax\u001b[38;5;241m.\u001b[39myaxis\u001b[38;5;241m.\u001b[39moffsetText\u001b[38;5;241m.\u001b[39mget_tightbbox(renderer)\n",
      "File \u001b[0;32m~/.local/lib/python3.9/site-packages/matplotlib/axis.py:1334\u001b[0m, in \u001b[0;36mAxis.get_tightbbox\u001b[0;34m(self, renderer, for_layout_only)\u001b[0m\n\u001b[1;32m   1332\u001b[0m \u001b[38;5;28;01mif\u001b[39;00m renderer \u001b[38;5;129;01mis\u001b[39;00m \u001b[38;5;28;01mNone\u001b[39;00m:\n\u001b[1;32m   1333\u001b[0m     renderer \u001b[38;5;241m=\u001b[39m \u001b[38;5;28mself\u001b[39m\u001b[38;5;241m.\u001b[39mfigure\u001b[38;5;241m.\u001b[39m_get_renderer()\n\u001b[0;32m-> 1334\u001b[0m ticks_to_draw \u001b[38;5;241m=\u001b[39m \u001b[38;5;28;43mself\u001b[39;49m\u001b[38;5;241;43m.\u001b[39;49m\u001b[43m_update_ticks\u001b[49m\u001b[43m(\u001b[49m\u001b[43m)\u001b[49m\n\u001b[1;32m   1336\u001b[0m \u001b[38;5;28mself\u001b[39m\u001b[38;5;241m.\u001b[39m_update_label_position(renderer)\n\u001b[1;32m   1338\u001b[0m \u001b[38;5;66;03m# go back to just this axis's tick labels\u001b[39;00m\n",
      "File \u001b[0;32m~/.local/lib/python3.9/site-packages/matplotlib/axis.py:1275\u001b[0m, in \u001b[0;36mAxis._update_ticks\u001b[0;34m(self)\u001b[0m\n\u001b[1;32m   1270\u001b[0m \u001b[38;5;28;01mdef\u001b[39;00m \u001b[38;5;21m_update_ticks\u001b[39m(\u001b[38;5;28mself\u001b[39m):\n\u001b[1;32m   1271\u001b[0m \u001b[38;5;250m    \u001b[39m\u001b[38;5;124;03m\"\"\"\u001b[39;00m\n\u001b[1;32m   1272\u001b[0m \u001b[38;5;124;03m    Update ticks (position and labels) using the current data interval of\u001b[39;00m\n\u001b[1;32m   1273\u001b[0m \u001b[38;5;124;03m    the axes.  Return the list of ticks that will be drawn.\u001b[39;00m\n\u001b[1;32m   1274\u001b[0m \u001b[38;5;124;03m    \"\"\"\u001b[39;00m\n\u001b[0;32m-> 1275\u001b[0m     major_locs \u001b[38;5;241m=\u001b[39m \u001b[38;5;28;43mself\u001b[39;49m\u001b[38;5;241;43m.\u001b[39;49m\u001b[43mget_majorticklocs\u001b[49m\u001b[43m(\u001b[49m\u001b[43m)\u001b[49m\n\u001b[1;32m   1276\u001b[0m     major_labels \u001b[38;5;241m=\u001b[39m \u001b[38;5;28mself\u001b[39m\u001b[38;5;241m.\u001b[39mmajor\u001b[38;5;241m.\u001b[39mformatter\u001b[38;5;241m.\u001b[39mformat_ticks(major_locs)\n\u001b[1;32m   1277\u001b[0m     major_ticks \u001b[38;5;241m=\u001b[39m \u001b[38;5;28mself\u001b[39m\u001b[38;5;241m.\u001b[39mget_major_ticks(\u001b[38;5;28mlen\u001b[39m(major_locs))\n",
      "File \u001b[0;32m~/.local/lib/python3.9/site-packages/matplotlib/axis.py:1495\u001b[0m, in \u001b[0;36mAxis.get_majorticklocs\u001b[0;34m(self)\u001b[0m\n\u001b[1;32m   1493\u001b[0m \u001b[38;5;28;01mdef\u001b[39;00m \u001b[38;5;21mget_majorticklocs\u001b[39m(\u001b[38;5;28mself\u001b[39m):\n\u001b[1;32m   1494\u001b[0m \u001b[38;5;250m    \u001b[39m\u001b[38;5;124;03m\"\"\"Return this Axis' major tick locations in data coordinates.\"\"\"\u001b[39;00m\n\u001b[0;32m-> 1495\u001b[0m     \u001b[38;5;28;01mreturn\u001b[39;00m \u001b[38;5;28;43mself\u001b[39;49m\u001b[38;5;241;43m.\u001b[39;49m\u001b[43mmajor\u001b[49m\u001b[38;5;241;43m.\u001b[39;49m\u001b[43mlocator\u001b[49m\u001b[43m(\u001b[49m\u001b[43m)\u001b[49m\n",
      "File \u001b[0;32m~/.local/lib/python3.9/site-packages/matplotlib/ticker.py:2323\u001b[0m, in \u001b[0;36mLogLocator.__call__\u001b[0;34m(self)\u001b[0m\n\u001b[1;32m   2321\u001b[0m \u001b[38;5;250m\u001b[39m\u001b[38;5;124;03m\"\"\"Return the locations of the ticks.\"\"\"\u001b[39;00m\n\u001b[1;32m   2322\u001b[0m vmin, vmax \u001b[38;5;241m=\u001b[39m \u001b[38;5;28mself\u001b[39m\u001b[38;5;241m.\u001b[39maxis\u001b[38;5;241m.\u001b[39mget_view_interval()\n\u001b[0;32m-> 2323\u001b[0m \u001b[38;5;28;01mreturn\u001b[39;00m \u001b[38;5;28;43mself\u001b[39;49m\u001b[38;5;241;43m.\u001b[39;49m\u001b[43mtick_values\u001b[49m\u001b[43m(\u001b[49m\u001b[43mvmin\u001b[49m\u001b[43m,\u001b[49m\u001b[43m \u001b[49m\u001b[43mvmax\u001b[49m\u001b[43m)\u001b[49m\n",
      "File \u001b[0;32m~/.local/lib/python3.9/site-packages/matplotlib/ticker.py:2340\u001b[0m, in \u001b[0;36mLogLocator.tick_values\u001b[0;34m(self, vmin, vmax)\u001b[0m\n\u001b[1;32m   2337\u001b[0m         vmin \u001b[38;5;241m=\u001b[39m \u001b[38;5;28mself\u001b[39m\u001b[38;5;241m.\u001b[39maxis\u001b[38;5;241m.\u001b[39mget_minpos()\n\u001b[1;32m   2339\u001b[0m     \u001b[38;5;28;01mif\u001b[39;00m vmin \u001b[38;5;241m<\u001b[39m\u001b[38;5;241m=\u001b[39m \u001b[38;5;241m0.0\u001b[39m \u001b[38;5;129;01mor\u001b[39;00m \u001b[38;5;129;01mnot\u001b[39;00m np\u001b[38;5;241m.\u001b[39misfinite(vmin):\n\u001b[0;32m-> 2340\u001b[0m         \u001b[38;5;28;01mraise\u001b[39;00m \u001b[38;5;167;01mValueError\u001b[39;00m(\n\u001b[1;32m   2341\u001b[0m             \u001b[38;5;124m\"\u001b[39m\u001b[38;5;124mData has no positive values, and therefore cannot be log-scaled.\u001b[39m\u001b[38;5;124m\"\u001b[39m)\n\u001b[1;32m   2343\u001b[0m _log\u001b[38;5;241m.\u001b[39mdebug(\u001b[38;5;124m'\u001b[39m\u001b[38;5;124mvmin \u001b[39m\u001b[38;5;132;01m%s\u001b[39;00m\u001b[38;5;124m vmax \u001b[39m\u001b[38;5;132;01m%s\u001b[39;00m\u001b[38;5;124m'\u001b[39m, vmin, vmax)\n\u001b[1;32m   2345\u001b[0m \u001b[38;5;28;01mif\u001b[39;00m vmax \u001b[38;5;241m<\u001b[39m vmin:\n",
      "\u001b[0;31mValueError\u001b[0m: Data has no positive values, and therefore cannot be log-scaled."
     ]
    },
    {
     "data": {
      "text/plain": [
       "<Figure size 1000x600 with 1 Axes>"
      ]
     },
     "metadata": {},
     "output_type": "display_data"
    },
    {
     "name": "stdout",
     "output_type": "stream",
     "text": [
      "Threshold for anomaly detection: nan\n",
      "Number of anomalies detected: 0\n",
      "Number of false positives detected: 0\n"
     ]
    },
    {
     "data": {
      "image/png": "[encoded data removed]",
      "text/plain": [
       "<Figure size 800x600 with 2 Axes>"
      ]
     },
     "metadata": {},
     "output_type": "display_data"
    }
   ],
   "source": [
    "d_an_det = DeepLearningAnomalyDetection2.DeepLearningAnomalyDetection()\n",
    "true_anomalies, reconstructed_anomalies, fp_ = d_an_det.train_test_model(normal_dataset_df, anomalous_dataset_df, 'autoencoder', laurel=1, plots=[0,0,1,1])"
   ]
  },
  {
   "cell_type": "code",
   "execution_count": null,
   "id": "eb69652f-3966-4c54-a4a6-65e280ee832f",
   "metadata": {},
   "outputs": [],
   "source": [
    "d_an_det = DeepLearningAnomalyDetection2.DeepLearningAnomalyDetection()\n",
    "true_anomalies_vae, reconstructed_anomalies_vae, fp = d_an_det.train_test_model(normal_dataset_df, anomalous_dataset_df, 'vae', laurel=1, plots=[0,0,1,1])"
   ]
  },
  {
   "cell_type": "code",
   "execution_count": null,
   "id": "38bf125b-0b38-4d4b-8667-0ef17b5ac37d",
   "metadata": {},
   "outputs": [],
   "source": [
    "d_an_det.ensemble_method(normal_dataset_df, anomalous_dataset, plots=[1])"
   ]
  },
  {
   "cell_type": "code",
   "execution_count": null,
   "id": "526f718f-33b8-4543-b6f2-c52f0469c78c",
   "metadata": {},
   "outputs": [],
   "source": [
    "# Example predictions from two models (replace with your actual predictions)\n",
    "predictions_model1 = reconstructed_anomalies\n",
    "predictions_model2 = reconstructed_anomalies_vae\n",
    "\n",
    "# Combine predictions using logical OR (voting scheme)\n",
    "combined_predictions = np.logical_and(predictions_model1, predictions_model2).astype(int)\n",
    "\n",
    "# Example thresholding (adjust as needed)\n",
    "threshold = 0.5  # Simple majority voting\n",
    "\n",
    "# Convert to final anomaly predictions based on threshold\n",
    "final_predictions = (combined_predictions >= threshold).astype(int)\n",
    "\n",
    "# Print or use the final predictions\n",
    "print(\"Combined Predictions:\", combined_predictions)\n",
    "print(\"Final Anomaly Predictions:\", final_predictions)"
   ]
  },
  {
   "cell_type": "code",
   "execution_count": null,
   "id": "27818862-17f9-4d42-bba1-1e5c9c4e7017",
   "metadata": {},
   "outputs": [],
   "source": [
    "from sklearn.metrics import confusion_matrix\n",
    "import seaborn as sns\n",
    "import matplotlib.pyplot as plt"
   ]
  },
  {
   "cell_type": "code",
   "execution_count": null,
   "id": "488ae0e5-e2f9-4040-8510-e2af8d3452fb",
   "metadata": {},
   "outputs": [],
   "source": [
    "# Example ground truth and predictions (replace with your actual data)\n",
    "ground_truth = true_anomalies\n",
    "predictions = final_predictions\n",
    "            \n",
    "# Calculate confusion matrix\n",
    "cm = confusion_matrix(ground_truth, predictions)\n",
    "            \n",
    "# Plot confusion matrix\n",
    "plt.figure(figsize=(8, 6))\n",
    "sns.heatmap(cm, annot=True, fmt='d', cmap='Blues', \n",
    "                        xticklabels=['Normal', 'Anomaly'], \n",
    "                        yticklabels=['Normal', 'Anomaly'])\n",
    "plt.xlabel('Predicted')\n",
    "plt.ylabel('Actual')\n",
    "plt.title('Confusion Matrix')\n",
    "plt.show()"
   ]
  }
 ],
 "metadata": {
  "kernelspec": {
   "display_name": "Python 3 (ipykernel)",
   "language": "python",
   "name": "python3"
  },
  "language_info": {
   "codemirror_mode": {
    "name": "ipython",
    "version": 3
   },
   "file_extension": ".py",
   "mimetype": "text/x-python",
   "name": "python",
   "nbconvert_exporter": "python",
   "pygments_lexer": "ipython3",
   "version": "3.9.18"
  }
 },
 "nbformat": 4,
 "nbformat_minor": 5
}
