{
 "cells": [
  {
   "cell_type": "markdown",
   "id": "f9802504-1823-4b44-becd-9103769793ed",
   "metadata": {},
   "source": [
    "# Analysis on laurel logs"
   ]
  },
  {
   "cell_type": "code",
   "execution_count": 1,
   "id": "a53b279e-e4ee-4818-9fc8-114099f0e7c0",
   "metadata": {},
   "outputs": [],
   "source": [
    "import os\n",
    "import sys\n",
    "import numpy as np\n",
    "import pandas as pd"
   ]
  },
  {
   "cell_type": "code",
   "execution_count": 2,
   "id": "7dbd8efe-3368-4b32-84fb-e0a1c122d21a",
   "metadata": {},
   "outputs": [],
   "source": [
    "sys.path.append('../')\n",
    "sys.path.append('../src/')\n",
    "sys.path.append('../spell/')"
   ]
  },
  {
   "cell_type": "code",
   "execution_count": 3,
   "id": "ffec0691-73d2-4c4c-b66f-9dfcf857dbb2",
   "metadata": {},
   "outputs": [
    {
     "name": "stderr",
     "output_type": "stream",
     "text": [
      "2024-07-10 14:49:24.015417: I tensorflow/core/util/port.cc:113] oneDNN custom operations are on. You may see slightly different numerical results due to floating-point round-off errors from different computation orders. To turn them off, set the environment variable `TF_ENABLE_ONEDNN_OPTS=0`.\n",
      "2024-07-10 14:49:24.016088: I external/local_tsl/tsl/cuda/cudart_stub.cc:32] Could not find cuda drivers on your machine, GPU will not be used.\n",
      "2024-07-10 14:49:24.021645: I external/local_tsl/tsl/cuda/cudart_stub.cc:32] Could not find cuda drivers on your machine, GPU will not be used.\n",
      "2024-07-10 14:49:24.076089: I tensorflow/core/platform/cpu_feature_guard.cc:210] This TensorFlow binary is optimized to use available CPU instructions in performance-critical operations.\n",
      "To enable the following instructions: AVX2 AVX512F AVX512_VNNI FMA, in other operations, rebuild TensorFlow with the appropriate compiler flags.\n",
      "2024-07-10 14:49:24.880627: W tensorflow/compiler/tf2tensorrt/utils/py_utils.cc:38] TF-TRT Warning: Could not find TensorRT\n"
     ]
    }
   ],
   "source": [
    "import Reader\n",
    "import ParamsExtractor3\n",
    "import DataPreprocessor\n",
    "import DeepLearningAnomalyDetection2"
   ]
  },
  {
   "cell_type": "markdown",
   "id": "26e95807-cfea-4725-9aa7-9ebd79d7e94c",
   "metadata": {},
   "source": [
    "## Training"
   ]
  },
  {
   "cell_type": "code",
   "execution_count": 4,
   "id": "e7e266b1-5572-4af4-bee5-c5880d87f3c3",
   "metadata": {},
   "outputs": [
    {
     "name": "stdout",
     "output_type": "stream",
     "text": [
      "['/../../../temp_logs/20240418/login01.laurel.log', '/../../../temp_logs/20240418/login02.laurel.log', '/../../../temp_logs/20240418/login03.laurel.log', '/../../../temp_logs/20240418/login10.laurel.log', '/../../../temp_logs/20240420/login01.laurel.log', '/../../../temp_logs/20240420/login02.laurel.log', '/../../../temp_logs/20240420/login03.laurel.log', '/../../../temp_logs/20240420/login10.laurel.log']\n"
     ]
    }
   ],
   "source": [
    "log_types = ['laurel']\n",
    "dates = ['20240418', '20240420', '20240429']\n",
    "login_node_numbers = ['01', '02', '03', '10']\n",
    "\n",
    "# Generate the list of file paths\n",
    "file_paths = [f'/../../../temp_logs/{date}/login{num}.{logtype}.log' for date in dates for num in login_node_numbers for logtype in log_types]\n",
    "\n",
    "# Filter the list to include only existing files\n",
    "existing_file_paths = [path for path in file_paths if os.path.exists(path)]\n",
    "print(existing_file_paths)\n",
    "\n",
    "df_list = []\n",
    "\n",
    "for file_path in existing_file_paths:\n",
    "    r = Reader.Reader(file_path)\n",
    "    df = r.read_file(file_path)\n",
    "    df_list.append(df)"
   ]
  },
  {
   "cell_type": "code",
   "execution_count": 5,
   "id": "a1bb1dc7-2d37-45d4-8f32-c45679635ba5",
   "metadata": {},
   "outputs": [
    {
     "data": {
      "text/plain": [
       "8"
      ]
     },
     "execution_count": 5,
     "metadata": {},
     "output_type": "execute_result"
    }
   ],
   "source": [
    "len(df_list)"
   ]
  },
  {
   "cell_type": "code",
   "execution_count": 6,
   "id": "588b3071-1dda-49d0-bbfa-7e7368f67d9c",
   "metadata": {},
   "outputs": [],
   "source": [
    "df_after = []\n",
    "\n",
    "for i, df in enumerate(df_list):\n",
    "    p = ParamsExtractor3.ParamsExtractor(df)\n",
    "    df = p.convert_params(df)\n",
    "    new_df = p.get_params()\n",
    "    df_after.append(new_df)\n",
    "    df_list[i] = pd.concat([df_list[i], new_df], axis=1)"
   ]
  },
  {
   "cell_type": "code",
   "execution_count": 7,
   "id": "43b1dbb0-17f4-456e-8522-de644baf4a76",
   "metadata": {},
   "outputs": [
    {
     "data": {
      "text/html": [
       "<div>\n",
       "<style scoped>\n",
       "    .dataframe tbody tr th:only-of-type {\n",
       "        vertical-align: middle;\n",
       "    }\n",
       "\n",
       "    .dataframe tbody tr th {\n",
       "        vertical-align: top;\n",
       "    }\n",
       "\n",
       "    .dataframe thead th {\n",
       "        text-align: right;\n",
       "    }\n",
       "</style>\n",
       "<table border=\"1\" class=\"dataframe\">\n",
       "  <thead>\n",
       "    <tr style=\"text-align: right;\">\n",
       "      <th></th>\n",
       "      <th>host</th>\n",
       "      <th>ident</th>\n",
       "      <th>message</th>\n",
       "      <th>severity</th>\n",
       "      <th>facility</th>\n",
       "      <th>time</th>\n",
       "      <th>severity_numbers</th>\n",
       "      <th>facility_numbers</th>\n",
       "      <th>severity_scores</th>\n",
       "      <th>timedelta</th>\n",
       "      <th>suid</th>\n",
       "      <th>cap_fp</th>\n",
       "      <th>comm</th>\n",
       "      <th>parent_comm</th>\n",
       "      <th>exit</th>\n",
       "      <th>n_dang</th>\n",
       "      <th>n_dang_no_cron</th>\n",
       "      <th>fp_length</th>\n",
       "    </tr>\n",
       "  </thead>\n",
       "  <tbody>\n",
       "    <tr>\n",
       "      <th>0</th>\n",
       "      <td>login01</td>\n",
       "      <td>laurel</td>\n",
       "      <td>\"1713391196.350:55343008\",\"NODE\":\"login01\",\"SY...</td>\n",
       "      <td>info</td>\n",
       "      <td>local6</td>\n",
       "      <td>2024-04-18 00:00:03 +0200</td>\n",
       "      <td>6</td>\n",
       "      <td>22</td>\n",
       "      <td>1.0</td>\n",
       "      <td>0.0</td>\n",
       "      <td>126858</td>\n",
       "      <td>0</td>\n",
       "      <td>squeue</td>\n",
       "      <td>bash</td>\n",
       "      <td>0</td>\n",
       "      <td>2</td>\n",
       "      <td>0</td>\n",
       "      <td>92</td>\n",
       "    </tr>\n",
       "    <tr>\n",
       "      <th>1</th>\n",
       "      <td>login01</td>\n",
       "      <td>laurel</td>\n",
       "      <td>\"1713391198.212:55343009\",\"NODE\":\"login01\",\"SY...</td>\n",
       "      <td>info</td>\n",
       "      <td>local6</td>\n",
       "      <td>2024-04-18 00:00:03 +0200</td>\n",
       "      <td>6</td>\n",
       "      <td>22</td>\n",
       "      <td>1.0</td>\n",
       "      <td>0.0</td>\n",
       "      <td>0</td>\n",
       "      <td>0</td>\n",
       "      <td>ping</td>\n",
       "      <td>pacemaker-execd</td>\n",
       "      <td>0</td>\n",
       "      <td>0</td>\n",
       "      <td>0</td>\n",
       "      <td>38</td>\n",
       "    </tr>\n",
       "    <tr>\n",
       "      <th>2</th>\n",
       "      <td>login01</td>\n",
       "      <td>laurel</td>\n",
       "      <td>\"1713391198.214:55343010\",\"NODE\":\"login01\",\"SY...</td>\n",
       "      <td>info</td>\n",
       "      <td>local6</td>\n",
       "      <td>2024-04-18 00:00:03 +0200</td>\n",
       "      <td>6</td>\n",
       "      <td>22</td>\n",
       "      <td>1.0</td>\n",
       "      <td>0.0</td>\n",
       "      <td>0</td>\n",
       "      <td>0</td>\n",
       "      <td>basename</td>\n",
       "      <td>ping</td>\n",
       "      <td>0</td>\n",
       "      <td>0</td>\n",
       "      <td>0</td>\n",
       "      <td>28</td>\n",
       "    </tr>\n",
       "    <tr>\n",
       "      <th>3</th>\n",
       "      <td>login01</td>\n",
       "      <td>laurel</td>\n",
       "      <td>\"1713391198.220:55343011\",\"NODE\":\"login01\",\"SY...</td>\n",
       "      <td>info</td>\n",
       "      <td>local6</td>\n",
       "      <td>2024-04-18 00:00:03 +0200</td>\n",
       "      <td>6</td>\n",
       "      <td>22</td>\n",
       "      <td>1.0</td>\n",
       "      <td>0.0</td>\n",
       "      <td>0</td>\n",
       "      <td>0</td>\n",
       "      <td>egrep</td>\n",
       "      <td>ping</td>\n",
       "      <td>0</td>\n",
       "      <td>0</td>\n",
       "      <td>0</td>\n",
       "      <td>28</td>\n",
       "    </tr>\n",
       "    <tr>\n",
       "      <th>4</th>\n",
       "      <td>login01</td>\n",
       "      <td>laurel</td>\n",
       "      <td>\"1713391198.221:55343012\",\"NODE\":\"login01\",\"SY...</td>\n",
       "      <td>info</td>\n",
       "      <td>local6</td>\n",
       "      <td>2024-04-18 00:00:03 +0200</td>\n",
       "      <td>6</td>\n",
       "      <td>22</td>\n",
       "      <td>1.0</td>\n",
       "      <td>0.0</td>\n",
       "      <td>0</td>\n",
       "      <td>0</td>\n",
       "      <td>grep</td>\n",
       "      <td>ping</td>\n",
       "      <td>0</td>\n",
       "      <td>0</td>\n",
       "      <td>0</td>\n",
       "      <td>21</td>\n",
       "    </tr>\n",
       "  </tbody>\n",
       "</table>\n",
       "</div>"
      ],
      "text/plain": [
       "      host   ident                                            message  \\\n",
       "0  login01  laurel  \"1713391196.350:55343008\",\"NODE\":\"login01\",\"SY...   \n",
       "1  login01  laurel  \"1713391198.212:55343009\",\"NODE\":\"login01\",\"SY...   \n",
       "2  login01  laurel  \"1713391198.214:55343010\",\"NODE\":\"login01\",\"SY...   \n",
       "3  login01  laurel  \"1713391198.220:55343011\",\"NODE\":\"login01\",\"SY...   \n",
       "4  login01  laurel  \"1713391198.221:55343012\",\"NODE\":\"login01\",\"SY...   \n",
       "\n",
       "  severity facility                       time  severity_numbers  \\\n",
       "0     info   local6  2024-04-18 00:00:03 +0200                 6   \n",
       "1     info   local6  2024-04-18 00:00:03 +0200                 6   \n",
       "2     info   local6  2024-04-18 00:00:03 +0200                 6   \n",
       "3     info   local6  2024-04-18 00:00:03 +0200                 6   \n",
       "4     info   local6  2024-04-18 00:00:03 +0200                 6   \n",
       "\n",
       "   facility_numbers  severity_scores  timedelta    suid  cap_fp      comm  \\\n",
       "0                22              1.0        0.0  126858       0    squeue   \n",
       "1                22              1.0        0.0       0       0      ping   \n",
       "2                22              1.0        0.0       0       0  basename   \n",
       "3                22              1.0        0.0       0       0     egrep   \n",
       "4                22              1.0        0.0       0       0      grep   \n",
       "\n",
       "       parent_comm  exit  n_dang  n_dang_no_cron  fp_length  \n",
       "0             bash     0       2               0         92  \n",
       "1  pacemaker-execd     0       0               0         38  \n",
       "2             ping     0       0               0         28  \n",
       "3             ping     0       0               0         28  \n",
       "4             ping     0       0               0         21  "
      ]
     },
     "execution_count": 7,
     "metadata": {},
     "output_type": "execute_result"
    }
   ],
   "source": [
    "df_list[0].head()"
   ]
  },
  {
   "cell_type": "code",
   "execution_count": 8,
   "id": "bbcebc85-4d65-4de4-8445-c9644fa36df5",
   "metadata": {},
   "outputs": [
    {
     "data": {
      "text/plain": [
       "'\"1713391196.350:55343008\",\"NODE\":\"login01\",\"SYSCALL\":{\"arch\":\"0xc000003e\",\"syscall\":59,\"success\":\"yes\",\"exit\":0,\"items\":2,\"ppid\":29378,\"pid\":37632,\"auid\":126858,\"uid\":126858,\"gid\":25200,\"euid\":126858,\"suid\":126858,\"fsuid\":126858,\"egid\":25200,\"sgid\":25200,\"fsgid\":25200,\"tty\":\"pts38\",\"ses\":703112,\"comm\":\"squeue\",\"exe\":\"/opt/slurm/23.11.5/bin/squeue\",\"key\":\"auditcmd\",\"ARCH\":\"x86_64\",\"SYSCALL\":\"execve\",\"AUID\":\"cmatteuc\",\"UID\":\"cmatteuc\",\"GID\":\"interactive\",\"EUID\":\"cmatteuc\",\"SUID\":\"cmatteuc\",\"FSUID\":\"cmatteuc\",\"EGID\":\"interactive\",\"SGID\":\"interactive\",\"FSGID\":\"interactive\",\"ARGV\":[\"0x564021c6aff0\",\"0x564021c6bdf0\",\"0x564021c34470\",\"0x8\"]},\"EXECVE\":{\"argc\":3,\"ARGV\":[\"squeue\",\"-u\",\"cmatteuc\"],\"ENV\":{\"LD_LIBRARY_PATH\":\"/g100_work/PROJECTS/spack/v0.17/prod/0.17.1/install/0.17/linux-centos8-skylake_avx512/gcc-8.4.1/anaconda3-2021.05-alnfpd33vtv6tt7sf6iq5ngwv7nqgeah/lib:/cineca/prod/opt/compilers/intel/oneapi-2022/binary/mpi/latest/libfabric/lib/prov:/cineca/prod/opt/compilers/intel/oneapi-2022/binary/mpi/latest/libfabric/lib:/cineca/prod/opt/compilers/intel/oneapi-2022/binary/mpi/latest/lib/release:/cineca/prod/opt/compilers/intel/oneapi-2022/binary/mpi/latest/lib:/cineca/prod/opt/compilers/intel/oneapi-2022/binary/compiler/latest/linux/compiler/lib/intel64\"}},\"CWD\":{\"cwd\":\"/g100/home/userexternal/cmatteuc/Nek5000/run/full_circle_06\"},\"PATH\":[{\"item\":0,\"name\":\"/opt/slurm/current/bin/squeue\",\"inode\":25917742,\"dev\":\"fd:05\",\"mode\":\"0o100755\",\"ouid\":0,\"ogid\":0,\"rdev\":\"00:00\",\"nametype\":\"NORMAL\",\"cap_fp\":\"0x0\",\"cap_fi\":\"0x0\",\"cap_fe\":0,\"cap_fver\":\"0x0\",\"cap_frootid\":\"0\",\"OUID\":\"root\",\"OGID\":\"root\"},{\"item\":1,\"name\":\"/lib64/ld-linux-x86-64.so.2\",\"inode\":8507967,\"dev\":\"fd:01\",\"mode\":\"0o100755\",\"ouid\":0,\"ogid\":0,\"rdev\":\"00:00\",\"nametype\":\"NORMAL\",\"cap_fp\":\"0x0\",\"cap_fi\":\"0x0\",\"cap_fe\":0,\"cap_fver\":\"0x0\",\"cap_frootid\":\"0\",\"OUID\":\"root\",\"OGID\":\"root\"}],\"PROCTITLE\":{\"ARGV\":[\"squeue\",\"-u\",\"cmatteuc\"]},\"PARENT_INFO\":{\"ID\":\"1713390693.537:55326645\",\"comm\":\"bash\",\"exe\":\"/usr/bin/bash\",\"ppid\":29377}}'"
      ]
     },
     "execution_count": 8,
     "metadata": {},
     "output_type": "execute_result"
    }
   ],
   "source": [
    "df_list[0].iloc[0]['message']"
   ]
  },
  {
   "cell_type": "code",
   "execution_count": 9,
   "id": "cbc8c57b-7911-4f18-b9f5-4c2440f9b80f",
   "metadata": {},
   "outputs": [
    {
     "name": "stdout",
     "output_type": "stream",
     "text": [
      "   severity_scores  timedelta    suid  cap_fp      comm      parent_comm  \\\n",
      "0              1.0        0.0  126858       0    squeue             bash   \n",
      "1              1.0        0.0       0       0      ping  pacemaker-execd   \n",
      "2              1.0        0.0       0       0  basename             ping   \n",
      "3              1.0        0.0       0       0     egrep             ping   \n",
      "4              1.0        0.0       0       0      grep             ping   \n",
      "\n",
      "   exit  n_dang  n_dang_no_cron  fp_length  ...  col_10  col_11  col_12  \\\n",
      "0     0       2               0         92  ...       0       0       0   \n",
      "1     0       0               0         38  ...       0       0       0   \n",
      "2     0       0               0         28  ...       0       0       0   \n",
      "3     0       0               0         28  ...       0       0       0   \n",
      "4     0       0               0         21  ...       0       0       0   \n",
      "\n",
      "   col_13  col_14  col_15  col_16  col_17  col_18  col_19  \n",
      "0       0       0       0       1       0       0       0  \n",
      "1       0       0       0       1       0       0       0  \n",
      "2       0       0       0       1       0       0       0  \n",
      "3       0       0       0       1       0       0       0  \n",
      "4       0       0       0       1       0       0       0  \n",
      "\n",
      "[5 rows x 30 columns]\n"
     ]
    }
   ],
   "source": [
    "for i, df in enumerate(df_list):\n",
    "    d = DataPreprocessor.DataPreprocessor(df)\n",
    "    enc = d.drop_and_hash_encode()\n",
    "    df_list[i] = enc\n",
    "\n",
    "print(df_list[0].head())"
   ]
  },
  {
   "cell_type": "code",
   "execution_count": 10,
   "id": "1480c325-8793-469e-912d-7e41bfdb8b64",
   "metadata": {},
   "outputs": [
    {
     "name": "stdout",
     "output_type": "stream",
     "text": [
      "(1000, 30)\n",
      "(1000, 30)\n",
      "(1000, 30)\n",
      "(1000, 30)\n",
      "(1000, 30)\n",
      "(1000, 30)\n",
      "(1000, 30)\n",
      "(1000, 30)\n"
     ]
    }
   ],
   "source": [
    "for df in df_list:\n",
    "    print(df.shape)"
   ]
  },
  {
   "cell_type": "code",
   "execution_count": 11,
   "id": "f42f3518-c530-4536-ab4c-ee91177de6e7",
   "metadata": {},
   "outputs": [],
   "source": [
    "normal_dataset = df_list[0]\n",
    "\n",
    "for i in range(1,len(df_list)):\n",
    "    normal_dataset = np.vstack([normal_dataset, df_list[i]])"
   ]
  },
  {
   "cell_type": "code",
   "execution_count": 12,
   "id": "c30bf1f6-b70e-4e95-ad32-a537a9270f02",
   "metadata": {},
   "outputs": [
    {
     "data": {
      "text/plain": [
       "(8000, 30)"
      ]
     },
     "execution_count": 12,
     "metadata": {},
     "output_type": "execute_result"
    }
   ],
   "source": [
    "normal_dataset.shape"
   ]
  },
  {
   "cell_type": "markdown",
   "id": "854c17ff-1bd6-4034-b62e-bdc5d41f7f23",
   "metadata": {},
   "source": [
    "## Anomalies' dataset"
   ]
  },
  {
   "cell_type": "code",
   "execution_count": 13,
   "id": "d7992594-3016-4216-a190-dd8e162fc27f",
   "metadata": {},
   "outputs": [],
   "source": [
    "log_types = ['laurel']\n",
    "\n",
    "# Generate the list of file paths\n",
    "file_paths = [f'../data/linpeas_logs_2_silent_attack/{logtype}_logs.log' for logtype in log_types]\n",
    "\n",
    "# Filter the list to include only existing files\n",
    "existing_file_paths = [path for path in file_paths if os.path.exists(path)]\n",
    "\n",
    "an_df_list = []\n",
    "\n",
    "for file_path in existing_file_paths:\n",
    "    r = Reader.Reader(file_path)\n",
    "    df = r.read_file_3(file_path)\n",
    "    df.columns = ['hostname', 'ident', 'message', 'severity', 'facility', 'time']\n",
    "    an_df_list.append(df)"
   ]
  },
  {
   "cell_type": "code",
   "execution_count": 14,
   "id": "b7e0bba3-051b-4dba-8f9f-65cea6f63d8d",
   "metadata": {},
   "outputs": [
    {
     "data": {
      "text/html": [
       "<div>\n",
       "<style scoped>\n",
       "    .dataframe tbody tr th:only-of-type {\n",
       "        vertical-align: middle;\n",
       "    }\n",
       "\n",
       "    .dataframe tbody tr th {\n",
       "        vertical-align: top;\n",
       "    }\n",
       "\n",
       "    .dataframe thead th {\n",
       "        text-align: right;\n",
       "    }\n",
       "</style>\n",
       "<table border=\"1\" class=\"dataframe\">\n",
       "  <thead>\n",
       "    <tr style=\"text-align: right;\">\n",
       "      <th></th>\n",
       "      <th>hostname</th>\n",
       "      <th>ident</th>\n",
       "      <th>message</th>\n",
       "      <th>severity</th>\n",
       "      <th>facility</th>\n",
       "      <th>time</th>\n",
       "    </tr>\n",
       "  </thead>\n",
       "  <tbody>\n",
       "    <tr>\n",
       "      <th>0</th>\n",
       "      <td>localhost</td>\n",
       "      <td>laurel</td>\n",
       "      <td>type=PATH msg=audit(1720542157.835:4953): item...</td>\n",
       "      <td>info</td>\n",
       "      <td>local0</td>\n",
       "      <td>2024-07-09T12:22:37.836871-04:00</td>\n",
       "    </tr>\n",
       "    <tr>\n",
       "      <th>1</th>\n",
       "      <td>localhost</td>\n",
       "      <td>laurel</td>\n",
       "      <td>type=PROCTITLE msg=audit(1720542157.835:4953):...</td>\n",
       "      <td>info</td>\n",
       "      <td>local0</td>\n",
       "      <td>2024-07-09T12:22:37.836872-04:00</td>\n",
       "    </tr>\n",
       "    <tr>\n",
       "      <th>2</th>\n",
       "      <td>localhost</td>\n",
       "      <td>laurel</td>\n",
       "      <td>type=SYSCALL msg=audit(1720542157.835:4953): a...</td>\n",
       "      <td>info</td>\n",
       "      <td>local0</td>\n",
       "      <td>2024-07-09T12:22:37.836855-04:00</td>\n",
       "    </tr>\n",
       "    <tr>\n",
       "      <th>3</th>\n",
       "      <td>localhost</td>\n",
       "      <td>laurel</td>\n",
       "      <td>type=SYSCALL msg=audit(1720542157.835:4954): a...</td>\n",
       "      <td>info</td>\n",
       "      <td>local0</td>\n",
       "      <td>2024-07-09T12:22:37.836865-04:00</td>\n",
       "    </tr>\n",
       "    <tr>\n",
       "      <th>4</th>\n",
       "      <td>localhost</td>\n",
       "      <td>laurel</td>\n",
       "      <td>type=EXECVE msg=audit(1720542157.835:4953): ar...</td>\n",
       "      <td>info</td>\n",
       "      <td>local0</td>\n",
       "      <td>2024-07-09T12:22:37.836866-04:00</td>\n",
       "    </tr>\n",
       "  </tbody>\n",
       "</table>\n",
       "</div>"
      ],
      "text/plain": [
       "    hostname   ident                                            message  \\\n",
       "0  localhost  laurel  type=PATH msg=audit(1720542157.835:4953): item...   \n",
       "1  localhost  laurel  type=PROCTITLE msg=audit(1720542157.835:4953):...   \n",
       "2  localhost  laurel  type=SYSCALL msg=audit(1720542157.835:4953): a...   \n",
       "3  localhost  laurel  type=SYSCALL msg=audit(1720542157.835:4954): a...   \n",
       "4  localhost  laurel  type=EXECVE msg=audit(1720542157.835:4953): ar...   \n",
       "\n",
       "  severity facility                              time  \n",
       "0     info   local0  2024-07-09T12:22:37.836871-04:00  \n",
       "1     info   local0  2024-07-09T12:22:37.836872-04:00  \n",
       "2     info   local0  2024-07-09T12:22:37.836855-04:00  \n",
       "3     info   local0  2024-07-09T12:22:37.836865-04:00  \n",
       "4     info   local0  2024-07-09T12:22:37.836866-04:00  "
      ]
     },
     "execution_count": 14,
     "metadata": {},
     "output_type": "execute_result"
    }
   ],
   "source": [
    "an_df_list[0].head()"
   ]
  },
  {
   "cell_type": "code",
   "execution_count": 15,
   "id": "caeab32a-d025-4829-8c61-78bc2ba1d4b4",
   "metadata": {},
   "outputs": [],
   "source": [
    "import LaurelParamsExtractor"
   ]
  },
  {
   "cell_type": "code",
   "execution_count": 16,
   "id": "14b176f7-c733-4da5-b901-975dae3ee361",
   "metadata": {},
   "outputs": [],
   "source": [
    "an_df_after = []\n",
    "\n",
    "for i, df in enumerate(an_df_list):\n",
    "    p = ParamsExtractor3.ParamsExtractor(df)\n",
    "    df = p.convert_params(df)\n",
    "    l = LaurelParamsExtractor.LaurelParamsExtractor()\n",
    "    new_df = l.get_params(df)\n",
    "    an_df_after.append(new_df)\n",
    "    an_df_list[i] = pd.concat([an_df_list[i], new_df], axis=1)"
   ]
  },
  {
   "cell_type": "code",
   "execution_count": 17,
   "id": "bb7d5c47-d290-4191-878f-6d01b7ce4955",
   "metadata": {},
   "outputs": [
    {
     "data": {
      "text/html": [
       "<div>\n",
       "<style scoped>\n",
       "    .dataframe tbody tr th:only-of-type {\n",
       "        vertical-align: middle;\n",
       "    }\n",
       "\n",
       "    .dataframe tbody tr th {\n",
       "        vertical-align: top;\n",
       "    }\n",
       "\n",
       "    .dataframe thead th {\n",
       "        text-align: right;\n",
       "    }\n",
       "</style>\n",
       "<table border=\"1\" class=\"dataframe\">\n",
       "  <thead>\n",
       "    <tr style=\"text-align: right;\">\n",
       "      <th></th>\n",
       "      <th>hostname</th>\n",
       "      <th>ident</th>\n",
       "      <th>message</th>\n",
       "      <th>severity</th>\n",
       "      <th>facility</th>\n",
       "      <th>time</th>\n",
       "      <th>severity_numbers</th>\n",
       "      <th>facility_numbers</th>\n",
       "      <th>severity_scores</th>\n",
       "      <th>timedelta</th>\n",
       "      <th>suid</th>\n",
       "      <th>comm</th>\n",
       "      <th>exit</th>\n",
       "    </tr>\n",
       "  </thead>\n",
       "  <tbody>\n",
       "    <tr>\n",
       "      <th>0</th>\n",
       "      <td>localhost</td>\n",
       "      <td>laurel</td>\n",
       "      <td>type=PATH msg=audit(1720542157.835:4953): item...</td>\n",
       "      <td>info</td>\n",
       "      <td>local0</td>\n",
       "      <td>2024-07-09T12:22:37.836871-04:00</td>\n",
       "      <td>6</td>\n",
       "      <td>16</td>\n",
       "      <td>1.0</td>\n",
       "      <td>0.000000</td>\n",
       "      <td>-1</td>\n",
       "      <td>-1</td>\n",
       "      <td>-1</td>\n",
       "    </tr>\n",
       "    <tr>\n",
       "      <th>1</th>\n",
       "      <td>localhost</td>\n",
       "      <td>laurel</td>\n",
       "      <td>type=PROCTITLE msg=audit(1720542157.835:4953):...</td>\n",
       "      <td>info</td>\n",
       "      <td>local0</td>\n",
       "      <td>2024-07-09T12:22:37.836872-04:00</td>\n",
       "      <td>6</td>\n",
       "      <td>16</td>\n",
       "      <td>1.0</td>\n",
       "      <td>0.000001</td>\n",
       "      <td>-1</td>\n",
       "      <td>-1</td>\n",
       "      <td>-1</td>\n",
       "    </tr>\n",
       "    <tr>\n",
       "      <th>2</th>\n",
       "      <td>localhost</td>\n",
       "      <td>laurel</td>\n",
       "      <td>type=SYSCALL msg=audit(1720542157.835:4953): a...</td>\n",
       "      <td>info</td>\n",
       "      <td>local0</td>\n",
       "      <td>2024-07-09T12:22:37.836855-04:00</td>\n",
       "      <td>6</td>\n",
       "      <td>16</td>\n",
       "      <td>1.0</td>\n",
       "      <td>-0.000017</td>\n",
       "      <td>1000</td>\n",
       "      <td>\"ps\"</td>\n",
       "      <td>0</td>\n",
       "    </tr>\n",
       "    <tr>\n",
       "      <th>3</th>\n",
       "      <td>localhost</td>\n",
       "      <td>laurel</td>\n",
       "      <td>type=SYSCALL msg=audit(1720542157.835:4954): a...</td>\n",
       "      <td>info</td>\n",
       "      <td>local0</td>\n",
       "      <td>2024-07-09T12:22:37.836865-04:00</td>\n",
       "      <td>6</td>\n",
       "      <td>16</td>\n",
       "      <td>1.0</td>\n",
       "      <td>0.000010</td>\n",
       "      <td>1000</td>\n",
       "      <td>\"grep\"</td>\n",
       "      <td>0</td>\n",
       "    </tr>\n",
       "    <tr>\n",
       "      <th>4</th>\n",
       "      <td>localhost</td>\n",
       "      <td>laurel</td>\n",
       "      <td>type=EXECVE msg=audit(1720542157.835:4953): ar...</td>\n",
       "      <td>info</td>\n",
       "      <td>local0</td>\n",
       "      <td>2024-07-09T12:22:37.836866-04:00</td>\n",
       "      <td>6</td>\n",
       "      <td>16</td>\n",
       "      <td>1.0</td>\n",
       "      <td>0.000001</td>\n",
       "      <td>-1</td>\n",
       "      <td>-1</td>\n",
       "      <td>-1</td>\n",
       "    </tr>\n",
       "  </tbody>\n",
       "</table>\n",
       "</div>"
      ],
      "text/plain": [
       "    hostname   ident                                            message  \\\n",
       "0  localhost  laurel  type=PATH msg=audit(1720542157.835:4953): item...   \n",
       "1  localhost  laurel  type=PROCTITLE msg=audit(1720542157.835:4953):...   \n",
       "2  localhost  laurel  type=SYSCALL msg=audit(1720542157.835:4953): a...   \n",
       "3  localhost  laurel  type=SYSCALL msg=audit(1720542157.835:4954): a...   \n",
       "4  localhost  laurel  type=EXECVE msg=audit(1720542157.835:4953): ar...   \n",
       "\n",
       "  severity facility                              time  severity_numbers  \\\n",
       "0     info   local0  2024-07-09T12:22:37.836871-04:00                 6   \n",
       "1     info   local0  2024-07-09T12:22:37.836872-04:00                 6   \n",
       "2     info   local0  2024-07-09T12:22:37.836855-04:00                 6   \n",
       "3     info   local0  2024-07-09T12:22:37.836865-04:00                 6   \n",
       "4     info   local0  2024-07-09T12:22:37.836866-04:00                 6   \n",
       "\n",
       "   facility_numbers  severity_scores  timedelta  suid    comm exit  \n",
       "0                16              1.0   0.000000    -1      -1   -1  \n",
       "1                16              1.0   0.000001    -1      -1   -1  \n",
       "2                16              1.0  -0.000017  1000    \"ps\"    0  \n",
       "3                16              1.0   0.000010  1000  \"grep\"    0  \n",
       "4                16              1.0   0.000001    -1      -1   -1  "
      ]
     },
     "execution_count": 17,
     "metadata": {},
     "output_type": "execute_result"
    }
   ],
   "source": [
    "an_df_list[0].head()"
   ]
  },
  {
   "cell_type": "code",
   "execution_count": 18,
   "id": "74b973e5-2b81-4644-a9e7-66f0beb8b863",
   "metadata": {},
   "outputs": [
    {
     "name": "stdout",
     "output_type": "stream",
     "text": [
      "    hostname  severity_scores  timedelta  suid    comm exit  col_0  col_1  \\\n",
      "0  localhost              1.0   0.000000    -1      -1   -1      0      0   \n",
      "1  localhost              1.0   0.000001    -1      -1   -1      0      0   \n",
      "2  localhost              1.0  -0.000017  1000    \"ps\"    0      0      0   \n",
      "3  localhost              1.0   0.000010  1000  \"grep\"    0      0      0   \n",
      "4  localhost              1.0   0.000001    -1      -1   -1      0      0   \n",
      "\n",
      "   col_2  col_3  ...  col_10  col_11  col_12  col_13  col_14  col_15  col_16  \\\n",
      "0      0      0  ...       0       0       0       0       0       0       1   \n",
      "1      0      0  ...       0       0       0       0       0       0       1   \n",
      "2      0      0  ...       0       0       0       0       0       0       1   \n",
      "3      0      0  ...       0       0       0       0       0       0       1   \n",
      "4      0      0  ...       0       0       0       0       0       0       1   \n",
      "\n",
      "   col_17  col_18  col_19  \n",
      "0       0       0       0  \n",
      "1       0       0       0  \n",
      "2       0       0       0  \n",
      "3       0       0       0  \n",
      "4       0       0       0  \n",
      "\n",
      "[5 rows x 26 columns]\n"
     ]
    }
   ],
   "source": [
    "for i, df in enumerate(an_df_list):\n",
    "    d = DataPreprocessor.DataPreprocessor(df)\n",
    "    enc = d.drop_and_hash_encode()\n",
    "    an_df_list[i] = enc\n",
    "\n",
    "print(an_df_list[0].head())"
   ]
  },
  {
   "cell_type": "code",
   "execution_count": 19,
   "id": "f980bc78-f2b7-4208-a783-a1009b99037c",
   "metadata": {},
   "outputs": [],
   "source": [
    "# we test secure\n",
    "# we take the lines from the 230th (detected pwd bruteforcing)\n",
    "anomalous_dataset = an_df_list[0][230:]"
   ]
  },
  {
   "cell_type": "code",
   "execution_count": 20,
   "id": "411c1dfc-0c30-41b1-ad5c-038405ea4379",
   "metadata": {},
   "outputs": [
    {
     "data": {
      "text/plain": [
       "(111273, 26)"
      ]
     },
     "execution_count": 20,
     "metadata": {},
     "output_type": "execute_result"
    }
   ],
   "source": [
    "anomalous_dataset.shape"
   ]
  },
  {
   "cell_type": "code",
   "execution_count": 21,
   "id": "51c88118-b8f0-4cbf-8f1a-c5a31ce42e9d",
   "metadata": {},
   "outputs": [
    {
     "data": {
      "text/plain": [
       "Index(['hostname', 'severity_scores', 'timedelta', 'suid', 'comm', 'exit',\n",
       "       'col_0', 'col_1', 'col_2', 'col_3', 'col_4', 'col_5', 'col_6', 'col_7',\n",
       "       'col_8', 'col_9', 'col_10', 'col_11', 'col_12', 'col_13', 'col_14',\n",
       "       'col_15', 'col_16', 'col_17', 'col_18', 'col_19'],\n",
       "      dtype='object')"
      ]
     },
     "execution_count": 21,
     "metadata": {},
     "output_type": "execute_result"
    }
   ],
   "source": [
    "anomalous_dataset.columns"
   ]
  },
  {
   "cell_type": "code",
   "execution_count": 22,
   "id": "99887538-8a3f-4353-a581-3bec6a85a266",
   "metadata": {},
   "outputs": [
    {
     "data": {
      "text/plain": [
       "Index(['severity_scores', 'timedelta', 'suid', 'cap_fp', 'comm', 'parent_comm',\n",
       "       'exit', 'n_dang', 'n_dang_no_cron', 'fp_length', 'col_0', 'col_1',\n",
       "       'col_2', 'col_3', 'col_4', 'col_5', 'col_6', 'col_7', 'col_8', 'col_9',\n",
       "       'col_10', 'col_11', 'col_12', 'col_13', 'col_14', 'col_15', 'col_16',\n",
       "       'col_17', 'col_18', 'col_19'],\n",
       "      dtype='object')"
      ]
     },
     "execution_count": 22,
     "metadata": {},
     "output_type": "execute_result"
    }
   ],
   "source": [
    "df_list[0].columns"
   ]
  },
  {
   "cell_type": "code",
   "execution_count": 23,
   "id": "6c96b7da-0c7f-4786-bb44-e11d9bde0122",
   "metadata": {},
   "outputs": [],
   "source": [
    "for i, df in enumerate(df_list):\n",
    "    df_list[i] = df.drop(['cap_fp', 'parent_comm', 'n_dang', 'n_dang_no_cron', 'fp_length', 'col_0', 'col_1', 'col_2', 'col_3', 'col_4', 'col_5', 'col_6', 'col_7', 'col_8', 'col_9','col_10', 'col_11', 'col_12', 'col_13', 'col_14', 'col_15', 'col_16','col_17', 'col_18', 'col_19'], axis=1)"
   ]
  },
  {
   "cell_type": "code",
   "execution_count": 24,
   "id": "73c8b010-15cd-4503-8b96-b7d65fa8991e",
   "metadata": {},
   "outputs": [],
   "source": [
    "anomalous_dataset = anomalous_dataset.drop(['hostname', 'col_0', 'col_1', 'col_2', 'col_3', 'col_4', 'col_5', 'col_6', 'col_7', 'col_8', 'col_9','col_10', 'col_11', 'col_12', 'col_13', 'col_14', 'col_15', 'col_16','col_17', 'col_18', 'col_19'], axis=1)"
   ]
  },
  {
   "cell_type": "code",
   "execution_count": 25,
   "id": "fb6e613e-82f9-4a4a-9c7f-9268ae3f5ecd",
   "metadata": {},
   "outputs": [
    {
     "data": {
      "text/plain": [
       "Index(['severity_scores', 'timedelta', 'suid', 'comm', 'exit'], dtype='object')"
      ]
     },
     "execution_count": 25,
     "metadata": {},
     "output_type": "execute_result"
    }
   ],
   "source": [
    "df_list[0].columns"
   ]
  },
  {
   "cell_type": "code",
   "execution_count": 26,
   "id": "ce766bcb-692a-4cea-9666-7a76185089b7",
   "metadata": {},
   "outputs": [
    {
     "data": {
      "text/plain": [
       "Index(['severity_scores', 'timedelta', 'suid', 'comm', 'exit'], dtype='object')"
      ]
     },
     "execution_count": 26,
     "metadata": {},
     "output_type": "execute_result"
    }
   ],
   "source": [
    "anomalous_dataset.columns"
   ]
  },
  {
   "cell_type": "code",
   "execution_count": 27,
   "id": "0dc4c783-45fa-4f0c-9e4c-647c72a200f0",
   "metadata": {},
   "outputs": [
    {
     "data": {
      "text/html": [
       "<div>\n",
       "<style scoped>\n",
       "    .dataframe tbody tr th:only-of-type {\n",
       "        vertical-align: middle;\n",
       "    }\n",
       "\n",
       "    .dataframe tbody tr th {\n",
       "        vertical-align: top;\n",
       "    }\n",
       "\n",
       "    .dataframe thead th {\n",
       "        text-align: right;\n",
       "    }\n",
       "</style>\n",
       "<table border=\"1\" class=\"dataframe\">\n",
       "  <thead>\n",
       "    <tr style=\"text-align: right;\">\n",
       "      <th></th>\n",
       "      <th>severity_scores</th>\n",
       "      <th>timedelta</th>\n",
       "      <th>suid</th>\n",
       "      <th>comm</th>\n",
       "      <th>exit</th>\n",
       "    </tr>\n",
       "  </thead>\n",
       "  <tbody>\n",
       "    <tr>\n",
       "      <th>0</th>\n",
       "      <td>1.0</td>\n",
       "      <td>0.0</td>\n",
       "      <td>126858</td>\n",
       "      <td>squeue</td>\n",
       "      <td>0</td>\n",
       "    </tr>\n",
       "    <tr>\n",
       "      <th>1</th>\n",
       "      <td>1.0</td>\n",
       "      <td>0.0</td>\n",
       "      <td>0</td>\n",
       "      <td>ping</td>\n",
       "      <td>0</td>\n",
       "    </tr>\n",
       "    <tr>\n",
       "      <th>2</th>\n",
       "      <td>1.0</td>\n",
       "      <td>0.0</td>\n",
       "      <td>0</td>\n",
       "      <td>basename</td>\n",
       "      <td>0</td>\n",
       "    </tr>\n",
       "    <tr>\n",
       "      <th>3</th>\n",
       "      <td>1.0</td>\n",
       "      <td>0.0</td>\n",
       "      <td>0</td>\n",
       "      <td>egrep</td>\n",
       "      <td>0</td>\n",
       "    </tr>\n",
       "    <tr>\n",
       "      <th>4</th>\n",
       "      <td>1.0</td>\n",
       "      <td>0.0</td>\n",
       "      <td>0</td>\n",
       "      <td>grep</td>\n",
       "      <td>0</td>\n",
       "    </tr>\n",
       "  </tbody>\n",
       "</table>\n",
       "</div>"
      ],
      "text/plain": [
       "   severity_scores  timedelta    suid      comm  exit\n",
       "0              1.0        0.0  126858    squeue     0\n",
       "1              1.0        0.0       0      ping     0\n",
       "2              1.0        0.0       0  basename     0\n",
       "3              1.0        0.0       0     egrep     0\n",
       "4              1.0        0.0       0      grep     0"
      ]
     },
     "execution_count": 27,
     "metadata": {},
     "output_type": "execute_result"
    }
   ],
   "source": [
    "df_list[0].head()"
   ]
  },
  {
   "cell_type": "code",
   "execution_count": 28,
   "id": "6596be84-52ed-487c-881e-23bc8e8c3c19",
   "metadata": {},
   "outputs": [],
   "source": [
    "import EncodeCommand\n",
    "encoder = EncodeCommand.EncodeCommand()"
   ]
  },
  {
   "cell_type": "code",
   "execution_count": 29,
   "id": "80f22560-0124-421e-8ff5-fc5132402f99",
   "metadata": {},
   "outputs": [
    {
     "name": "stdout",
     "output_type": "stream",
     "text": [
      "   severity_scores  timedelta    suid      comm  exit  enc_comm\n",
      "0              1.0        0.0  126858    squeue     0         1\n",
      "1              1.0        0.0       0      ping     0         2\n",
      "2              1.0        0.0       0  basename     0         3\n",
      "3              1.0        0.0       0     egrep     0         4\n",
      "4              1.0        0.0       0      grep     0         5\n"
     ]
    }
   ],
   "source": [
    "for i, df in enumerate(df_list):\n",
    "    df_encoded = encoder.encode_command(df)\n",
    "    df_list[i] = df_encoded\n",
    "\n",
    "print(df_list[0].head())"
   ]
  },
  {
   "cell_type": "code",
   "execution_count": 30,
   "id": "e77bcc3d-459b-41b2-a0af-4d1902dd2dff",
   "metadata": {},
   "outputs": [
    {
     "name": "stdout",
     "output_type": "stream",
     "text": [
      "    hostname  severity_scores  timedelta  suid    comm exit  col_0  col_1  \\\n",
      "0  localhost              1.0   0.000000    -1      -1   -1      0      0   \n",
      "1  localhost              1.0   0.000001    -1      -1   -1      0      0   \n",
      "2  localhost              1.0  -0.000017  1000    \"ps\"    0      0      0   \n",
      "3  localhost              1.0   0.000010  1000  \"grep\"    0      0      0   \n",
      "4  localhost              1.0   0.000001    -1      -1   -1      0      0   \n",
      "\n",
      "   col_2  col_3  ...  col_11  col_12  col_13  col_14  col_15  col_16  col_17  \\\n",
      "0      0      0  ...       0       0       0       0       0       1       0   \n",
      "1      0      0  ...       0       0       0       0       0       1       0   \n",
      "2      0      0  ...       0       0       0       0       0       1       0   \n",
      "3      0      0  ...       0       0       0       0       0       1       0   \n",
      "4      0      0  ...       0       0       0       0       0       1       0   \n",
      "\n",
      "   col_18  col_19  enc_comm  \n",
      "0       0       0        39  \n",
      "1       0       0        39  \n",
      "2       0       0         1  \n",
      "3       0       0         2  \n",
      "4       0       0        39  \n",
      "\n",
      "[5 rows x 27 columns]\n"
     ]
    }
   ],
   "source": [
    "for i, df in enumerate(an_df_list):\n",
    "    df_encoded = encoder.encode_command(df)\n",
    "    an_df_list[i] = df_encoded\n",
    "\n",
    "print(an_df_list[0].head())"
   ]
  },
  {
   "cell_type": "code",
   "execution_count": 31,
   "id": "5f7a46c3-6d57-4b87-83ff-125e745b704e",
   "metadata": {},
   "outputs": [],
   "source": [
    "anomalous_dataset_encoded = encoder.encode_command(anomalous_dataset)"
   ]
  },
  {
   "cell_type": "code",
   "execution_count": 32,
   "id": "5b11ef38-478f-4ec6-92a7-7446f5addecb",
   "metadata": {},
   "outputs": [
    {
     "data": {
      "text/html": [
       "<div>\n",
       "<style scoped>\n",
       "    .dataframe tbody tr th:only-of-type {\n",
       "        vertical-align: middle;\n",
       "    }\n",
       "\n",
       "    .dataframe tbody tr th {\n",
       "        vertical-align: top;\n",
       "    }\n",
       "\n",
       "    .dataframe thead th {\n",
       "        text-align: right;\n",
       "    }\n",
       "</style>\n",
       "<table border=\"1\" class=\"dataframe\">\n",
       "  <thead>\n",
       "    <tr style=\"text-align: right;\">\n",
       "      <th></th>\n",
       "      <th>severity_scores</th>\n",
       "      <th>timedelta</th>\n",
       "      <th>suid</th>\n",
       "      <th>comm</th>\n",
       "      <th>exit</th>\n",
       "      <th>enc_comm</th>\n",
       "    </tr>\n",
       "  </thead>\n",
       "  <tbody>\n",
       "    <tr>\n",
       "      <th>230</th>\n",
       "      <td>1.0</td>\n",
       "      <td>0.000003</td>\n",
       "      <td>1000</td>\n",
       "      <td>\"grep\"</td>\n",
       "      <td>0</td>\n",
       "      <td>2</td>\n",
       "    </tr>\n",
       "    <tr>\n",
       "      <th>231</th>\n",
       "      <td>1.0</td>\n",
       "      <td>0.000001</td>\n",
       "      <td>-1</td>\n",
       "      <td>-1</td>\n",
       "      <td>-1</td>\n",
       "      <td>40</td>\n",
       "    </tr>\n",
       "    <tr>\n",
       "      <th>232</th>\n",
       "      <td>1.0</td>\n",
       "      <td>0.000002</td>\n",
       "      <td>-1</td>\n",
       "      <td>-1</td>\n",
       "      <td>-1</td>\n",
       "      <td>40</td>\n",
       "    </tr>\n",
       "    <tr>\n",
       "      <th>233</th>\n",
       "      <td>1.0</td>\n",
       "      <td>0.000002</td>\n",
       "      <td>-1</td>\n",
       "      <td>-1</td>\n",
       "      <td>-1</td>\n",
       "      <td>40</td>\n",
       "    </tr>\n",
       "    <tr>\n",
       "      <th>234</th>\n",
       "      <td>1.0</td>\n",
       "      <td>0.000002</td>\n",
       "      <td>-1</td>\n",
       "      <td>-1</td>\n",
       "      <td>-1</td>\n",
       "      <td>40</td>\n",
       "    </tr>\n",
       "  </tbody>\n",
       "</table>\n",
       "</div>"
      ],
      "text/plain": [
       "     severity_scores  timedelta  suid    comm exit  enc_comm\n",
       "230              1.0   0.000003  1000  \"grep\"    0         2\n",
       "231              1.0   0.000001    -1      -1   -1        40\n",
       "232              1.0   0.000002    -1      -1   -1        40\n",
       "233              1.0   0.000002    -1      -1   -1        40\n",
       "234              1.0   0.000002    -1      -1   -1        40"
      ]
     },
     "execution_count": 32,
     "metadata": {},
     "output_type": "execute_result"
    }
   ],
   "source": [
    "anomalous_dataset_encoded.head()"
   ]
  },
  {
   "cell_type": "code",
   "execution_count": 33,
   "id": "f85809c1-605c-46ea-9687-6266fa634d77",
   "metadata": {},
   "outputs": [
    {
     "data": {
      "text/plain": [
       "Index(['severity_scores', 'timedelta', 'suid', 'comm', 'exit', 'enc_comm'], dtype='object')"
      ]
     },
     "execution_count": 33,
     "metadata": {},
     "output_type": "execute_result"
    }
   ],
   "source": [
    "anomalous_dataset_encoded.columns"
   ]
  },
  {
   "cell_type": "markdown",
   "id": "7d0f2105-f32b-44fc-8573-e0550aed9319",
   "metadata": {},
   "source": [
    "## Library implementation"
   ]
  },
  {
   "cell_type": "code",
   "execution_count": 34,
   "id": "31d3f29b-ee28-4bae-a51f-8f225e45d52e",
   "metadata": {},
   "outputs": [],
   "source": [
    "normal_dataset_df = pd.DataFrame(df_list[0], columns=['severity_scores', 'timedelta', 'suid', 'exit', 'enc_comm'])\n",
    "anomalous_dataset_df = pd.DataFrame(anomalous_dataset_encoded, columns=['severity_scores', 'timedelta', 'suid', 'exit', 'enc_comm'])"
   ]
  },
  {
   "cell_type": "code",
   "execution_count": 35,
   "id": "15723da0-d03c-48ea-abc2-3efa6b5f5b62",
   "metadata": {},
   "outputs": [
    {
     "name": "stdout",
     "output_type": "stream",
     "text": [
      "Mean normal reconstruction error: 0.013506295880856363\n",
      "Mean anomalous reconstruction error: 0.015628807930380056\n"
     ]
    },
    {
     "data": {
      "image/png": "[encoded data removed]",
      "text/plain": [
       "<Figure size 1000x600 with 1 Axes>"
      ]
     },
     "metadata": {},
     "output_type": "display_data"
    },
    {
     "name": "stdout",
     "output_type": "stream",
     "text": [
      "Threshold for anomaly detection: 0.1848288166575754\n",
      "Number of anomalies detected: 9\n",
      "Number of false positives detected: 2\n"
     ]
    },
    {
     "data": {
      "image/png": "[encoded data removed]",
      "text/plain": [
       "<Figure size 800x600 with 2 Axes>"
      ]
     },
     "metadata": {},
     "output_type": "display_data"
    }
   ],
   "source": [
    "d_an_det = DeepLearningAnomalyDetection2.DeepLearningAnomalyDetection()\n",
    "true_anomalies, reconstructed_anomalies, fp_ = d_an_det.train_test_model(normal_dataset_df, anomalous_dataset_df, 'autoencoder', laurel=1, plots=[0,0,1,1])"
   ]
  },
  {
   "cell_type": "code",
   "execution_count": 36,
   "id": "eb69652f-3966-4c54-a4a6-65e280ee832f",
   "metadata": {},
   "outputs": [
    {
     "name": "stdout",
     "output_type": "stream",
     "text": [
      "Mean normal reconstruction error: 0.04802839885588214\n",
      "Mean anomalous reconstruction error: 0.05022221359875976\n"
     ]
    },
    {
     "data": {
      "image/png": "[encoded data removed]",
      "text/plain": [
       "<Figure size 1000x600 with 1 Axes>"
      ]
     },
     "metadata": {},
     "output_type": "display_data"
    },
    {
     "name": "stdout",
     "output_type": "stream",
     "text": [
      "Threshold for anomaly detection: 0.14799575411647217\n",
      "Number of anomalies detected: 13\n",
      "Number of false positives detected: 3\n"
     ]
    },
    {
     "data": {
      "image/png": "[encoded data removed]",
      "text/plain": [
       "<Figure size 800x600 with 2 Axes>"
      ]
     },
     "metadata": {},
     "output_type": "display_data"
    }
   ],
   "source": [
    "d_an_det = DeepLearningAnomalyDetection2.DeepLearningAnomalyDetection()\n",
    "true_anomalies_vae, reconstructed_anomalies_vae, fp = d_an_det.train_test_model(normal_dataset_df, anomalous_dataset_df, 'vae', laurel=1, plots=[0,0,1,1])"
   ]
  },
  {
   "cell_type": "code",
   "execution_count": 37,
   "id": "38bf125b-0b38-4d4b-8667-0ef17b5ac37d",
   "metadata": {},
   "outputs": [
    {
     "ename": "KeyError",
     "evalue": "\"['log key'] not in index\"",
     "output_type": "error",
     "traceback": [
      "\u001b[0;31m---------------------------------------------------------------------------\u001b[0m",
      "\u001b[0;31mKeyError\u001b[0m                                  Traceback (most recent call last)",
      "Cell \u001b[0;32mIn[37], line 1\u001b[0m\n\u001b[0;32m----> 1\u001b[0m \u001b[43md_an_det\u001b[49m\u001b[38;5;241;43m.\u001b[39;49m\u001b[43mensemble_method\u001b[49m\u001b[43m(\u001b[49m\u001b[43mnormal_dataset_df\u001b[49m\u001b[43m,\u001b[49m\u001b[43m \u001b[49m\u001b[43manomalous_dataset\u001b[49m\u001b[43m,\u001b[49m\u001b[43m \u001b[49m\u001b[43mplots\u001b[49m\u001b[38;5;241;43m=\u001b[39;49m\u001b[43m[\u001b[49m\u001b[38;5;241;43m1\u001b[39;49m\u001b[43m]\u001b[49m\u001b[43m)\u001b[49m\n",
      "File \u001b[0;32m~/repo/Thesis/notebooks/../src/DeepLearningAnomalyDetection2.py:249\u001b[0m, in \u001b[0;36mDeepLearningAnomalyDetection.ensemble_method\u001b[0;34m(self, normal_df, anomalous_df, plots)\u001b[0m\n\u001b[1;32m    247\u001b[0m \u001b[38;5;28;01mdef\u001b[39;00m \u001b[38;5;21mensemble_method\u001b[39m(\u001b[38;5;28mself\u001b[39m, normal_df, anomalous_df, plots\u001b[38;5;241m=\u001b[39m[\u001b[38;5;241m0\u001b[39m]):\n\u001b[0;32m--> 249\u001b[0m     true_anomalies, pred_autoencoder \u001b[38;5;241m=\u001b[39m \u001b[38;5;28;43mself\u001b[39;49m\u001b[38;5;241;43m.\u001b[39;49m\u001b[43mtrain_test_model\u001b[49m\u001b[43m(\u001b[49m\u001b[43mnormal_df\u001b[49m\u001b[43m,\u001b[49m\u001b[43m \u001b[49m\u001b[43manomalous_df\u001b[49m\u001b[43m,\u001b[49m\u001b[43m \u001b[49m\u001b[38;5;124;43m'\u001b[39;49m\u001b[38;5;124;43mautoencoder\u001b[39;49m\u001b[38;5;124;43m'\u001b[39;49m\u001b[43m,\u001b[49m\u001b[43m \u001b[49m\u001b[43mplots\u001b[49m\u001b[38;5;241;43m=\u001b[39;49m\u001b[43m[\u001b[49m\u001b[38;5;241;43m0\u001b[39;49m\u001b[43m,\u001b[49m\u001b[38;5;241;43m0\u001b[39;49m\u001b[43m,\u001b[49m\u001b[38;5;241;43m0\u001b[39;49m\u001b[43m,\u001b[49m\u001b[38;5;241;43m0\u001b[39;49m\u001b[43m]\u001b[49m\u001b[43m)\u001b[49m\n\u001b[1;32m    250\u001b[0m     true_anomalies, pred_vae \u001b[38;5;241m=\u001b[39m \u001b[38;5;28mself\u001b[39m\u001b[38;5;241m.\u001b[39mtrain_test_model(normal_df, anomalous_df, \u001b[38;5;124m'\u001b[39m\u001b[38;5;124mvae\u001b[39m\u001b[38;5;124m'\u001b[39m, plots\u001b[38;5;241m=\u001b[39m[\u001b[38;5;241m0\u001b[39m,\u001b[38;5;241m0\u001b[39m,\u001b[38;5;241m0\u001b[39m,\u001b[38;5;241m0\u001b[39m])\n\u001b[1;32m    251\u001b[0m     combined_predictions \u001b[38;5;241m=\u001b[39m np\u001b[38;5;241m.\u001b[39mlogical_and(pred_autoencoder, pred_vae)\u001b[38;5;241m.\u001b[39mastype(\u001b[38;5;28mint\u001b[39m)\n",
      "File \u001b[0;32m~/repo/Thesis/notebooks/../src/DeepLearningAnomalyDetection2.py:111\u001b[0m, in \u001b[0;36mDeepLearningAnomalyDetection.train_test_model\u001b[0;34m(self, normal_df, anomalous_df, model, laurel, plots)\u001b[0m\n\u001b[1;32m    109\u001b[0m     anomalous_dataset \u001b[38;5;241m=\u001b[39m \u001b[38;5;28mself\u001b[39m\u001b[38;5;241m.\u001b[39mget_dataset_laurel(anomalous_df)\n\u001b[1;32m    110\u001b[0m \u001b[38;5;28;01melse\u001b[39;00m:\n\u001b[0;32m--> 111\u001b[0m     normal_dataset \u001b[38;5;241m=\u001b[39m \u001b[38;5;28;43mself\u001b[39;49m\u001b[38;5;241;43m.\u001b[39;49m\u001b[43mget_dataset\u001b[49m\u001b[43m(\u001b[49m\u001b[43mnormal_df\u001b[49m\u001b[43m)\u001b[49m\n\u001b[1;32m    112\u001b[0m     anomalous_dataset \u001b[38;5;241m=\u001b[39m \u001b[38;5;28mself\u001b[39m\u001b[38;5;241m.\u001b[39mget_dataset(anomalous_df)\n\u001b[1;32m    113\u001b[0m \u001b[38;5;66;03m# Normalize the data\u001b[39;00m\n",
      "File \u001b[0;32m~/repo/Thesis/notebooks/../src/DeepLearningAnomalyDetection2.py:97\u001b[0m, in \u001b[0;36mDeepLearningAnomalyDetection.get_dataset\u001b[0;34m(self, dataframe)\u001b[0m\n\u001b[1;32m     96\u001b[0m \u001b[38;5;28;01mdef\u001b[39;00m \u001b[38;5;21mget_dataset\u001b[39m(\u001b[38;5;28mself\u001b[39m, dataframe):\n\u001b[0;32m---> 97\u001b[0m     dataset \u001b[38;5;241m=\u001b[39m \u001b[43mdataframe\u001b[49m\u001b[43m[\u001b[49m\u001b[43m[\u001b[49m\u001b[38;5;124;43m'\u001b[39;49m\u001b[38;5;124;43mseverity_scores\u001b[39;49m\u001b[38;5;124;43m'\u001b[39;49m\u001b[43m,\u001b[49m\u001b[43m \u001b[49m\u001b[38;5;124;43m'\u001b[39;49m\u001b[38;5;124;43mtimedelta\u001b[39;49m\u001b[38;5;124;43m'\u001b[39;49m\u001b[43m,\u001b[49m\u001b[43m \u001b[49m\u001b[38;5;124;43m'\u001b[39;49m\u001b[38;5;124;43mlog key\u001b[39;49m\u001b[38;5;124;43m'\u001b[39;49m\u001b[43m]\u001b[49m\u001b[43m]\u001b[49m\n\u001b[1;32m     98\u001b[0m     \u001b[38;5;28;01mreturn\u001b[39;00m dataset\n",
      "File \u001b[0;32m~/.local/lib/python3.9/site-packages/pandas/core/frame.py:4108\u001b[0m, in \u001b[0;36mDataFrame.__getitem__\u001b[0;34m(self, key)\u001b[0m\n\u001b[1;32m   4106\u001b[0m     \u001b[38;5;28;01mif\u001b[39;00m is_iterator(key):\n\u001b[1;32m   4107\u001b[0m         key \u001b[38;5;241m=\u001b[39m \u001b[38;5;28mlist\u001b[39m(key)\n\u001b[0;32m-> 4108\u001b[0m     indexer \u001b[38;5;241m=\u001b[39m \u001b[38;5;28;43mself\u001b[39;49m\u001b[38;5;241;43m.\u001b[39;49m\u001b[43mcolumns\u001b[49m\u001b[38;5;241;43m.\u001b[39;49m\u001b[43m_get_indexer_strict\u001b[49m\u001b[43m(\u001b[49m\u001b[43mkey\u001b[49m\u001b[43m,\u001b[49m\u001b[43m \u001b[49m\u001b[38;5;124;43m\"\u001b[39;49m\u001b[38;5;124;43mcolumns\u001b[39;49m\u001b[38;5;124;43m\"\u001b[39;49m\u001b[43m)\u001b[49m[\u001b[38;5;241m1\u001b[39m]\n\u001b[1;32m   4110\u001b[0m \u001b[38;5;66;03m# take() does not accept boolean indexers\u001b[39;00m\n\u001b[1;32m   4111\u001b[0m \u001b[38;5;28;01mif\u001b[39;00m \u001b[38;5;28mgetattr\u001b[39m(indexer, \u001b[38;5;124m\"\u001b[39m\u001b[38;5;124mdtype\u001b[39m\u001b[38;5;124m\"\u001b[39m, \u001b[38;5;28;01mNone\u001b[39;00m) \u001b[38;5;241m==\u001b[39m \u001b[38;5;28mbool\u001b[39m:\n",
      "File \u001b[0;32m~/.local/lib/python3.9/site-packages/pandas/core/indexes/base.py:6200\u001b[0m, in \u001b[0;36mIndex._get_indexer_strict\u001b[0;34m(self, key, axis_name)\u001b[0m\n\u001b[1;32m   6197\u001b[0m \u001b[38;5;28;01melse\u001b[39;00m:\n\u001b[1;32m   6198\u001b[0m     keyarr, indexer, new_indexer \u001b[38;5;241m=\u001b[39m \u001b[38;5;28mself\u001b[39m\u001b[38;5;241m.\u001b[39m_reindex_non_unique(keyarr)\n\u001b[0;32m-> 6200\u001b[0m \u001b[38;5;28;43mself\u001b[39;49m\u001b[38;5;241;43m.\u001b[39;49m\u001b[43m_raise_if_missing\u001b[49m\u001b[43m(\u001b[49m\u001b[43mkeyarr\u001b[49m\u001b[43m,\u001b[49m\u001b[43m \u001b[49m\u001b[43mindexer\u001b[49m\u001b[43m,\u001b[49m\u001b[43m \u001b[49m\u001b[43maxis_name\u001b[49m\u001b[43m)\u001b[49m\n\u001b[1;32m   6202\u001b[0m keyarr \u001b[38;5;241m=\u001b[39m \u001b[38;5;28mself\u001b[39m\u001b[38;5;241m.\u001b[39mtake(indexer)\n\u001b[1;32m   6203\u001b[0m \u001b[38;5;28;01mif\u001b[39;00m \u001b[38;5;28misinstance\u001b[39m(key, Index):\n\u001b[1;32m   6204\u001b[0m     \u001b[38;5;66;03m# GH 42790 - Preserve name from an Index\u001b[39;00m\n",
      "File \u001b[0;32m~/.local/lib/python3.9/site-packages/pandas/core/indexes/base.py:6252\u001b[0m, in \u001b[0;36mIndex._raise_if_missing\u001b[0;34m(self, key, indexer, axis_name)\u001b[0m\n\u001b[1;32m   6249\u001b[0m     \u001b[38;5;28;01mraise\u001b[39;00m \u001b[38;5;167;01mKeyError\u001b[39;00m(\u001b[38;5;124mf\u001b[39m\u001b[38;5;124m\"\u001b[39m\u001b[38;5;124mNone of [\u001b[39m\u001b[38;5;132;01m{\u001b[39;00mkey\u001b[38;5;132;01m}\u001b[39;00m\u001b[38;5;124m] are in the [\u001b[39m\u001b[38;5;132;01m{\u001b[39;00maxis_name\u001b[38;5;132;01m}\u001b[39;00m\u001b[38;5;124m]\u001b[39m\u001b[38;5;124m\"\u001b[39m)\n\u001b[1;32m   6251\u001b[0m not_found \u001b[38;5;241m=\u001b[39m \u001b[38;5;28mlist\u001b[39m(ensure_index(key)[missing_mask\u001b[38;5;241m.\u001b[39mnonzero()[\u001b[38;5;241m0\u001b[39m]]\u001b[38;5;241m.\u001b[39munique())\n\u001b[0;32m-> 6252\u001b[0m \u001b[38;5;28;01mraise\u001b[39;00m \u001b[38;5;167;01mKeyError\u001b[39;00m(\u001b[38;5;124mf\u001b[39m\u001b[38;5;124m\"\u001b[39m\u001b[38;5;132;01m{\u001b[39;00mnot_found\u001b[38;5;132;01m}\u001b[39;00m\u001b[38;5;124m not in index\u001b[39m\u001b[38;5;124m\"\u001b[39m)\n",
      "\u001b[0;31mKeyError\u001b[0m: \"['log key'] not in index\""
     ]
    }
   ],
   "source": [
    "d_an_det.ensemble_method(normal_dataset_df, anomalous_dataset, plots=[1])"
   ]
  },
  {
   "cell_type": "code",
   "execution_count": null,
   "id": "526f718f-33b8-4543-b6f2-c52f0469c78c",
   "metadata": {},
   "outputs": [],
   "source": [
    "# Example predictions from two models (replace with your actual predictions)\n",
    "predictions_model1 = reconstructed_anomalies\n",
    "predictions_model2 = reconstructed_anomalies_vae\n",
    "\n",
    "# Combine predictions using logical OR (voting scheme)\n",
    "combined_predictions = np.logical_and(predictions_model1, predictions_model2).astype(int)\n",
    "\n",
    "# Example thresholding (adjust as needed)\n",
    "threshold = 0.5  # Simple majority voting\n",
    "\n",
    "# Convert to final anomaly predictions based on threshold\n",
    "final_predictions = (combined_predictions >= threshold).astype(int)\n",
    "\n",
    "# Print or use the final predictions\n",
    "print(\"Combined Predictions:\", combined_predictions)\n",
    "print(\"Final Anomaly Predictions:\", final_predictions)"
   ]
  },
  {
   "cell_type": "code",
   "execution_count": null,
   "id": "27818862-17f9-4d42-bba1-1e5c9c4e7017",
   "metadata": {},
   "outputs": [],
   "source": [
    "from sklearn.metrics import confusion_matrix\n",
    "import seaborn as sns\n",
    "import matplotlib.pyplot as plt"
   ]
  },
  {
   "cell_type": "code",
   "execution_count": null,
   "id": "488ae0e5-e2f9-4040-8510-e2af8d3452fb",
   "metadata": {},
   "outputs": [],
   "source": [
    "# Example ground truth and predictions (replace with your actual data)\n",
    "ground_truth = true_anomalies\n",
    "predictions = final_predictions\n",
    "            \n",
    "# Calculate confusion matrix\n",
    "cm = confusion_matrix(ground_truth, predictions)\n",
    "            \n",
    "# Plot confusion matrix\n",
    "plt.figure(figsize=(8, 6))\n",
    "sns.heatmap(cm, annot=True, fmt='d', cmap='Blues', \n",
    "                        xticklabels=['Normal', 'Anomaly'], \n",
    "                        yticklabels=['Normal', 'Anomaly'])\n",
    "plt.xlabel('Predicted')\n",
    "plt.ylabel('Actual')\n",
    "plt.title('Confusion Matrix')\n",
    "plt.show()"
   ]
  }
 ],
 "metadata": {
  "kernelspec": {
   "display_name": "Python 3 (ipykernel)",
   "language": "python",
   "name": "python3"
  },
  "language_info": {
   "codemirror_mode": {
    "name": "ipython",
    "version": 3
   },
   "file_extension": ".py",
   "mimetype": "text/x-python",
   "name": "python",
   "nbconvert_exporter": "python",
   "pygments_lexer": "ipython3",
   "version": "3.9.18"
  }
 },
 "nbformat": 4,
 "nbformat_minor": 5
}
