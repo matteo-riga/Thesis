{
 "cells": [
  {
   "cell_type": "code",
   "execution_count": 11,
   "id": "5b47068e-ecfe-423e-9994-0f1ef5a42965",
   "metadata": {},
   "outputs": [
    {
     "name": "stdout",
     "output_type": "stream",
     "text": [
      "   col_0  col_1  col_2  col_3  col_4  col_5  col_6  col_7\n",
      "0      0      1      0      0      0      0      0      0\n",
      "1      0      1      0      0      0      0      0      0\n",
      "2      0      1      0      0      0      0      0      0\n",
      "   col_0  col_1  col_2  col_3  col_4  col_5  col_6  col_7\n",
      "0      0      0      0      0      0      0      0      1\n"
     ]
    }
   ],
   "source": [
    "from category_encoders import HashingEncoder\n",
    "import pandas as pd\n",
    "\n",
    "# Initial dataset\n",
    "data = pd.DataFrame({'category': ['A', 'B', 'A']})\n",
    "encoder = HashingEncoder()\n",
    "encoded_data = encoder.fit_transform(data['category'])\n",
    "print(encoded_data)\n",
    "\n",
    "# New observation\n",
    "new_data = pd.DataFrame({'category': ['C']})\n",
    "encoded_new_data = encoder.transform(new_data['category'])\n",
    "print(encoded_new_data)\n"
   ]
  },
  {
   "cell_type": "code",
   "execution_count": 10,
   "id": "1dfaec55-d67f-41d6-adbd-7ff46505b469",
   "metadata": {},
   "outputs": [
    {
     "data": {
      "text/html": [
       "<div>\n",
       "<style scoped>\n",
       "    .dataframe tbody tr th:only-of-type {\n",
       "        vertical-align: middle;\n",
       "    }\n",
       "\n",
       "    .dataframe tbody tr th {\n",
       "        vertical-align: top;\n",
       "    }\n",
       "\n",
       "    .dataframe thead th {\n",
       "        text-align: right;\n",
       "    }\n",
       "</style>\n",
       "<table border=\"1\" class=\"dataframe\">\n",
       "  <thead>\n",
       "    <tr style=\"text-align: right;\">\n",
       "      <th></th>\n",
       "      <th>col_0</th>\n",
       "      <th>col_1</th>\n",
       "      <th>col_2</th>\n",
       "      <th>col_3</th>\n",
       "      <th>col_4</th>\n",
       "      <th>col_5</th>\n",
       "      <th>col_6</th>\n",
       "      <th>col_7</th>\n",
       "    </tr>\n",
       "  </thead>\n",
       "  <tbody>\n",
       "    <tr>\n",
       "      <th>0</th>\n",
       "      <td>0</td>\n",
       "      <td>1</td>\n",
       "      <td>0</td>\n",
       "      <td>0</td>\n",
       "      <td>0</td>\n",
       "      <td>0</td>\n",
       "      <td>0</td>\n",
       "      <td>0</td>\n",
       "    </tr>\n",
       "    <tr>\n",
       "      <th>1</th>\n",
       "      <td>0</td>\n",
       "      <td>1</td>\n",
       "      <td>0</td>\n",
       "      <td>0</td>\n",
       "      <td>0</td>\n",
       "      <td>0</td>\n",
       "      <td>0</td>\n",
       "      <td>0</td>\n",
       "    </tr>\n",
       "    <tr>\n",
       "      <th>2</th>\n",
       "      <td>0</td>\n",
       "      <td>1</td>\n",
       "      <td>0</td>\n",
       "      <td>0</td>\n",
       "      <td>0</td>\n",
       "      <td>0</td>\n",
       "      <td>0</td>\n",
       "      <td>0</td>\n",
       "    </tr>\n",
       "  </tbody>\n",
       "</table>\n",
       "</div>"
      ],
      "text/plain": [
       "   col_0  col_1  col_2  col_3  col_4  col_5  col_6  col_7\n",
       "0      0      1      0      0      0      0      0      0\n",
       "1      0      1      0      0      0      0      0      0\n",
       "2      0      1      0      0      0      0      0      0"
      ]
     },
     "execution_count": 10,
     "metadata": {},
     "output_type": "execute_result"
    }
   ],
   "source": [
    "encoded_data"
   ]
  },
  {
   "cell_type": "code",
   "execution_count": 12,
   "id": "5338da4b-497b-4edd-aaf5-33f3ad108269",
   "metadata": {},
   "outputs": [
    {
     "name": "stdout",
     "output_type": "stream",
     "text": [
      "Encoded data:\n",
      "   col_0  col_1  col_2  col_3\n",
      "0      0      1      0      0\n",
      "1      0      1      0      0\n",
      "2      0      1      0      0\n",
      "3      0      0      0      1\n",
      "4      0      1      0      0\n",
      "5      0      0      1      0\n"
     ]
    }
   ],
   "source": [
    "from category_encoders import HashingEncoder\n",
    "import pandas as pd\n",
    "\n",
    "# Initial dataset\n",
    "data = pd.DataFrame({'category': ['A', 'B', 'A', 'C', 'D', 'E']})\n",
    "\n",
    "# Initialize the HashingEncoder with a specified number of output features\n",
    "encoder = HashingEncoder(n_components=4)\n",
    "\n",
    "# Transform the categorical data\n",
    "encoded_data = encoder.fit_transform(data['category'])\n",
    "\n",
    "print(\"Encoded data:\")\n",
    "print(encoded_data)\n"
   ]
  },
  {
   "cell_type": "code",
   "execution_count": 14,
   "id": "27cac9df-6950-4236-895e-c40dfdcad452",
   "metadata": {},
   "outputs": [],
   "source": [
    "from feature_engine.encoding import OneHotEncoder\n",
    "import pandas as pd\n",
    "\n",
    "# Initial dataset\n",
    "data = pd.DataFrame({'category': ['A', 'B', 'A']})\n",
    "encoder = OneHotEncoder()\n",
    "encoded_data = encoder.fit_transform(data)\n",
    "\n",
    "# New observation\n",
    "new_data = pd.DataFrame({'category': ['C']})\n",
    "encoded_new_data = encoder.transform(new_data)\n"
   ]
  },
  {
   "cell_type": "code",
   "execution_count": 15,
   "id": "d093c0d3-22f3-4010-8357-19e956bde690",
   "metadata": {},
   "outputs": [
    {
     "name": "stdout",
     "output_type": "stream",
     "text": [
      "   category_A  category_B\n",
      "0           0           0\n"
     ]
    }
   ],
   "source": [
    "print(encoded_new_data)"
   ]
  },
  {
   "cell_type": "code",
   "execution_count": 20,
   "id": "0816cc9c-4aba-468e-b022-b81487786f43",
   "metadata": {},
   "outputs": [
    {
     "name": "stdout",
     "output_type": "stream",
     "text": [
      "Transformed new data:\n",
      "{}\n"
     ]
    }
   ],
   "source": [
    "from river import feature_extraction\n",
    "from river import compose\n",
    "from river import preprocessing\n",
    "import pandas as pd\n",
    "\n",
    "# Initial dataset\n",
    "data = [{'category': 'A'}, {'category': 'B'}, {'category': 'A'}]\n",
    "\n",
    "# Create a pipeline\n",
    "model = compose.Pipeline(\n",
    "    ('vectorizer', feature_extraction.BagOfWords(on='category')),\n",
    "    ('scaler', preprocessing.StandardScaler())\n",
    ")\n",
    "\n",
    "# Train on initial dataset\n",
    "for row in data:\n",
    "    x = model.learn_one(row)\n",
    "\n",
    "# New observation\n",
    "new_data = {'category': 'C'}\n",
    "transformed_new_data = model.transform_one(new_data)\n",
    "\n",
    "print(\"Transformed new data:\")\n",
    "print(transformed_new_data)\n"
   ]
  }
 ],
 "metadata": {
  "kernelspec": {
   "display_name": "Python 3 (ipykernel)",
   "language": "python",
   "name": "python3"
  },
  "language_info": {
   "codemirror_mode": {
    "name": "ipython",
    "version": 3
   },
   "file_extension": ".py",
   "mimetype": "text/x-python",
   "name": "python",
   "nbconvert_exporter": "python",
   "pygments_lexer": "ipython3",
   "version": "3.9.18"
  }
 },
 "nbformat": 4,
 "nbformat_minor": 5
}
