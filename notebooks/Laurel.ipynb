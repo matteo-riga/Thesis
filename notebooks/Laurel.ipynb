{
 "cells": [
  {
   "cell_type": "code",
   "execution_count": 2,
   "id": "7579fc8d-1ec8-4afe-b916-687b7a12db31",
   "metadata": {},
   "outputs": [],
   "source": [
    "import re\n",
    "import Reader"
   ]
  },
  {
   "cell_type": "code",
   "execution_count": 3,
   "id": "d3b82aea-09a1-42c2-8796-186773d5177d",
   "metadata": {},
   "outputs": [],
   "source": [
    "# Testing Params Extractor\n",
    "log_types = ['laurel']\n",
    "#log_types = ['cron', 'laurel', 'maillog', 'messages', 'secure', 'user']\n",
    "file_paths = ['../../../temp_logs/login01.' + logtype + '.log' for logtype in log_types]\n",
    "\n",
    "df_list = []\n",
    "\n",
    "for file_path in file_paths:\n",
    "    r = Reader.Reader(file_path)\n",
    "    df = r.read_file()\n",
    "    df_list.append(df)"
   ]
  },
  {
   "cell_type": "code",
   "execution_count": 4,
   "id": "f14afbfb-0922-447d-9220-4643b49a8a6a",
   "metadata": {},
   "outputs": [],
   "source": [
    "laurel=1\n",
    "line = df['message'][0]"
   ]
  },
  {
   "cell_type": "code",
   "execution_count": 5,
   "id": "79c804b6-e152-4ea4-ab9e-41a04b929f35",
   "metadata": {},
   "outputs": [],
   "source": [
    "complex_id_pattern = r'\"\\d+\\.\\d+:\\d+\",'\n",
    "matches = re.findall(complex_id_pattern, line)\n",
    "res = len(matches)\n",
    "\n",
    "if res > 0 or '\\\"NODE\\\"' in line:\n",
    "    laurel = 1\n",
    "\n",
    "if laurel == 1:\n",
    "    r = Reader.Reader('', laurel=1)\n",
    "    line = re.sub(complex_id_pattern, '{', line, count=1)\n",
    "    parsed = r.parse_line(line)"
   ]
  },
  {
   "cell_type": "code",
   "execution_count": 6,
   "id": "3abf3975-3155-4aec-8053-1a9ebb0fb797",
   "metadata": {},
   "outputs": [
    {
     "name": "stdout",
     "output_type": "stream",
     "text": [
      "0\n"
     ]
    }
   ],
   "source": [
    "print(parsed['PATH'][0]['cap_fe'])"
   ]
  },
  {
   "cell_type": "code",
   "execution_count": 7,
   "id": "3923dba1-0615-4a42-ad35-b79ecaae33e0",
   "metadata": {},
   "outputs": [
    {
     "name": "stdout",
     "output_type": "stream",
     "text": [
      "Effective capabilities: []\n"
     ]
    }
   ],
   "source": [
    "def decode_capabilities(cap_fe):\n",
    "    capabilities = []\n",
    "    for bit in range(36):  # There are 36 capabilities as of Linux 4.3\n",
    "        if cap_fe & (1 << bit):\n",
    "            capabilities.append(capability_mapping.get(bit, f\"Unknown Capability {bit}\"))\n",
    "    return capabilities\n",
    "\n",
    "# Example usage\n",
    "cap_fe = parsed['PATH'][0]['cap_fe']  # Example value\n",
    "decoded_capabilities = decode_capabilities(cap_fe)\n",
    "print(f\"Effective capabilities: {decoded_capabilities}\")\n"
   ]
  }
 ],
 "metadata": {
  "kernelspec": {
   "display_name": "Python 3 (ipykernel)",
   "language": "python",
   "name": "python3"
  },
  "language_info": {
   "codemirror_mode": {
    "name": "ipython",
    "version": 3
   },
   "file_extension": ".py",
   "mimetype": "text/x-python",
   "name": "python",
   "nbconvert_exporter": "python",
   "pygments_lexer": "ipython3",
   "version": "3.9.18"
  }
 },
 "nbformat": 4,
 "nbformat_minor": 5
}
