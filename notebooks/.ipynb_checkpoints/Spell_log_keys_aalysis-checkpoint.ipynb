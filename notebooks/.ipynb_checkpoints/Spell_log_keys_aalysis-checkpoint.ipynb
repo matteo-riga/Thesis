{
 "cells": [
  {
   "cell_type": "code",
   "execution_count": 1,
   "id": "4029e29c-6fb9-413c-913e-18432daa3dfb",
   "metadata": {},
   "outputs": [
    {
     "name": "stderr",
     "output_type": "stream",
     "text": [
      "2024-06-11 13:49:29.999430: I tensorflow/core/util/port.cc:113] oneDNN custom operations are on. You may see slightly different numerical results due to floating-point round-off errors from different computation orders. To turn them off, set the environment variable `TF_ENABLE_ONEDNN_OPTS=0`.\n",
      "2024-06-11 13:49:29.999978: I external/local_tsl/tsl/cuda/cudart_stub.cc:32] Could not find cuda drivers on your machine, GPU will not be used.\n",
      "2024-06-11 13:49:30.003344: I external/local_tsl/tsl/cuda/cudart_stub.cc:32] Could not find cuda drivers on your machine, GPU will not be used.\n",
      "2024-06-11 13:49:30.049181: I tensorflow/core/platform/cpu_feature_guard.cc:210] This TensorFlow binary is optimized to use available CPU instructions in performance-critical operations.\n",
      "To enable the following instructions: AVX2 AVX512F AVX512_VNNI FMA, in other operations, rebuild TensorFlow with the appropriate compiler flags.\n",
      "2024-06-11 13:49:30.861689: W tensorflow/compiler/tf2tensorrt/utils/py_utils.cc:38] TF-TRT Warning: Could not find TensorRT\n"
     ]
    }
   ],
   "source": [
    "import pandas as pd\n",
    "\n",
    "import Reader\n",
    "import LogKeysManager\n",
    "import ParamsExtractor\n",
    "import DataPreprocessor\n",
    "import ReduceDim\n",
    "import ClusterData\n",
    "import Spell, Spell2\n",
    "import Spell3\n",
    "import SpellLogKey"
   ]
  },
  {
   "cell_type": "code",
   "execution_count": 2,
   "id": "10dc6158-5c41-4e0f-a411-2f39c789167e",
   "metadata": {},
   "outputs": [],
   "source": [
    "#log_types = ['cron', 'user']\n",
    "log_types = ['cron', 'laurel', 'maillog', 'messages', 'secure', 'user']\n",
    "file_paths = ['../../../temp_logs/login01.' + logtype + '.log' for logtype in log_types]\n",
    "\n",
    "df_list = []\n",
    "\n",
    "for file_path in file_paths:\n",
    "    r = Reader.Reader(file_path)\n",
    "    df = r.read_file(file_path)\n",
    "    df_list.append(df)"
   ]
  },
  {
   "cell_type": "code",
   "execution_count": 3,
   "id": "8ac6ba6c-cced-4922-8d94-75d364d41d95",
   "metadata": {},
   "outputs": [],
   "source": [
    "logs = [[m for m in df_list[i]['message']] for i in range(len(df_list))]"
   ]
  },
  {
   "cell_type": "code",
   "execution_count": 4,
   "id": "39bb158d-6c0f-4257-bd77-29417199aa8e",
   "metadata": {},
   "outputs": [],
   "source": [
    "spell = Spell2.Spell(similarity=0.5)\n",
    "templates = {}"
   ]
  },
  {
   "cell_type": "code",
   "execution_count": 5,
   "id": "e2016ab6-b2f9-480d-b3eb-1fee58a3768b",
   "metadata": {},
   "outputs": [
    {
     "name": "stdout",
     "output_type": "stream",
     "text": [
      " (root) CMD (/cinecalocal/scripts/clean_shm_files.sh)\n"
     ]
    }
   ],
   "source": [
    "var = ['(root)', 'CMD', '(/cinecalocal/scripts/clean_shm_files.sh)']\n",
    "\n",
    "var_str = ''\n",
    "for i in var:\n",
    "    var_str += ' '\n",
    "    var_str += i\n",
    "    \n",
    "print(var_str)"
   ]
  },
  {
   "cell_type": "code",
   "execution_count": 6,
   "id": "cb79aef1-df69-42ba-8770-f6272e4a8b3e",
   "metadata": {},
   "outputs": [
    {
     "name": "stdout",
     "output_type": "stream",
     "text": [
      "============================================\n",
      "Template: (root) CMD (/cinecalocal/scripts/clean_shm_files.sh)\n",
      "Template: (root) CMD * * * * * * * *\n",
      "Template: (a07cmc01) CMD (source /g100_work/CMCC_medfs_0/download/set_env.sh; python /g100_work/CMCC_medfs_0/download/dasDwlSystem/mp_dwld_driver.py > /g100_work/CMCC_medfs_0/download/LOGS/dasDwlSystem/mp_dwld_driver_log_`date +%Y%m%d%H%M%S`.log 2>&1)\n",
      "Template: (a07cmc01) CMD * * * 2>&1)\n",
      "Template: (root) CMD * *\n",
      "Template: (/etc/cron.hourly) starting 0anacron\n",
      "Template: Anacron started on 2024-03-27\n",
      "Template: Normal exit (0 jobs run)\n",
      "Template: (/etc/cron.hourly) * 0anacron\n",
      "Template: (root) CMD * * * * * *\n",
      "Template: (acctdata) CMD ( /bin/timeout 239m /cineca/asdata/bin/cindata.pl g >/tmp/lastcron_cindata 2>&1)\n",
      "Template: (root) CMD * * *\n",
      "Template: (a07ccc02) CMD (/g100/home/usera07ccc/a07ccc02/acct_data/scripts_in_cron/sync_acct-data_to_dres.sh)\n",
      "Template: (a07ccc02) CMD *\n",
      "Template: (a07cmc01) CMD (source /g100_work/CMCC_medfs_0/download/set_env.sh; python * * * * * * * * > * +%Y%m%d%H%M%S`.log 2>&1)\n",
      "Template: Will run job `cron.daily' in 28 min.\n",
      "Template: Jobs will be executed sequentially\n",
      "Template: Job `cron.daily' started\n",
      "Template: (/etc/cron.daily) starting logrotate\n",
      "Template: (/etc/cron.daily) * logrotate\n",
      "Template: Job `cron.daily' *\n",
      "Template: Normal exit * * run)\n",
      "Template: (root) CMD * * * * * * * * * * * * *\n",
      "Template: (a07cmc01) CMD * * * * 2>&1)\n",
      "Template: (a07cmc01) CMD (source * python * * * * * * > * 2>&1)\n",
      "Template: (a07cmc01) CMD (source * python * * * * * * * * * * > * 2>&1)\n",
      "Template: (a07cmc01) CMD (source * python * * * * * * * * > * 2>&1)\n",
      "Template: (a06ccc08) CMD (. /etc/profile.d/slurm.sh; . /etc/profile.d/modules.sh; module load python/3.8.6--gcc--10.2.0; ${HOME}/stats_oldversion.py --cluster ${HOME}/g100_oldversion.json --path_statistics ${HOME}/g100_ov/statistic --path_account ${HOME}/g100_ov/account --path_raw ${HOME}/g100_ov/raw/)\n",
      "Template: (a06ccc08) CMD (. /etc/profile.d/slurm.sh; . /etc/profile.d/modules.sh; module load python/3.8.6--gcc--10.2.0; * --cluster * --path_statistics * --path_account * --path_raw *\n",
      "Template: (root) CMD *\n",
      "============================================\n",
      "*\n",
      "============================================\n",
      "Template: 247A311E88D9 uid 0 from <root>\n",
      "Template: 247A311E88D9 * *\n",
      "Template: 247A311E88D9 from * * * * * * *\n",
      "Template: 247A311E88D9 * * * <root> * * * * * * * * * * * * *\n",
      "Template: 247A311E88D9 *\n",
      "Template: * uid 0 from <root>\n",
      "Template: 76BD111E88E7 message-id <20240327045501.76BD111E88E7@login01.g100.cineca.it>\n",
      "Template: 76BD111E88E7 * * * * * * * *\n",
      "Template: 76BD111E88E7 * * * * * * * * * * * * * * * * *\n",
      "Template: 76BD111E88E7 *\n",
      "Template: * uid * from *\n",
      "Template: * message-id *\n",
      "Template: C99C811F79D8 from <a07cmc01-login01@login.g100.cineca.it> size 1662 nrcpt 1 (queue active)\n",
      "Template: C99C811F79D8 to <a07cmc01@login01.g100.cineca.it> orig_to <a07cmc01> relay local delay 76 delays 76/0.01/0/0.01 dsn 5.2.2 status bounced (cannot update mailbox /var/mail/a07cmc01 for user a07cmc01. error writing message File too large)\n",
      "Template: C99C811F79D8 sender non-delivery notification CF1E011F79D9\n",
      "Template: * from * size * nrcpt 1 (queue active)\n",
      "Template: C99C811F79D8 *\n",
      "Template: * to * relay local delay * delays * dsn * status bounced * user *\n",
      "Template: CF1E011F79D9 *\n",
      "Template: * from <a07cmc01-login01@login.g100.cineca.it> size * nrcpt 1 (queue active)\n",
      "Template: * to <a07cmc01@login01.g100.cineca.it> orig_to <a07cmc01> relay local delay 76 delays * dsn 5.2.2 status bounced (cannot update mailbox /var/mail/a07cmc01 for user a07cmc01. error writing message File too large)\n",
      "Template: * sender non-delivery notification *\n",
      "Template: D3EDE11F79D8 removed\n",
      "Template: * removed\n",
      "Template: * to <a07cmc01@login01.g100.cineca.it> orig_to <a07cmc01> relay local delay * delays * dsn 5.2.2 status bounced (cannot update mailbox /var/mail/a07cmc01 for user a07cmc01. error writing message File too large)\n",
      "Template: * from <a07cmc01-login01@login.g100.cineca.it> size 1662 nrcpt 1 (queue active)\n",
      "Template: * to * orig_to * relay local delay * delays * dsn * status * * to *\n",
      "============================================\n",
      "Template: Started Update a database for mlocate.\n",
      "Template: Starting update of the root trust anchor for DNSSEC validation in unbound...\n",
      "Template: unbound-anchor.service Succeeded.\n",
      "Template: * update of the root trust anchor for DNSSEC validation in *\n",
      "Template: Started /run/user/12571 mount wrapper.\n",
      "Template: Created slice User Slice of UID 12571.\n",
      "Template: Starting User Manager for UID 12571...\n",
      "Template: New session 1718186 of user a07grm00.\n",
      "Template: * * 1718186 of user a07grm00.\n",
      "Template: Started Mark boot as successful after the user session has run 2 minutes.\n",
      "Template: Reached target Paths.\n",
      "Template: Reached target *\n",
      "Template: Starting D-Bus User Message Bus Socket.\n",
      "Template: * * D-Bus User Message Bus Socket.\n",
      "Template: Reached target * *\n",
      "Template: Startup finished in 33ms.\n",
      "Template: * User * * UID 12571.\n",
      "Template: * Succeeded.\n",
      "Template: Session 1718186 logged out. Waiting for processes to exit.\n",
      "Template: Removed session 1718186.\n",
      "Template: * User Manager for UID 12571...\n",
      "Template: Stopped target Default.\n",
      "Template: Stopped target * *\n",
      "Template: Stopped target *\n",
      "Template: * Mark boot as successful after the user session has run 2 minutes.\n",
      "Template: * target Paths.\n",
      "Template: * D-Bus User Message Bus Socket.\n",
      "Template: Starting * the *\n",
      "Template: * /run/user/12571 mount *\n",
      "Template: * slice User Slice of UID 12571.\n",
      "Template: * /run/user/12571 mount wrapper.\n",
      "Template: Started * mount wrapper.\n",
      "Template: Created slice User Slice of UID *\n",
      "Template: Starting User Manager for UID *\n",
      "Template: New session * of user *\n",
      "Template: Started Session 1718188 of user a07ogs00.\n",
      "Template: * User Manager for UID *\n",
      "Template: Started Session * of user *\n",
      "Template: Session * logged out. Waiting for processes to exit.\n",
      "Template: Removed session *\n",
      "Template: Stopping /run/user/12503 mount wrapper...\n",
      "Template: * slice User Slice of UID *\n",
      "Template: * * mount wrapper.\n",
      "Template: INFO [sshd] Found 195.239.91.210 - 2024-03-27 00 00 09\n",
      "Template: INFO [sshd] Found 195.239.91.210 - 2024-03-27 00 00 *\n",
      "Template: * [sshd] * 195.239.91.210\n",
      "Template: New session * of user a07grm00.\n",
      "Template: * * * of user a07grm00.\n",
      "Template: Startup finished in *\n",
      "Template: Stopping * mount wrapper...\n",
      "Template: INFO [sshd] Found * - 2024-03-27 00 00 *\n",
      "Template: NOTICE [sshd] Unban 221.229.103.137\n",
      "Template: NOTICE [sshd] Unban *\n",
      "Template: INFO [sshd] Found * - 2024-03-27 00 * 09\n",
      "Template: NOTICE [sshd] * *\n",
      "Template: INFO [sshd] Found * - 2024-03-27 00 * *\n",
      "Template: * Mark boot as *\n",
      "Template: Started Mark boot as *\n",
      "============================================\n",
      "Template: Accepted publickey for a07grm00 from 131.175.207.144 port 12620 ssh2 RSA SHA256 o5NSd6T8LbVSUcC9NP+0kCLlFY2n6Coli0UI8aWqY5g\n",
      "Template: pam_unix(systemd-user session) session opened for user a07grm00 by (uid 0)\n",
      "Template: * session) session opened for user a07grm00 by (uid 0)\n",
      "Template: * session) session * for user a07grm00\n",
      "Template: Accepted publickey for * from * port * ssh2 RSA SHA256 *\n",
      "Template: pam_unix(systemd-user session) session opened for user * by (uid 0)\n",
      "Template: * session) session opened for user * by (uid 0)\n",
      "Template: * session) session * for user *\n",
      "Template: Received disconnect from 10.44.0.12 port 44764 11 disconnected by user\n",
      "Template: * from * * 10.44.0.12 port 44764\n",
      "Template: Invalid user quaschningk from 195.239.91.210 port 50996\n",
      "Template: pam_unix(sshd auth) check pass; user unknown\n",
      "Template: pam_unix(sshd auth) authentication failure; logname uid 0 euid 0 tty ssh ruser rhost 195.239.91.210\n",
      "Template: * * * * user quaschningk from 195.239.91.210 port 50996 *\n",
      "Template: Accepted publickey for * from * port * ssh2 * SHA256 * * * * * * * SHA256 *\n",
      "Template: Accepted publickey for a07grm00 from 131.175.207.144 port * ssh2 RSA SHA256 o5NSd6T8LbVSUcC9NP+0kCLlFY2n6Coli0UI8aWqY5g\n",
      "Template: ganglia TTY unknown ; PWD / ; USER root ; COMMAND /cinecalocal/scripts/cat_llite.sh\n",
      "Template: Invalid user * from * port *\n",
      "Template: pam_unix(sshd auth) authentication failure; logname uid 0 euid 0 tty ssh ruser rhost *\n",
      "Template: Failed password for invalid user ventasford from 43.153.72.68 port 39830 ssh2\n",
      "Template: Received disconnect from * port * 11 * * *\n",
      "Template: * * invalid user ventasford 43.153.72.68 port 39830 *\n",
      "Template: Connection closed by 162.142.125.225 port 47572 [preauth]\n",
      "Template: Failed password for invalid user * from 43.153.72.68 port * ssh2\n",
      "Template: Failed password for invalid user * from * port * ssh2\n",
      "Template: Disconnected from invalid user mkdadm 221.229.103.137 port 60400 [preauth]\n",
      "Template: Connection closed by * port * [preauth]\n",
      "Template: Connection closed by * * * * port * [preauth]\n",
      "Template: Received disconnect from 10.44.0.12 port * 11 disconnected by user\n",
      "Template: Disconnected from user * * port *\n",
      "Template: Received disconnect from * port * 11 disconnected by user\n",
      "Template: pam_unix(systemd-user session) session * for user *\n",
      "Template: Disconnected from invalid user * * port * [preauth]\n",
      "Template: Invalid user * from 195.239.91.210 port *\n",
      "Template: * * * * user * from 195.239.91.210 port * *\n",
      "Template: reverse mapping checking getaddrinfo for vpnsrv1.ior.it [193.43.97.151] failed.\n",
      "Template: pam_unix(sshd auth) * * * * * * * * * * * * user *\n",
      "Template: Failed password for * from * port * ssh2\n",
      "Template: Received disconnect from * port * 11 *\n",
      "Template: Disconnected from * user * * port * [preauth]\n",
      "============================================\n",
      "Template: Process 31133 (assert_value) of user 25356 dumped core.\n",
      "Template: Process * * of user 25356 dumped core.\n",
      "Template: Package file size 7304631\n",
      "Template: * * file size *\n",
      "Template: * file size *\n",
      "Template: ManifestPackageIntegrityPolicy succeeded.\n",
      "Template: * * * * succeeded.\n",
      "Template: * * * * * succeeded.\n",
      "Template: X.509 certificate chain validation will use the fallback certificate bundle for timestamping.\n",
      "Template: * * * * * * * succeeded.\n",
      "Template: X.509 certificate chain validation will use the fallback certificate bundle for * *\n",
      "Template: Primary signature type repository primary signature\n",
      "Template: Primary signature * *\n",
      "Template: Timestamp signature status OK\n",
      "Template: Exit code Success\n",
      "Template: Process * * of user * dumped core.\n",
      "Template: Process * * of user * dumped * * of * * * * * *\n",
      "Template: Process * * of user * dumped * * of * * * * * * * of * * * * * *\n",
      "Template: Process * * of user * dumped * * of * * * * * * * * * * * * * * * * * * * * * * * * * * * * * * * * * * * * * * * * * * * * * * * * * * * * * * * * * * * * * * * * * * * * * * * * * * * * * * * * * * * * * * * * * * * * * * * * * * * * * * * * * * * * * * * * * * * * * * * * * * * * * * * * * * * * * * * * * * * * * * * * * * * * * * * * * * * * * * * * * * * * * * * * * * * * * * * * * * * * * * * * * * * * * * * * * * *\n",
      "Template: Process * * of user * dumped * * of * * * * * * * * * * * * * * * * * * * * * * * * * * * * * * * * * * * * * * * * * * * * * * * * * * * * * * * * * * * * * * *\n"
     ]
    }
   ],
   "source": [
    "similarities = [0.4, 0.0, 0.3, 0.45, 0.45, 0.5]\n",
    "for i,log_t in enumerate(logs):\n",
    "    print('============================================')\n",
    "    if i == 1:\n",
    "        print('*')\n",
    "    else:\n",
    "        spell = Spell2.Spell(similarity=similarities[i])\n",
    "        spell.parse_logs(log_t)\n",
    "        spell.display_templates()\n",
    "        spell.save_templates_to_file()"
   ]
  },
  {
   "cell_type": "code",
   "execution_count": 10,
   "id": "5be512d4-f53d-437f-a101-50b1f38d6974",
   "metadata": {},
   "outputs": [
    {
     "name": "stdout",
     "output_type": "stream",
     "text": [
      "['(root)', 'CMD', '*', '*', '*', '*', '*', '*', '*', '*']\n"
     ]
    }
   ],
   "source": [
    "l = spell.read_templates_from_file()\n",
    "print(l[1])"
   ]
  },
  {
   "cell_type": "code",
   "execution_count": 11,
   "id": "4e0308c4-70ad-41a0-a86a-14fab104ca52",
   "metadata": {},
   "outputs": [
    {
     "name": "stdout",
     "output_type": "stream",
     "text": [
      "(root) CMD (/cinecalocal/scripts/clean_shm_files.sh)\n",
      "['(root)', 'CMD', '(/cinecalocal/scripts/clean_shm_files.sh)']\n"
     ]
    }
   ],
   "source": [
    "# simulate extraction of log key from a new line\n",
    "line = logs[0][0]\n",
    "print(line)\n",
    "tokens = spell.extract_template(line)\n",
    "print(tokens)"
   ]
  },
  {
   "cell_type": "code",
   "execution_count": null,
   "id": "ede4ac92-3dd9-4c51-8561-bcd60298f0fa",
   "metadata": {},
   "outputs": [],
   "source": [
    "# siimulate adding new data\n"
   ]
  }
 ],
 "metadata": {
  "kernelspec": {
   "display_name": "Python 3 (ipykernel)",
   "language": "python",
   "name": "python3"
  },
  "language_info": {
   "codemirror_mode": {
    "name": "ipython",
    "version": 3
   },
   "file_extension": ".py",
   "mimetype": "text/x-python",
   "name": "python",
   "nbconvert_exporter": "python",
   "pygments_lexer": "ipython3",
   "version": "3.9.18"
  }
 },
 "nbformat": 4,
 "nbformat_minor": 5
}
