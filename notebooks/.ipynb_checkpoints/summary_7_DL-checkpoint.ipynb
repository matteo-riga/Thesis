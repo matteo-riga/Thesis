{
 "cells": [
  {
   "cell_type": "markdown",
   "id": "f9802504-1823-4b44-becd-9103769793ed",
   "metadata": {},
   "source": [
    "# Analysis on secure logs"
   ]
  },
  {
   "cell_type": "code",
   "execution_count": 1,
   "id": "a53b279e-e4ee-4818-9fc8-114099f0e7c0",
   "metadata": {},
   "outputs": [],
   "source": [
    "import os\n",
    "import sys\n",
    "import numpy as np\n",
    "import pandas as pd"
   ]
  },
  {
   "cell_type": "code",
   "execution_count": 2,
   "id": "7dbd8efe-3368-4b32-84fb-e0a1c122d21a",
   "metadata": {},
   "outputs": [],
   "source": [
    "sys.path.append('../')\n",
    "sys.path.append('../src/')\n",
    "sys.path.append('../spell/')"
   ]
  },
  {
   "cell_type": "code",
   "execution_count": 3,
   "id": "ffec0691-73d2-4c4c-b66f-9dfcf857dbb2",
   "metadata": {},
   "outputs": [
    {
     "name": "stderr",
     "output_type": "stream",
     "text": [
      "2024-07-01 07:44:18.059528: I tensorflow/core/util/port.cc:113] oneDNN custom operations are on. You may see slightly different numerical results due to floating-point round-off errors from different computation orders. To turn them off, set the environment variable `TF_ENABLE_ONEDNN_OPTS=0`.\n",
      "2024-07-01 07:44:18.060165: I external/local_tsl/tsl/cuda/cudart_stub.cc:32] Could not find cuda drivers on your machine, GPU will not be used.\n",
      "2024-07-01 07:44:18.064768: I external/local_tsl/tsl/cuda/cudart_stub.cc:32] Could not find cuda drivers on your machine, GPU will not be used.\n",
      "2024-07-01 07:44:18.111420: I tensorflow/core/platform/cpu_feature_guard.cc:210] This TensorFlow binary is optimized to use available CPU instructions in performance-critical operations.\n",
      "To enable the following instructions: AVX2 AVX512F AVX512_VNNI FMA, in other operations, rebuild TensorFlow with the appropriate compiler flags.\n",
      "2024-07-01 07:44:18.929130: W tensorflow/compiler/tf2tensorrt/utils/py_utils.cc:38] TF-TRT Warning: Could not find TensorRT\n"
     ]
    }
   ],
   "source": [
    "import Reader\n",
    "import ParamsExtractor2\n",
    "import DataPreprocessor\n",
    "import DeepLearningAnomalyDetection2"
   ]
  },
  {
   "cell_type": "markdown",
   "id": "26e95807-cfea-4725-9aa7-9ebd79d7e94c",
   "metadata": {
    "jp-MarkdownHeadingCollapsed": true
   },
   "source": [
    "## Training"
   ]
  },
  {
   "cell_type": "code",
   "execution_count": 4,
   "id": "e7e266b1-5572-4af4-bee5-c5880d87f3c3",
   "metadata": {},
   "outputs": [
    {
     "name": "stdout",
     "output_type": "stream",
     "text": [
      "['/../../../temp_logs/20240418/login01.secure.log', '/../../../temp_logs/20240418/login02.secure.log', '/../../../temp_logs/20240418/login03.secure.log', '/../../../temp_logs/20240418/login10.secure.log', '/../../../temp_logs/20240420/login01.secure.log', '/../../../temp_logs/20240420/login02.secure.log', '/../../../temp_logs/20240420/login03.secure.log', '/../../../temp_logs/20240420/login10.secure.log']\n"
     ]
    }
   ],
   "source": [
    "log_types = ['secure']\n",
    "dates = ['20240418', '20240420', '20240429']\n",
    "login_node_numbers = ['01', '02', '03', '10']\n",
    "\n",
    "# Generate the list of file paths\n",
    "file_paths = [f'/../../../temp_logs/{date}/login{num}.{logtype}.log' for date in dates for num in login_node_numbers for logtype in log_types]\n",
    "\n",
    "# Filter the list to include only existing files\n",
    "existing_file_paths = [path for path in file_paths if os.path.exists(path)]\n",
    "print(existing_file_paths)\n",
    "\n",
    "df_list = []\n",
    "\n",
    "for file_path in existing_file_paths:\n",
    "    r = Reader.Reader(file_path)\n",
    "    df = r.read_file(file_path)\n",
    "    df_list.append(df)"
   ]
  },
  {
   "cell_type": "code",
   "execution_count": 5,
   "id": "a1bb1dc7-2d37-45d4-8f32-c45679635ba5",
   "metadata": {},
   "outputs": [
    {
     "data": {
      "text/plain": [
       "8"
      ]
     },
     "execution_count": 5,
     "metadata": {},
     "output_type": "execute_result"
    }
   ],
   "source": [
    "len(df_list)"
   ]
  },
  {
   "cell_type": "code",
   "execution_count": 6,
   "id": "588b3071-1dda-49d0-bbfa-7e7368f67d9c",
   "metadata": {},
   "outputs": [],
   "source": [
    "df_after = []\n",
    "\n",
    "for i, df in enumerate(df_list):\n",
    "    p = ParamsExtractor2.ParamsExtractor(df)\n",
    "    df = p.convert_params(df)\n",
    "    new_df = p.get_params()\n",
    "    df_after.append(new_df)\n",
    "    df_list[i] = pd.concat([df_list[i], new_df], axis=1)"
   ]
  },
  {
   "cell_type": "code",
   "execution_count": 7,
   "id": "43b1dbb0-17f4-456e-8522-de644baf4a76",
   "metadata": {},
   "outputs": [
    {
     "data": {
      "text/html": [
       "<div>\n",
       "<style scoped>\n",
       "    .dataframe tbody tr th:only-of-type {\n",
       "        vertical-align: middle;\n",
       "    }\n",
       "\n",
       "    .dataframe tbody tr th {\n",
       "        vertical-align: top;\n",
       "    }\n",
       "\n",
       "    .dataframe thead th {\n",
       "        text-align: right;\n",
       "    }\n",
       "</style>\n",
       "<table border=\"1\" class=\"dataframe\">\n",
       "  <thead>\n",
       "    <tr style=\"text-align: right;\">\n",
       "      <th></th>\n",
       "      <th>host</th>\n",
       "      <th>ident</th>\n",
       "      <th>pid</th>\n",
       "      <th>message</th>\n",
       "      <th>severity</th>\n",
       "      <th>facility</th>\n",
       "      <th>time</th>\n",
       "      <th>severity_numbers</th>\n",
       "      <th>facility_numbers</th>\n",
       "      <th>severity_scores</th>\n",
       "      <th>timedelta</th>\n",
       "      <th>ip</th>\n",
       "      <th>port</th>\n",
       "      <th>session</th>\n",
       "      <th>log key</th>\n",
       "      <th>log key spell</th>\n",
       "    </tr>\n",
       "  </thead>\n",
       "  <tbody>\n",
       "    <tr>\n",
       "      <th>0</th>\n",
       "      <td>login01</td>\n",
       "      <td>systemd</td>\n",
       "      <td>37690</td>\n",
       "      <td>pam_unix(systemd-user:session): session opened...</td>\n",
       "      <td>info</td>\n",
       "      <td>authpriv</td>\n",
       "      <td>2024-04-18 00:00:01 +0200</td>\n",
       "      <td>6</td>\n",
       "      <td>10</td>\n",
       "      <td>1.0</td>\n",
       "      <td>0.0</td>\n",
       "      <td>-1</td>\n",
       "      <td>-1</td>\n",
       "      <td>opened</td>\n",
       "      <td>96</td>\n",
       "      <td>-1</td>\n",
       "    </tr>\n",
       "    <tr>\n",
       "      <th>1</th>\n",
       "      <td>login01</td>\n",
       "      <td>sshd</td>\n",
       "      <td>37759</td>\n",
       "      <td>Accepted publickey for root from 10.44.0.12 po...</td>\n",
       "      <td>info</td>\n",
       "      <td>authpriv</td>\n",
       "      <td>2024-04-18 00:00:02 +0200</td>\n",
       "      <td>6</td>\n",
       "      <td>10</td>\n",
       "      <td>1.0</td>\n",
       "      <td>1.0</td>\n",
       "      <td>10.44.0.12</td>\n",
       "      <td>44266</td>\n",
       "      <td>-1</td>\n",
       "      <td>97</td>\n",
       "      <td>52</td>\n",
       "    </tr>\n",
       "    <tr>\n",
       "      <th>2</th>\n",
       "      <td>login01</td>\n",
       "      <td>sshd</td>\n",
       "      <td>37759</td>\n",
       "      <td>pam_unix(sshd:session): session opened for use...</td>\n",
       "      <td>info</td>\n",
       "      <td>authpriv</td>\n",
       "      <td>2024-04-18 00:00:02 +0200</td>\n",
       "      <td>6</td>\n",
       "      <td>10</td>\n",
       "      <td>1.0</td>\n",
       "      <td>0.0</td>\n",
       "      <td>-1</td>\n",
       "      <td>-1</td>\n",
       "      <td>opened</td>\n",
       "      <td>96</td>\n",
       "      <td>-1</td>\n",
       "    </tr>\n",
       "    <tr>\n",
       "      <th>3</th>\n",
       "      <td>login01</td>\n",
       "      <td>sshd</td>\n",
       "      <td>37765</td>\n",
       "      <td>Received disconnect from 10.44.0.12 port 44266...</td>\n",
       "      <td>info</td>\n",
       "      <td>authpriv</td>\n",
       "      <td>2024-04-18 00:00:02 +0200</td>\n",
       "      <td>6</td>\n",
       "      <td>10</td>\n",
       "      <td>1.0</td>\n",
       "      <td>0.0</td>\n",
       "      <td>10.44.0.12</td>\n",
       "      <td>44266</td>\n",
       "      <td>-1</td>\n",
       "      <td>98</td>\n",
       "      <td>-1</td>\n",
       "    </tr>\n",
       "    <tr>\n",
       "      <th>4</th>\n",
       "      <td>login01</td>\n",
       "      <td>sshd</td>\n",
       "      <td>37765</td>\n",
       "      <td>Disconnected from user root 10.44.0.12 port 44266</td>\n",
       "      <td>info</td>\n",
       "      <td>authpriv</td>\n",
       "      <td>2024-04-18 00:00:02 +0200</td>\n",
       "      <td>6</td>\n",
       "      <td>10</td>\n",
       "      <td>1.0</td>\n",
       "      <td>0.0</td>\n",
       "      <td>10.44.0.12</td>\n",
       "      <td>44266</td>\n",
       "      <td>-1</td>\n",
       "      <td>99</td>\n",
       "      <td>55</td>\n",
       "    </tr>\n",
       "  </tbody>\n",
       "</table>\n",
       "</div>"
      ],
      "text/plain": [
       "      host    ident    pid                                            message  \\\n",
       "0  login01  systemd  37690  pam_unix(systemd-user:session): session opened...   \n",
       "1  login01     sshd  37759  Accepted publickey for root from 10.44.0.12 po...   \n",
       "2  login01     sshd  37759  pam_unix(sshd:session): session opened for use...   \n",
       "3  login01     sshd  37765  Received disconnect from 10.44.0.12 port 44266...   \n",
       "4  login01     sshd  37765  Disconnected from user root 10.44.0.12 port 44266   \n",
       "\n",
       "  severity  facility                       time  severity_numbers  \\\n",
       "0     info  authpriv  2024-04-18 00:00:01 +0200                 6   \n",
       "1     info  authpriv  2024-04-18 00:00:02 +0200                 6   \n",
       "2     info  authpriv  2024-04-18 00:00:02 +0200                 6   \n",
       "3     info  authpriv  2024-04-18 00:00:02 +0200                 6   \n",
       "4     info  authpriv  2024-04-18 00:00:02 +0200                 6   \n",
       "\n",
       "   facility_numbers  severity_scores  timedelta          ip   port session  \\\n",
       "0                10              1.0        0.0          -1     -1  opened   \n",
       "1                10              1.0        1.0  10.44.0.12  44266      -1   \n",
       "2                10              1.0        0.0          -1     -1  opened   \n",
       "3                10              1.0        0.0  10.44.0.12  44266      -1   \n",
       "4                10              1.0        0.0  10.44.0.12  44266      -1   \n",
       "\n",
       "   log key  log key spell  \n",
       "0       96             -1  \n",
       "1       97             52  \n",
       "2       96             -1  \n",
       "3       98             -1  \n",
       "4       99             55  "
      ]
     },
     "execution_count": 7,
     "metadata": {},
     "output_type": "execute_result"
    }
   ],
   "source": [
    "df_list[0].head()"
   ]
  },
  {
   "cell_type": "code",
   "execution_count": 8,
   "id": "cbc8c57b-7911-4f18-b9f5-4c2440f9b80f",
   "metadata": {},
   "outputs": [
    {
     "name": "stdout",
     "output_type": "stream",
     "text": [
      "   severity_scores  timedelta   port  log key  log key spell  col_0  col_1  \\\n",
      "0              1.0        0.0     -1       96             -1      0      0   \n",
      "1              1.0        1.0  44266       97             52      1      0   \n",
      "2              1.0        0.0     -1       96             -1      1      0   \n",
      "3              1.0        0.0  44266       98             -1      1      0   \n",
      "4              1.0        0.0  44266       99             55      1      0   \n",
      "\n",
      "   col_2  col_3  col_4  ...  col_10  col_11  col_12  col_13  col_14  col_15  \\\n",
      "0      0      0      0  ...       0       0       3       0       0       0   \n",
      "1      0      0      0  ...       0       1       1       0       0       0   \n",
      "2      0      0      0  ...       0       1       2       0       0       0   \n",
      "3      0      0      0  ...       0       0       1       0       0       0   \n",
      "4      0      0      0  ...       0       0       1       0       0       0   \n",
      "\n",
      "   col_16  col_17  col_18  col_19  \n",
      "0       1       0       0       0  \n",
      "1       0       0       1       0  \n",
      "2       0       0       0       0  \n",
      "3       0       0       1       0  \n",
      "4       0       0       1       0  \n",
      "\n",
      "[5 rows x 25 columns]\n"
     ]
    }
   ],
   "source": [
    "for i, df in enumerate(df_list):\n",
    "    d = DataPreprocessor.DataPreprocessor(df)\n",
    "    enc = d.drop_and_hash_encode()\n",
    "    df_list[i] = enc\n",
    "\n",
    "print(df_list[0].head())"
   ]
  },
  {
   "cell_type": "code",
   "execution_count": 9,
   "id": "1480c325-8793-469e-912d-7e41bfdb8b64",
   "metadata": {},
   "outputs": [
    {
     "name": "stdout",
     "output_type": "stream",
     "text": [
      "(1000, 25)\n",
      "(1000, 25)\n",
      "(1000, 25)\n",
      "(1000, 25)\n",
      "(1000, 25)\n",
      "(1000, 25)\n",
      "(1000, 25)\n",
      "(1000, 25)\n"
     ]
    }
   ],
   "source": [
    "for df in df_list:\n",
    "    print(df.shape)"
   ]
  },
  {
   "cell_type": "code",
   "execution_count": 10,
   "id": "f42f3518-c530-4536-ab4c-ee91177de6e7",
   "metadata": {},
   "outputs": [],
   "source": [
    "normal_dataset = df_list[0]\n",
    "\n",
    "for i in range(1,len(df_list)):\n",
    "    normal_dataset = np.vstack([normal_dataset, df_list[i]])"
   ]
  },
  {
   "cell_type": "code",
   "execution_count": 11,
   "id": "c30bf1f6-b70e-4e95-ad32-a537a9270f02",
   "metadata": {},
   "outputs": [
    {
     "data": {
      "text/plain": [
       "(8000, 25)"
      ]
     },
     "execution_count": 11,
     "metadata": {},
     "output_type": "execute_result"
    }
   ],
   "source": [
    "normal_dataset.shape"
   ]
  },
  {
   "cell_type": "markdown",
   "id": "854c17ff-1bd6-4034-b62e-bdc5d41f7f23",
   "metadata": {
    "jp-MarkdownHeadingCollapsed": true
   },
   "source": [
    "## Anomalies' dataset"
   ]
  },
  {
   "cell_type": "code",
   "execution_count": 12,
   "id": "d7992594-3016-4216-a190-dd8e162fc27f",
   "metadata": {},
   "outputs": [],
   "source": [
    "log_types = ['secure']\n",
    "\n",
    "# Generate the list of file paths\n",
    "file_paths = [f'../data/linpeas_logs_1/{logtype}_logs.log' for logtype in log_types]\n",
    "\n",
    "# Filter the list to include only existing files\n",
    "existing_file_paths = [path for path in file_paths if os.path.exists(path)]\n",
    "\n",
    "an_df_list = []\n",
    "\n",
    "for file_path in existing_file_paths:\n",
    "    r = Reader.Reader(file_path)\n",
    "    df = r.read_file_2(file_path)\n",
    "    an_df_list.append(df)"
   ]
  },
  {
   "cell_type": "code",
   "execution_count": 13,
   "id": "b7e0bba3-051b-4dba-8f9f-65cea6f63d8d",
   "metadata": {},
   "outputs": [
    {
     "data": {
      "text/html": [
       "<div>\n",
       "<style scoped>\n",
       "    .dataframe tbody tr th:only-of-type {\n",
       "        vertical-align: middle;\n",
       "    }\n",
       "\n",
       "    .dataframe tbody tr th {\n",
       "        vertical-align: top;\n",
       "    }\n",
       "\n",
       "    .dataframe thead th {\n",
       "        text-align: right;\n",
       "    }\n",
       "</style>\n",
       "<table border=\"1\" class=\"dataframe\">\n",
       "  <thead>\n",
       "    <tr style=\"text-align: right;\">\n",
       "      <th></th>\n",
       "      <th>host</th>\n",
       "      <th>ident</th>\n",
       "      <th>pid</th>\n",
       "      <th>message</th>\n",
       "      <th>severity</th>\n",
       "      <th>facility</th>\n",
       "      <th>time</th>\n",
       "    </tr>\n",
       "  </thead>\n",
       "  <tbody>\n",
       "    <tr>\n",
       "      <th>0</th>\n",
       "      <td>localhost</td>\n",
       "      <td>sudo[3680]:</td>\n",
       "      <td>3680</td>\n",
       "      <td>matteo : TTY=pts/0 ; PWD=/home/matteo ; USER...</td>\n",
       "      <td>notice</td>\n",
       "      <td>authpriv</td>\n",
       "      <td>2024-06-22T11:55:39.520333-04:00</td>\n",
       "    </tr>\n",
       "    <tr>\n",
       "      <th>1</th>\n",
       "      <td>localhost</td>\n",
       "      <td>sudo[3680]:</td>\n",
       "      <td>3680</td>\n",
       "      <td>pam_unix(sudo:session): session opened for use...</td>\n",
       "      <td>info</td>\n",
       "      <td>authpriv</td>\n",
       "      <td>2024-06-22T11:55:39.526046-04:00</td>\n",
       "    </tr>\n",
       "    <tr>\n",
       "      <th>2</th>\n",
       "      <td>localhost</td>\n",
       "      <td>sudo[3680]:</td>\n",
       "      <td>3680</td>\n",
       "      <td>pam_unix(sudo:session): session closed for use...</td>\n",
       "      <td>info</td>\n",
       "      <td>authpriv</td>\n",
       "      <td>2024-06-22T11:55:39.974240-04:00</td>\n",
       "    </tr>\n",
       "    <tr>\n",
       "      <th>3</th>\n",
       "      <td>localhost</td>\n",
       "      <td>sudo[3693]:</td>\n",
       "      <td>3693</td>\n",
       "      <td>matteo : TTY=pts/0 ; PWD=/home/matteo ; USER...</td>\n",
       "      <td>notice</td>\n",
       "      <td>authpriv</td>\n",
       "      <td>2024-06-22T11:55:46.643379-04:00</td>\n",
       "    </tr>\n",
       "    <tr>\n",
       "      <th>4</th>\n",
       "      <td>localhost</td>\n",
       "      <td>sudo[3693]:</td>\n",
       "      <td>3693</td>\n",
       "      <td>pam_unix(sudo:session): session opened for use...</td>\n",
       "      <td>info</td>\n",
       "      <td>authpriv</td>\n",
       "      <td>2024-06-22T11:55:46.655326-04:00</td>\n",
       "    </tr>\n",
       "  </tbody>\n",
       "</table>\n",
       "</div>"
      ],
      "text/plain": [
       "        host        ident   pid  \\\n",
       "0  localhost  sudo[3680]:  3680   \n",
       "1  localhost  sudo[3680]:  3680   \n",
       "2  localhost  sudo[3680]:  3680   \n",
       "3  localhost  sudo[3693]:  3693   \n",
       "4  localhost  sudo[3693]:  3693   \n",
       "\n",
       "                                             message severity  facility  \\\n",
       "0    matteo : TTY=pts/0 ; PWD=/home/matteo ; USER...   notice  authpriv   \n",
       "1  pam_unix(sudo:session): session opened for use...     info  authpriv   \n",
       "2  pam_unix(sudo:session): session closed for use...     info  authpriv   \n",
       "3    matteo : TTY=pts/0 ; PWD=/home/matteo ; USER...   notice  authpriv   \n",
       "4  pam_unix(sudo:session): session opened for use...     info  authpriv   \n",
       "\n",
       "                               time  \n",
       "0  2024-06-22T11:55:39.520333-04:00  \n",
       "1  2024-06-22T11:55:39.526046-04:00  \n",
       "2  2024-06-22T11:55:39.974240-04:00  \n",
       "3  2024-06-22T11:55:46.643379-04:00  \n",
       "4  2024-06-22T11:55:46.655326-04:00  "
      ]
     },
     "execution_count": 13,
     "metadata": {},
     "output_type": "execute_result"
    }
   ],
   "source": [
    "an_df_list[0].head()"
   ]
  },
  {
   "cell_type": "code",
   "execution_count": 14,
   "id": "14b176f7-c733-4da5-b901-975dae3ee361",
   "metadata": {},
   "outputs": [],
   "source": [
    "an_df_after = []\n",
    "\n",
    "for i, df in enumerate(an_df_list):\n",
    "    p = ParamsExtractor2.ParamsExtractor(df)\n",
    "    df = p.convert_params(df)\n",
    "    new_df = p.get_params()\n",
    "    an_df_after.append(new_df)\n",
    "    an_df_list[i] = pd.concat([an_df_list[i], new_df], axis=1)"
   ]
  },
  {
   "cell_type": "code",
   "execution_count": 15,
   "id": "bb7d5c47-d290-4191-878f-6d01b7ce4955",
   "metadata": {},
   "outputs": [
    {
     "data": {
      "text/html": [
       "<div>\n",
       "<style scoped>\n",
       "    .dataframe tbody tr th:only-of-type {\n",
       "        vertical-align: middle;\n",
       "    }\n",
       "\n",
       "    .dataframe tbody tr th {\n",
       "        vertical-align: top;\n",
       "    }\n",
       "\n",
       "    .dataframe thead th {\n",
       "        text-align: right;\n",
       "    }\n",
       "</style>\n",
       "<table border=\"1\" class=\"dataframe\">\n",
       "  <thead>\n",
       "    <tr style=\"text-align: right;\">\n",
       "      <th></th>\n",
       "      <th>host</th>\n",
       "      <th>ident</th>\n",
       "      <th>pid</th>\n",
       "      <th>message</th>\n",
       "      <th>severity</th>\n",
       "      <th>facility</th>\n",
       "      <th>time</th>\n",
       "      <th>severity_numbers</th>\n",
       "      <th>facility_numbers</th>\n",
       "      <th>severity_scores</th>\n",
       "      <th>timedelta</th>\n",
       "      <th>ip</th>\n",
       "      <th>port</th>\n",
       "      <th>session</th>\n",
       "      <th>log key</th>\n",
       "      <th>log key spell</th>\n",
       "    </tr>\n",
       "  </thead>\n",
       "  <tbody>\n",
       "    <tr>\n",
       "      <th>0</th>\n",
       "      <td>localhost</td>\n",
       "      <td>sudo[3680]:</td>\n",
       "      <td>3680</td>\n",
       "      <td>matteo : TTY=pts/0 ; PWD=/home/matteo ; USER...</td>\n",
       "      <td>notice</td>\n",
       "      <td>authpriv</td>\n",
       "      <td>2024-06-22T11:55:39.520333-04:00</td>\n",
       "      <td>5</td>\n",
       "      <td>10</td>\n",
       "      <td>2.718282</td>\n",
       "      <td>0.000000</td>\n",
       "      <td>-1</td>\n",
       "      <td>-1</td>\n",
       "      <td>-1</td>\n",
       "      <td>414</td>\n",
       "      <td>-1</td>\n",
       "    </tr>\n",
       "    <tr>\n",
       "      <th>1</th>\n",
       "      <td>localhost</td>\n",
       "      <td>sudo[3680]:</td>\n",
       "      <td>3680</td>\n",
       "      <td>pam_unix(sudo:session): session opened for use...</td>\n",
       "      <td>info</td>\n",
       "      <td>authpriv</td>\n",
       "      <td>2024-06-22T11:55:39.526046-04:00</td>\n",
       "      <td>6</td>\n",
       "      <td>10</td>\n",
       "      <td>1.000000</td>\n",
       "      <td>0.005713</td>\n",
       "      <td>-1</td>\n",
       "      <td>-1</td>\n",
       "      <td>opened</td>\n",
       "      <td>415</td>\n",
       "      <td>-1</td>\n",
       "    </tr>\n",
       "    <tr>\n",
       "      <th>2</th>\n",
       "      <td>localhost</td>\n",
       "      <td>sudo[3680]:</td>\n",
       "      <td>3680</td>\n",
       "      <td>pam_unix(sudo:session): session closed for use...</td>\n",
       "      <td>info</td>\n",
       "      <td>authpriv</td>\n",
       "      <td>2024-06-22T11:55:39.974240-04:00</td>\n",
       "      <td>6</td>\n",
       "      <td>10</td>\n",
       "      <td>1.000000</td>\n",
       "      <td>0.448194</td>\n",
       "      <td>-1</td>\n",
       "      <td>-1</td>\n",
       "      <td>closed</td>\n",
       "      <td>100</td>\n",
       "      <td>53</td>\n",
       "    </tr>\n",
       "    <tr>\n",
       "      <th>3</th>\n",
       "      <td>localhost</td>\n",
       "      <td>sudo[3693]:</td>\n",
       "      <td>3693</td>\n",
       "      <td>matteo : TTY=pts/0 ; PWD=/home/matteo ; USER...</td>\n",
       "      <td>notice</td>\n",
       "      <td>authpriv</td>\n",
       "      <td>2024-06-22T11:55:46.643379-04:00</td>\n",
       "      <td>5</td>\n",
       "      <td>10</td>\n",
       "      <td>2.718282</td>\n",
       "      <td>6.669139</td>\n",
       "      <td>-1</td>\n",
       "      <td>-1</td>\n",
       "      <td>-1</td>\n",
       "      <td>416</td>\n",
       "      <td>56</td>\n",
       "    </tr>\n",
       "    <tr>\n",
       "      <th>4</th>\n",
       "      <td>localhost</td>\n",
       "      <td>sudo[3693]:</td>\n",
       "      <td>3693</td>\n",
       "      <td>pam_unix(sudo:session): session opened for use...</td>\n",
       "      <td>info</td>\n",
       "      <td>authpriv</td>\n",
       "      <td>2024-06-22T11:55:46.655326-04:00</td>\n",
       "      <td>6</td>\n",
       "      <td>10</td>\n",
       "      <td>1.000000</td>\n",
       "      <td>0.011947</td>\n",
       "      <td>-1</td>\n",
       "      <td>-1</td>\n",
       "      <td>opened</td>\n",
       "      <td>415</td>\n",
       "      <td>-1</td>\n",
       "    </tr>\n",
       "  </tbody>\n",
       "</table>\n",
       "</div>"
      ],
      "text/plain": [
       "        host        ident   pid  \\\n",
       "0  localhost  sudo[3680]:  3680   \n",
       "1  localhost  sudo[3680]:  3680   \n",
       "2  localhost  sudo[3680]:  3680   \n",
       "3  localhost  sudo[3693]:  3693   \n",
       "4  localhost  sudo[3693]:  3693   \n",
       "\n",
       "                                             message severity  facility  \\\n",
       "0    matteo : TTY=pts/0 ; PWD=/home/matteo ; USER...   notice  authpriv   \n",
       "1  pam_unix(sudo:session): session opened for use...     info  authpriv   \n",
       "2  pam_unix(sudo:session): session closed for use...     info  authpriv   \n",
       "3    matteo : TTY=pts/0 ; PWD=/home/matteo ; USER...   notice  authpriv   \n",
       "4  pam_unix(sudo:session): session opened for use...     info  authpriv   \n",
       "\n",
       "                               time  severity_numbers  facility_numbers  \\\n",
       "0  2024-06-22T11:55:39.520333-04:00                 5                10   \n",
       "1  2024-06-22T11:55:39.526046-04:00                 6                10   \n",
       "2  2024-06-22T11:55:39.974240-04:00                 6                10   \n",
       "3  2024-06-22T11:55:46.643379-04:00                 5                10   \n",
       "4  2024-06-22T11:55:46.655326-04:00                 6                10   \n",
       "\n",
       "   severity_scores  timedelta  ip port session  log key  log key spell  \n",
       "0         2.718282   0.000000  -1   -1      -1      414             -1  \n",
       "1         1.000000   0.005713  -1   -1  opened      415             -1  \n",
       "2         1.000000   0.448194  -1   -1  closed      100             53  \n",
       "3         2.718282   6.669139  -1   -1      -1      416             56  \n",
       "4         1.000000   0.011947  -1   -1  opened      415             -1  "
      ]
     },
     "execution_count": 15,
     "metadata": {},
     "output_type": "execute_result"
    }
   ],
   "source": [
    "an_df_list[0].head()"
   ]
  },
  {
   "cell_type": "code",
   "execution_count": 16,
   "id": "74b973e5-2b81-4644-a9e7-66f0beb8b863",
   "metadata": {},
   "outputs": [
    {
     "name": "stdout",
     "output_type": "stream",
     "text": [
      "   severity_scores  timedelta port  log key  log key spell  col_0  col_1  \\\n",
      "0         2.718282   0.000000   -1      414             -1      1      1   \n",
      "1         1.000000   0.005713   -1      415             -1      1      1   \n",
      "2         1.000000   0.448194   -1      100             53      2      1   \n",
      "3         2.718282   6.669139   -1      416             56      0      0   \n",
      "4         1.000000   0.011947   -1      415             -1      0      0   \n",
      "\n",
      "   col_2  col_3  col_4  ...  col_10  col_11  col_12  col_13  col_14  col_15  \\\n",
      "0      0      0      0  ...       0       0       2       0       0       0   \n",
      "1      0      0      0  ...       0       0       2       0       0       0   \n",
      "2      0      0      0  ...       0       0       1       0       0       0   \n",
      "3      0      0      0  ...       0       0       2       0       0       2   \n",
      "4      0      0      0  ...       0       0       2       0       0       2   \n",
      "\n",
      "   col_16  col_17  col_18  col_19  \n",
      "0       0       0       0       0  \n",
      "1       0       0       0       0  \n",
      "2       0       0       0       0  \n",
      "3       0       0       0       0  \n",
      "4       0       0       0       0  \n",
      "\n",
      "[5 rows x 25 columns]\n"
     ]
    }
   ],
   "source": [
    "for i, df in enumerate(an_df_list):\n",
    "    d = DataPreprocessor.DataPreprocessor(df)\n",
    "    enc = d.drop_and_hash_encode()\n",
    "    an_df_list[i] = enc\n",
    "\n",
    "print(an_df_list[0].head())"
   ]
  },
  {
   "cell_type": "code",
   "execution_count": 17,
   "id": "f980bc78-f2b7-4208-a783-a1009b99037c",
   "metadata": {},
   "outputs": [],
   "source": [
    "# we test secure\n",
    "# we take the lines from the 230th (detected pwd bruteforcing)\n",
    "anomalous_dataset = an_df_list[0][230:]"
   ]
  },
  {
   "cell_type": "code",
   "execution_count": 18,
   "id": "411c1dfc-0c30-41b1-ad5c-038405ea4379",
   "metadata": {},
   "outputs": [
    {
     "data": {
      "text/plain": [
       "(770, 25)"
      ]
     },
     "execution_count": 18,
     "metadata": {},
     "output_type": "execute_result"
    }
   ],
   "source": [
    "anomalous_dataset.shape"
   ]
  },
  {
   "cell_type": "markdown",
   "id": "7d0f2105-f32b-44fc-8573-e0550aed9319",
   "metadata": {},
   "source": [
    "## Library implementation"
   ]
  },
  {
   "cell_type": "code",
   "execution_count": 19,
   "id": "31d3f29b-ee28-4bae-a51f-8f225e45d52e",
   "metadata": {},
   "outputs": [],
   "source": [
    "normal_dataset_df = pd.DataFrame(normal_dataset, columns=anomalous_dataset.columns)"
   ]
  },
  {
   "cell_type": "code",
   "execution_count": null,
   "id": "15723da0-d03c-48ea-abc2-3efa6b5f5b62",
   "metadata": {},
   "outputs": [],
   "source": [
    "d_an_det = DeepLearningAnomalyDetection2.DeepLearningAnomalyDetection()\n",
    "true_anomalies, reconstructed_anomalies = d_an_det.train_test_model(normal_dataset_df, anomalous_dataset, 'autoencoder', plots=[0,0,1,1])"
   ]
  },
  {
   "cell_type": "code",
   "execution_count": null,
   "id": "eb69652f-3966-4c54-a4a6-65e280ee832f",
   "metadata": {},
   "outputs": [],
   "source": [
    "d_an_det = DeepLearningAnomalyDetection2.DeepLearningAnomalyDetection()\n",
    "true_anomalies_vae, reconstructed_anomalies_vae = d_an_det.train_test_model(normal_dataset_df, anomalous_dataset, 'vae', plots=[0,0,1,1])"
   ]
  },
  {
   "cell_type": "markdown",
   "id": "d7d5f6c4-9310-45c5-8456-b885ebc6e3be",
   "metadata": {},
   "source": [
    "## Ensemble method"
   ]
  },
  {
   "cell_type": "code",
   "execution_count": null,
   "id": "38bf125b-0b38-4d4b-8667-0ef17b5ac37d",
   "metadata": {},
   "outputs": [],
   "source": [
    "d_an_det.ensemble_method(normal_dataset_df, anomalous_dataset)"
   ]
  },
  {
   "cell_type": "code",
   "execution_count": null,
   "id": "526f718f-33b8-4543-b6f2-c52f0469c78c",
   "metadata": {},
   "outputs": [],
   "source": [
    "# Example predictions from two models (replace with your actual predictions)\n",
    "predictions_model1 = reconstructed_anomalies\n",
    "predictions_model2 = reconstructed_anomalies_vae\n",
    "\n",
    "# Combine predictions using logical OR (voting scheme)\n",
    "combined_predictions = np.logical_and(predictions_model1, predictions_model2).astype(int)\n",
    "\n",
    "# Example thresholding (adjust as needed)\n",
    "threshold = 0.5  # Simple majority voting\n",
    "\n",
    "# Convert to final anomaly predictions based on threshold\n",
    "final_predictions = (combined_predictions >= threshold).astype(int)\n",
    "\n",
    "# Print or use the final predictions\n",
    "print(\"Combined Predictions:\", combined_predictions)\n",
    "print(\"Final Anomaly Predictions:\", final_predictions)"
   ]
  },
  {
   "cell_type": "code",
   "execution_count": null,
   "id": "27818862-17f9-4d42-bba1-1e5c9c4e7017",
   "metadata": {},
   "outputs": [],
   "source": [
    "from sklearn.metrics import confusion_matrix\n",
    "import seaborn as sns\n",
    "import matplotlib.pyplot as plt"
   ]
  },
  {
   "cell_type": "code",
   "execution_count": null,
   "id": "488ae0e5-e2f9-4040-8510-e2af8d3452fb",
   "metadata": {},
   "outputs": [],
   "source": [
    "# Example ground truth and predictions (replace with your actual data)\n",
    "ground_truth = true_anomalies\n",
    "predictions = final_predictions\n",
    "            \n",
    "# Calculate confusion matrix\n",
    "cm = confusion_matrix(ground_truth, predictions)\n",
    "            \n",
    "# Plot confusion matrix\n",
    "plt.figure(figsize=(8, 6))\n",
    "sns.heatmap(cm, annot=True, fmt='d', cmap='Blues', \n",
    "                        xticklabels=['Normal', 'Anomaly'], \n",
    "                        yticklabels=['Normal', 'Anomaly'])\n",
    "plt.xlabel('Predicted')\n",
    "plt.ylabel('Actual')\n",
    "plt.title('Confusion Matrix')\n",
    "plt.show()"
   ]
  }
 ],
 "metadata": {
  "kernelspec": {
   "display_name": "Python 3 (ipykernel)",
   "language": "python",
   "name": "python3"
  },
  "language_info": {
   "codemirror_mode": {
    "name": "ipython",
    "version": 3
   },
   "file_extension": ".py",
   "mimetype": "text/x-python",
   "name": "python",
   "nbconvert_exporter": "python",
   "pygments_lexer": "ipython3",
   "version": "3.9.18"
  }
 },
 "nbformat": 4,
 "nbformat_minor": 5
}
