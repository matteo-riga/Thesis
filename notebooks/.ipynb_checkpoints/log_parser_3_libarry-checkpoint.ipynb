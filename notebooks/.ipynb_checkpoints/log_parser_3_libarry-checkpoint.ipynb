{
 "cells": [
  {
   "cell_type": "markdown",
   "id": "e5cb0635-51e1-4b01-9013-62b3118ff531",
   "metadata": {},
   "source": [
    "# Log Parser Library"
   ]
  },
  {
   "cell_type": "code",
   "execution_count": null,
   "id": "5b26df3c-8a08-4c7b-8284-0a9f24fda5c8",
   "metadata": {},
   "outputs": [],
   "source": []
  }
 ],
 "metadata": {
  "kernelspec": {
   "display_name": "Python 3 (ipykernel)",
   "language": "python",
   "name": "python3"
  },
  "language_info": {
   "codemirror_mode": {
    "name": "ipython",
    "version": 3
   },
   "file_extension": ".py",
   "mimetype": "text/x-python",
   "name": "python",
   "nbconvert_exporter": "python",
   "pygments_lexer": "ipython3",
   "version": "3.9.18"
  }
 },
 "nbformat": 4,
 "nbformat_minor": 5
}
