{
 "cells": [
  {
   "cell_type": "markdown",
   "id": "d1a561c3-1321-4a4a-b3af-1770e5ba6b5e",
   "metadata": {},
   "source": [
    "# Imports"
   ]
  },
  {
   "cell_type": "code",
   "execution_count": null,
   "id": "e5d2423e-b1fc-48e8-bd9d-96b26ca2964b",
   "metadata": {},
   "outputs": [],
   "source": [
    "import os\n",
    "import sys\n",
    "import re\n",
    "import numpy as np\n",
    "import pandas as pd\n",
    "import json"
   ]
  },
  {
   "cell_type": "code",
   "execution_count": null,
   "id": "5057e4e6-53d0-4912-82fb-a394c020120b",
   "metadata": {},
   "outputs": [],
   "source": [
    "sys.path.append('../')\n",
    "sys.path.append('../src/')\n",
    "sys.path.append('../spell/')"
   ]
  },
  {
   "cell_type": "code",
   "execution_count": null,
   "id": "9cd2be6f-ea63-4669-af7e-71a6a52a7ef5",
   "metadata": {},
   "outputs": [],
   "source": [
    "from silent_utilities import *\n",
    "from silent_utilities_2 import *"
   ]
  },
  {
   "cell_type": "markdown",
   "id": "f5b28501-cebe-4fae-b25e-7cf866117873",
   "metadata": {},
   "source": [
    "# Creation of datasets"
   ]
  },
  {
   "cell_type": "markdown",
   "id": "809759d8-655a-4b8c-bc13-04875ca7943a",
   "metadata": {},
   "source": [
    "## Normal execution"
   ]
  },
  {
   "cell_type": "code",
   "execution_count": null,
   "id": "38f0cca0-f21f-405f-ba80-26ec5da276d4",
   "metadata": {},
   "outputs": [],
   "source": [
    "fp = '../../../../../temp_logs/20240418/login01.laurel.log'\n",
    "df = read(fp)\n",
    "df_expanded = df['message'].apply(parse_audit_log).apply(pd.Series)\n",
    "df = pd.concat([df, df_expanded], axis=1)\n",
    "df.head()\n",
    "df = preprocess_laurel(df)\n",
    "save(df, fp + '.csv')"
   ]
  },
  {
   "cell_type": "code",
   "execution_count": null,
   "id": "9a93f0ad-0b1f-4fa4-a576-87e0d2dce62f",
   "metadata": {},
   "outputs": [],
   "source": [
    "normal_dataset_fp = fp + '.csv'\n",
    "new_path = '../cleaned_data/normal.csv'\n",
    "save(df, new_path)"
   ]
  },
  {
   "cell_type": "markdown",
   "id": "61366ab4-1633-4648-91a3-5284afbbbcdc",
   "metadata": {},
   "source": [
    "## LinPeas noisy execution on laurel"
   ]
  },
  {
   "cell_type": "code",
   "execution_count": null,
   "id": "7abd7244-a42e-4660-80aa-62f61e6828dd",
   "metadata": {},
   "outputs": [],
   "source": [
    "# First type of log file:\n",
    "# laurel_anomalous_new\n",
    "fp = '../data/laurel_anomalous_new/audit.log'\n",
    "fps = [fp]\n",
    "fps += [fp + f'.{str(i)}' for i in range(1,8)]\n",
    "print(fps)"
   ]
  },
  {
   "cell_type": "code",
   "execution_count": null,
   "id": "76445bdd-2e68-459a-8976-57a08164f3e9",
   "metadata": {},
   "outputs": [],
   "source": [
    "for fp in fps:\n",
    "    df = read(fp)\n",
    "    df = preprocess_laurel(df)\n",
    "    save(df, fp + '.csv')"
   ]
  },
  {
   "cell_type": "markdown",
   "id": "e359544d-3ddc-4e66-9d7d-c79bb6976244",
   "metadata": {},
   "source": [
    "## LinPeas silent execution on laurel"
   ]
  },
  {
   "cell_type": "code",
   "execution_count": null,
   "id": "3e749561-a9b0-424f-baf7-63ad8ade318c",
   "metadata": {},
   "outputs": [],
   "source": [
    "# First type of log file:\n",
    "# laurel_anomalous_new\n",
    "fp = '../data/silent/audit.log'\n",
    "fps = [fp]\n",
    "fps += [fp + f'.{str(i)}' for i in range(1,11)]\n",
    "print(fps)"
   ]
  },
  {
   "cell_type": "code",
   "execution_count": null,
   "id": "6044d6ff-fbc0-4ba6-9505-77503dccd9cc",
   "metadata": {},
   "outputs": [],
   "source": [
    "for fp in fps:\n",
    "    df = read(fp)\n",
    "    df = preprocess_laurel(df)\n",
    "    save(df, fp + '.csv')"
   ]
  },
  {
   "cell_type": "code",
   "execution_count": null,
   "id": "7de4220d-12c3-4875-8e48-795220cc2dc7",
   "metadata": {},
   "outputs": [],
   "source": [
    "import os\n",
    "\n",
    "def concatenate_files(input_files, output_file):\n",
    "    with open(output_file, 'w') as outfile:\n",
    "        for filename in input_files:\n",
    "            with open(filename, 'r') as infile:\n",
    "                # Read each input file and write its content to the output file\n",
    "                outfile.write(infile.read())\n",
    "                outfile.write(\"\\n\")  # Optional: Adds a newline between files\n",
    "\n",
    "# List of 10 input files (full paths or filenames)\n",
    "input_files = ['../data/silent/audit.log', '../data/silent/audit.log.1', '../data/silent/audit.log.2', '../data/silent/audit.log.3', '../data/silent/audit.log.4', '../data/silent/audit.log.5', '../data/silent/audit.log.6', '../data/silent/audit.log.7', '../data/silent/audit.log.8', '../data/silent/audit.log.9', '../data/silent/audit.log.10']\n",
    "input_files = input_files[::-1]\n",
    "# Output file where the concatenated content will be written\n",
    "output_file = 'silent.log'\n",
    "\n",
    "# Call the function to concatenate the files\n",
    "concatenate_files(input_files, output_file)\n",
    "\n",
    "print(f\"All files have been concatenated into {output_file}\")"
   ]
  },
  {
   "cell_type": "code",
   "execution_count": null,
   "id": "ce4293aa-9486-427e-9894-375482b7148a",
   "metadata": {},
   "outputs": [],
   "source": [
    "# merge the csv files\n",
    "fp = '../data/silent.log'\n",
    "df = read(fp)\n",
    "df = preprocess_laurel(df)\n",
    "save(df, fp + '.csv')"
   ]
  },
  {
   "cell_type": "markdown",
   "id": "16d756c5-b7a9-4177-9aa2-16be581a64e9",
   "metadata": {},
   "source": [
    "# Preprocessing"
   ]
  },
  {
   "cell_type": "code",
   "execution_count": null,
   "id": "aec3e709-8947-472e-896b-a434b49e5c03",
   "metadata": {},
   "outputs": [],
   "source": []
  },
  {
   "cell_type": "markdown",
   "id": "2828772c-fbc4-48c8-9dd5-2c76a4217193",
   "metadata": {},
   "source": [
    "# Experiments and Results"
   ]
  },
  {
   "cell_type": "code",
   "execution_count": null,
   "id": "8f9bbbc8-5eaf-4b11-90fa-ab447f73fa3b",
   "metadata": {},
   "outputs": [],
   "source": []
  }
 ],
 "metadata": {
  "kernelspec": {
   "display_name": "Python 3 (ipykernel)",
   "language": "python",
   "name": "python3"
  },
  "language_info": {
   "codemirror_mode": {
    "name": "ipython",
    "version": 3
   },
   "file_extension": ".py",
   "mimetype": "text/x-python",
   "name": "python",
   "nbconvert_exporter": "python",
   "pygments_lexer": "ipython3",
   "version": "3.9.18"
  }
 },
 "nbformat": 4,
 "nbformat_minor": 5
}
