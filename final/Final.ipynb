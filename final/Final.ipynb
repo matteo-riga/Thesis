{
 "cells": [
  {
   "cell_type": "markdown",
   "id": "d1a561c3-1321-4a4a-b3af-1770e5ba6b5e",
   "metadata": {},
   "source": [
    "# Imports"
   ]
  },
  {
   "cell_type": "code",
   "execution_count": null,
   "id": "e5d2423e-b1fc-48e8-bd9d-96b26ca2964b",
   "metadata": {},
   "outputs": [],
   "source": [
    "import os\n",
    "import sys\n",
    "import re\n",
    "import numpy as np\n",
    "import pandas as pd\n",
    "import json"
   ]
  },
  {
   "cell_type": "code",
   "execution_count": null,
   "id": "83205b80-9eaa-4bb8-9fb8-ac75ffd00f97",
   "metadata": {},
   "outputs": [],
   "source": [
    "from datetime import datetime, timedelta\n",
    "import hashlib"
   ]
  },
  {
   "cell_type": "code",
   "execution_count": null,
   "id": "5057e4e6-53d0-4912-82fb-a394c020120b",
   "metadata": {},
   "outputs": [],
   "source": [
    "sys.path.append('../')\n",
    "sys.path.append('../src/')\n",
    "sys.path.append('../spell/')"
   ]
  },
  {
   "cell_type": "code",
   "execution_count": null,
   "id": "adc272ea-c0f4-402b-8b12-dd09df74576c",
   "metadata": {},
   "outputs": [],
   "source": [
    "import EncodeCommand\n",
    "import DeepLearningAnomalyDetection2"
   ]
  },
  {
   "cell_type": "code",
   "execution_count": null,
   "id": "9cd2be6f-ea63-4669-af7e-71a6a52a7ef5",
   "metadata": {},
   "outputs": [],
   "source": [
    "from normal_utilities import *\n",
    "from silent_utilities import *\n",
    "from silent_utilities_2 import *\n",
    "from preprocess_utilities import *"
   ]
  },
  {
   "cell_type": "markdown",
   "id": "f5b28501-cebe-4fae-b25e-7cf866117873",
   "metadata": {},
   "source": [
    "# Creation of datasets"
   ]
  },
  {
   "cell_type": "markdown",
   "id": "809759d8-655a-4b8c-bc13-04875ca7943a",
   "metadata": {
    "jp-MarkdownHeadingCollapsed": true
   },
   "source": [
    "## Normal execution"
   ]
  },
  {
   "cell_type": "code",
   "execution_count": null,
   "id": "38f0cca0-f21f-405f-ba80-26ec5da276d4",
   "metadata": {},
   "outputs": [],
   "source": [
    "fp = '../../../../../temp_logs/20240418/login01.laurel.log'\n",
    "df = read(fp)\n",
    "df_expanded = df['message'].apply(parse_audit_log).apply(pd.Series)\n",
    "df = pd.concat([df, df_expanded], axis=1)\n",
    "df.head()\n",
    "df = preprocess_laurel(df)\n",
    "save(df, fp + '.csv')"
   ]
  },
  {
   "cell_type": "code",
   "execution_count": null,
   "id": "9a93f0ad-0b1f-4fa4-a576-87e0d2dce62f",
   "metadata": {},
   "outputs": [],
   "source": [
    "normal_dataset_fp = fp + '.csv'\n",
    "new_path = '../cleaned_data/normal.csv'\n",
    "save(df, new_path)"
   ]
  },
  {
   "cell_type": "markdown",
   "id": "61366ab4-1633-4648-91a3-5284afbbbcdc",
   "metadata": {
    "jp-MarkdownHeadingCollapsed": true
   },
   "source": [
    "## LinPeas noisy execution on laurel"
   ]
  },
  {
   "cell_type": "code",
   "execution_count": null,
   "id": "7abd7244-a42e-4660-80aa-62f61e6828dd",
   "metadata": {},
   "outputs": [],
   "source": [
    "# First type of log file:\n",
    "# laurel_anomalous_new\n",
    "fp = '../data/laurel_anomalous_new/audit.log'\n",
    "fps = [fp]\n",
    "fps += [fp + f'.{str(i)}' for i in range(1,8)]\n",
    "print(fps)"
   ]
  },
  {
   "cell_type": "code",
   "execution_count": null,
   "id": "76445bdd-2e68-459a-8976-57a08164f3e9",
   "metadata": {},
   "outputs": [],
   "source": [
    "for fp in fps:\n",
    "    df = read(fp)\n",
    "    df = preprocess_laurel(df)\n",
    "    save(df, fp + '.csv')"
   ]
  },
  {
   "cell_type": "markdown",
   "id": "e359544d-3ddc-4e66-9d7d-c79bb6976244",
   "metadata": {
    "jp-MarkdownHeadingCollapsed": true
   },
   "source": [
    "## LinPeas silent execution on laurel"
   ]
  },
  {
   "cell_type": "code",
   "execution_count": null,
   "id": "3e749561-a9b0-424f-baf7-63ad8ade318c",
   "metadata": {},
   "outputs": [],
   "source": [
    "# First type of log file:\n",
    "# laurel_anomalous_new\n",
    "fp = '../data/silent/audit.log'\n",
    "fps = [fp]\n",
    "fps += [fp + f'.{str(i)}' for i in range(1,11)]\n",
    "print(fps)"
   ]
  },
  {
   "cell_type": "code",
   "execution_count": null,
   "id": "6044d6ff-fbc0-4ba6-9505-77503dccd9cc",
   "metadata": {},
   "outputs": [],
   "source": [
    "for fp in fps:\n",
    "    df = read(fp)\n",
    "    df = preprocess_laurel(df)\n",
    "    save(df, fp + '.csv')"
   ]
  },
  {
   "cell_type": "code",
   "execution_count": null,
   "id": "7de4220d-12c3-4875-8e48-795220cc2dc7",
   "metadata": {},
   "outputs": [],
   "source": [
    "import os\n",
    "\n",
    "def concatenate_files(input_files, output_file):\n",
    "    with open(output_file, 'w') as outfile:\n",
    "        for filename in input_files:\n",
    "            with open(filename, 'r') as infile:\n",
    "                # Read each input file and write its content to the output file\n",
    "                outfile.write(infile.read())\n",
    "                outfile.write(\"\\n\")  # Optional: Adds a newline between files\n",
    "\n",
    "# List of 10 input files (full paths or filenames)\n",
    "input_files = ['../data/silent/audit.log', '../data/silent/audit.log.1', '../data/silent/audit.log.2', '../data/silent/audit.log.3', '../data/silent/audit.log.4', '../data/silent/audit.log.5', '../data/silent/audit.log.6', '../data/silent/audit.log.7', '../data/silent/audit.log.8', '../data/silent/audit.log.9', '../data/silent/audit.log.10']\n",
    "input_files = input_files[::-1]\n",
    "# Output file where the concatenated content will be written\n",
    "output_file = 'silent.log'\n",
    "\n",
    "# Call the function to concatenate the files\n",
    "concatenate_files(input_files, output_file)\n",
    "\n",
    "print(f\"All files have been concatenated into {output_file}\")"
   ]
  },
  {
   "cell_type": "code",
   "execution_count": null,
   "id": "ce4293aa-9486-427e-9894-375482b7148a",
   "metadata": {},
   "outputs": [],
   "source": [
    "# merge the csv files\n",
    "fp = '../data/silent.log'\n",
    "df = read(fp)\n",
    "df = preprocess_laurel(df)\n",
    "save(df, fp + '.csv')"
   ]
  },
  {
   "cell_type": "markdown",
   "id": "16d756c5-b7a9-4177-9aa2-16be581a64e9",
   "metadata": {},
   "source": [
    "# Preprocessing"
   ]
  },
  {
   "cell_type": "markdown",
   "id": "d0658fe1-244a-433e-ae40-89e01e1e74db",
   "metadata": {},
   "source": [
    "## Data Reading"
   ]
  },
  {
   "cell_type": "code",
   "execution_count": null,
   "id": "aec3e709-8947-472e-896b-a434b49e5c03",
   "metadata": {},
   "outputs": [],
   "source": [
    "normal = pd.read_csv('../cleaned_data/normal.csv')\n",
    "anomalous = pd.read_csv('../cleaned_data/anomalous0.csv')\n",
    "silent = pd.read_csv('../cleaned_data/silent.log.csv')"
   ]
  },
  {
   "cell_type": "code",
   "execution_count": null,
   "id": "8a6556be-c331-4404-8733-3b5e9514fbf2",
   "metadata": {},
   "outputs": [],
   "source": [
    "encoder = EncodeCommand.EncodeCommand()\n",
    "normal_ = preprocess(normal,encoder)\n",
    "anomalous_ = preprocess(anomalous, encoder)\n",
    "silent_ = preprocess(silent, encoder)"
   ]
  },
  {
   "cell_type": "code",
   "execution_count": null,
   "id": "14fb7ca5-cc60-49d3-9fb9-e026ba06cd36",
   "metadata": {},
   "outputs": [],
   "source": []
  },
  {
   "cell_type": "markdown",
   "id": "2828772c-fbc4-48c8-9dd5-2c76a4217193",
   "metadata": {},
   "source": [
    "# Experiments and Results"
   ]
  },
  {
   "cell_type": "markdown",
   "id": "27599098-ee88-4817-8230-7cf6b4daf82d",
   "metadata": {},
   "source": [
    "## Statistics and ML"
   ]
  },
  {
   "cell_type": "markdown",
   "id": "4546af80-fb2b-4ff4-b58b-5d5e8554b1b1",
   "metadata": {},
   "source": [
    "### Clustering"
   ]
  },
  {
   "cell_type": "markdown",
   "id": "e5770553-3721-438f-81da-a52b113a7895",
   "metadata": {},
   "source": [
    "#### Spell"
   ]
  },
  {
   "cell_type": "markdown",
   "id": "c24c8a71-9427-4724-8da2-5f8c6ab991b9",
   "metadata": {},
   "source": [
    "#### Spell (Modified Edit Distance)"
   ]
  },
  {
   "cell_type": "markdown",
   "id": "5713cb4f-fadd-45ee-9ed4-89c578d0da31",
   "metadata": {},
   "source": [
    "### Dimensionality Reduction"
   ]
  },
  {
   "cell_type": "markdown",
   "id": "f5896e18-fa43-422b-b48b-c8500e137d6f",
   "metadata": {},
   "source": [
    "#### PCA"
   ]
  },
  {
   "cell_type": "markdown",
   "id": "34dc0e9c-ad24-41da-8321-97df219bea62",
   "metadata": {},
   "source": [
    "#### t-SNE"
   ]
  },
  {
   "cell_type": "markdown",
   "id": "3cb45ff9-8fc1-4831-85b5-ad4bbb46bb4d",
   "metadata": {},
   "source": [
    "#### uMAP"
   ]
  },
  {
   "cell_type": "markdown",
   "id": "8b481217-d189-43ec-9422-69a1fdeeaec0",
   "metadata": {},
   "source": [
    "### Anomaly Detection"
   ]
  },
  {
   "cell_type": "markdown",
   "id": "7ee4c51e-7ebb-4899-bcf0-053552d22c20",
   "metadata": {},
   "source": [
    "#### Isolation Forest"
   ]
  },
  {
   "cell_type": "code",
   "execution_count": null,
   "id": "5c91d0c0-2aef-48d9-9b7a-1664bd57cdb9",
   "metadata": {},
   "outputs": [],
   "source": []
  },
  {
   "cell_type": "markdown",
   "id": "49b8a0d2-0d2b-4f14-990b-ba213e39b85a",
   "metadata": {},
   "source": [
    "## DL Time Independent"
   ]
  },
  {
   "cell_type": "markdown",
   "id": "106796cb-61cc-42a0-afec-164d6d1d0fae",
   "metadata": {},
   "source": [
    "### Normal vs Anomalous (secure)"
   ]
  },
  {
   "cell_type": "code",
   "execution_count": null,
   "id": "ba7a69c8-6904-466e-ba18-4e252b10ad64",
   "metadata": {},
   "outputs": [],
   "source": [
    "# see summary 6 to 9"
   ]
  },
  {
   "cell_type": "markdown",
   "id": "59c72a15-05bb-4471-84f3-400f5b0dab16",
   "metadata": {},
   "source": [
    "### Normal vs Anomalous"
   ]
  },
  {
   "cell_type": "code",
   "execution_count": null,
   "id": "8f9bbbc8-5eaf-4b11-90fa-ab447f73fa3b",
   "metadata": {},
   "outputs": [],
   "source": [
    "d_an_det = DeepLearningAnomalyDetection2.DeepLearningAnomalyDetection()\n",
    "true_anomalies, reconstructed_anomalies, fp_ = d_an_det.train_test_model(normal_, anomalous_, 'autoencoder', laurel=1, plots=[0,0,1,1])"
   ]
  },
  {
   "cell_type": "markdown",
   "id": "30856024-113b-4e97-befc-1400b1ab5a19",
   "metadata": {},
   "source": [
    "### Normal vs Silent"
   ]
  },
  {
   "cell_type": "code",
   "execution_count": null,
   "id": "242b3d9d-379a-41b2-875b-b291a46d92f8",
   "metadata": {},
   "outputs": [],
   "source": [
    "d_an_det = DeepLearningAnomalyDetection2.DeepLearningAnomalyDetection()\n",
    "true_anomalies, reconstructed_anomalies, fp_ = d_an_det.train_test_model(normal_, silent_, 'autoencoder', laurel=1, plots=[0,0,1,1])"
   ]
  },
  {
   "cell_type": "code",
   "execution_count": null,
   "id": "d8fd26ab-1461-404c-966d-b87efd7b3950",
   "metadata": {},
   "outputs": [],
   "source": [
    "# remove features\n",
    "normal_small = normal_.drop(['pid', 'ppid'], axis=1)\n",
    "silent_small = silent_.drop(['pid', 'ppid'], axis=1)"
   ]
  },
  {
   "cell_type": "code",
   "execution_count": null,
   "id": "7dcc06b5-d0cb-4139-a171-f143600c118d",
   "metadata": {},
   "outputs": [],
   "source": [
    "d_an_det = DeepLearningAnomalyDetection2.DeepLearningAnomalyDetection()\n",
    "true_anomalies, reconstructed_anomalies, fp_ = d_an_det.train_test_model(normal_small, silent_small, 'autoencoder', laurel=1, plots=[0,0,1,1])"
   ]
  },
  {
   "cell_type": "markdown",
   "id": "9c714169-115b-43d1-9b24-e1bf747607de",
   "metadata": {},
   "source": [
    "## DL Time Dependent"
   ]
  },
  {
   "cell_type": "code",
   "execution_count": null,
   "id": "85f3dd49-fe1d-4f87-84fb-f1d9137a43dc",
   "metadata": {},
   "outputs": [],
   "source": [
    "# to complete"
   ]
  }
 ],
 "metadata": {
  "kernelspec": {
   "display_name": "Python 3 (ipykernel)",
   "language": "python",
   "name": "python3"
  },
  "language_info": {
   "codemirror_mode": {
    "name": "ipython",
    "version": 3
   },
   "file_extension": ".py",
   "mimetype": "text/x-python",
   "name": "python",
   "nbconvert_exporter": "python",
   "pygments_lexer": "ipython3",
   "version": "3.9.18"
  }
 },
 "nbformat": 4,
 "nbformat_minor": 5
}
